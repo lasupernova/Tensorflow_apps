{
  "nbformat": 4,
  "nbformat_minor": 0,
  "metadata": {
    "colab": {
      "name": "Food_Vision_Project.ipynb",
      "provenance": [],
      "authorship_tag": "ABX9TyOseiwvewOatg4DjBYaZNJB",
      "include_colab_link": true
    },
    "kernelspec": {
      "name": "python3",
      "display_name": "Python 3"
    },
    "language_info": {
      "name": "python"
    },
    "accelerator": "GPU"
  },
  "cells": [
    {
      "cell_type": "markdown",
      "metadata": {
        "id": "view-in-github",
        "colab_type": "text"
      },
      "source": [
        "<a href=\"https://colab.research.google.com/github/lasupernova/Tensorflow_apps/blob/master/Food_Vision_Project.ipynb\" target=\"_parent\"><img src=\"https://colab.research.google.com/assets/colab-badge.svg\" alt=\"Open In Colab\"/></a>"
      ]
    },
    {
      "cell_type": "code",
      "metadata": {
        "colab": {
          "base_uri": "https://localhost:8080/"
        },
        "id": "I04yDAPLvCQr",
        "outputId": "d96a3260-98bb-47d1-ed2d-623deb143017"
      },
      "source": [
        "#ensure GPU compute capability is > 7.0 in order to use mixed precision training acceleration\n",
        "# here: Tesla T4 needed\n",
        "!nvidia-smi -L"
      ],
      "execution_count": 1,
      "outputs": [
        {
          "output_type": "stream",
          "name": "stdout",
          "text": [
            "GPU 0: Tesla K80 (UUID: GPU-061e5942-745e-63d1-a0a5-577846666462)\n"
          ]
        }
      ]
    },
    {
      "cell_type": "code",
      "metadata": {
        "colab": {
          "base_uri": "https://localhost:8080/"
        },
        "id": "Sxuxl9jLz0sO",
        "outputId": "ccb8d5ce-daed-46b6-ffae-196df1f362bd"
      },
      "source": [
        "#import helper functions from Github scripts\n",
        "!wget https://github.com/mrdbourke/tensorflow-deep-learning/blob/main/extras/helper_functions.py"
      ],
      "execution_count": 2,
      "outputs": [
        {
          "output_type": "stream",
          "name": "stdout",
          "text": [
            "--2021-09-23 22:43:07--  https://github.com/mrdbourke/tensorflow-deep-learning/blob/main/extras/helper_functions.py\n",
            "Resolving github.com (github.com)... 52.69.186.44\n",
            "Connecting to github.com (github.com)|52.69.186.44|:443... connected.\n",
            "HTTP request sent, awaiting response... 200 OK\n",
            "Length: unspecified [text/html]\n",
            "Saving to: ‘helper_functions.py’\n",
            "\n",
            "helper_functions.py     [ <=>                ] 232.76K  1.48MB/s    in 0.2s    \n",
            "\n",
            "2021-09-23 22:43:08 (1.48 MB/s) - ‘helper_functions.py’ saved [238347]\n",
            "\n"
          ]
        }
      ]
    },
    {
      "cell_type": "code",
      "metadata": {
        "id": "m4ah7CKQ07u2"
      },
      "source": [
        ""
      ],
      "execution_count": null,
      "outputs": []
    }
  ]
}