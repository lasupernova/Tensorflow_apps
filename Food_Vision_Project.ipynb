{
  "nbformat": 4,
  "nbformat_minor": 0,
  "metadata": {
    "colab": {
      "name": "Food_Vision_Project.ipynb",
      "provenance": [],
      "authorship_tag": "ABX9TyOhQTWrHBEckV52uJqpPeeS",
      "include_colab_link": true
    },
    "kernelspec": {
      "name": "python3",
      "display_name": "Python 3"
    },
    "language_info": {
      "name": "python"
    },
    "accelerator": "GPU"
  },
  "cells": [
    {
      "cell_type": "markdown",
      "metadata": {
        "id": "view-in-github",
        "colab_type": "text"
      },
      "source": [
        "<a href=\"https://colab.research.google.com/github/lasupernova/Tensorflow_apps/blob/master/Food_Vision_Project.ipynb\" target=\"_parent\"><img src=\"https://colab.research.google.com/assets/colab-badge.svg\" alt=\"Open In Colab\"/></a>"
      ]
    },
    {
      "cell_type": "code",
      "metadata": {
        "colab": {
          "base_uri": "https://localhost:8080/"
        },
        "id": "I04yDAPLvCQr",
        "outputId": "d96a3260-98bb-47d1-ed2d-623deb143017"
      },
      "source": [
        "#ensure GPU compute capability is > 7.0 in order to use mixed precision training acceleration\n",
        "# here: Tesla T4 needed\n",
        "!nvidia-smi -L"
      ],
      "execution_count": 1,
      "outputs": [
        {
          "output_type": "stream",
          "name": "stdout",
          "text": [
            "GPU 0: Tesla K80 (UUID: GPU-061e5942-745e-63d1-a0a5-577846666462)\n"
          ]
        }
      ]
    },
    {
      "cell_type": "code",
      "metadata": {
        "colab": {
          "base_uri": "https://localhost:8080/"
        },
        "id": "Sxuxl9jLz0sO",
        "outputId": "0603a1f1-80ac-47f4-ce5b-39876c180a40"
      },
      "source": [
        "#download helper functions script from Github\n",
        "!wget https://raw.githubusercontent.com/lasupernova/Tensorflow_apps/master/helpers.py"
      ],
      "execution_count": 19,
      "outputs": [
        {
          "output_type": "stream",
          "name": "stdout",
          "text": [
            "--2021-09-23 22:56:32--  https://raw.githubusercontent.com/lasupernova/Tensorflow_apps/master/helpers.py\n",
            "Resolving raw.githubusercontent.com (raw.githubusercontent.com)... 185.199.108.133, 185.199.111.133, 185.199.110.133, ...\n",
            "Connecting to raw.githubusercontent.com (raw.githubusercontent.com)|185.199.108.133|:443... connected.\n",
            "HTTP request sent, awaiting response... 200 OK\n",
            "Length: 10251 (10K) [text/plain]\n",
            "Saving to: ‘helpers.py’\n",
            "\n",
            "\rhelpers.py            0%[                    ]       0  --.-KB/s               \rhelpers.py          100%[===================>]  10.01K  --.-KB/s    in 0s      \n",
            "\n",
            "2021-09-23 22:56:32 (41.7 MB/s) - ‘helpers.py’ saved [10251/10251]\n",
            "\n"
          ]
        }
      ]
    },
    {
      "cell_type": "code",
      "metadata": {
        "id": "m4ah7CKQ07u2"
      },
      "source": [
        "#import helper functions from script\n",
        "from helpers import create_tensorboard_callback, plot_loss_curves#, compare_histories "
      ],
      "execution_count": 21,
      "outputs": []
    },
    {
      "cell_type": "code",
      "metadata": {
        "id": "kbK8_grP4FUF"
      },
      "source": [
        ""
      ],
      "execution_count": null,
      "outputs": []
    },
    {
      "cell_type": "code",
      "metadata": {
        "id": "8MpUSTtu2Me4"
      },
      "source": [
        ""
      ],
      "execution_count": null,
      "outputs": []
    }
  ]
}