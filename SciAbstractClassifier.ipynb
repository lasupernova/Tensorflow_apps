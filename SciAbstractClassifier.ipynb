{
  "nbformat": 4,
  "nbformat_minor": 0,
  "metadata": {
    "colab": {
      "name": "SkimLit.ipynb",
      "provenance": [],
      "authorship_tag": "ABX9TyN+c+dH2dnfazrLyf0LBTVy",
      "include_colab_link": true
    },
    "kernelspec": {
      "name": "python3",
      "display_name": "Python 3"
    },
    "language_info": {
      "name": "python"
    },
    "accelerator": "GPU"
  },
  "cells": [
    {
      "cell_type": "markdown",
      "metadata": {
        "id": "view-in-github",
        "colab_type": "text"
      },
      "source": [
        "<a href=\"https://colab.research.google.com/github/lasupernova/Tensorflow_apps/blob/master/SciAbstractClassifier.ipynb\" target=\"_parent\"><img src=\"https://colab.research.google.com/assets/colab-badge.svg\" alt=\"Open In Colab\"/></a>"
      ]
    },
    {
      "cell_type": "markdown",
      "metadata": {
        "id": "5tz0z1GzcOJZ"
      },
      "source": [
        "An NLP model that makes reading scientific abstract easier by separating an abstract into 5 parts.\n",
        "\n",
        " - Background\n",
        " - Objectives\n",
        " - Methods\n",
        " - Results\n",
        " - Conclusion\n",
        "\n",
        "The model aims to replicate and modify (improved) the models built in the following paper:\n",
        "https://arxiv.org/abs/1710.06071"
      ]
    },
    {
      "cell_type": "code",
      "metadata": {
        "colab": {
          "base_uri": "https://localhost:8080/"
        },
        "id": "0lQ6gTRsX6O4",
        "outputId": "6a67f721-b06b-4b6b-8b5c-026f00296873"
      },
      "source": [
        "#check access to GPU\n",
        "!nvidia-smi -L"
      ],
      "execution_count": 1,
      "outputs": [
        {
          "output_type": "stream",
          "name": "stdout",
          "text": [
            "GPU 0: Tesla K80 (UUID: GPU-83ae2c1d-2251-432a-b141-97fb9e978afc)\n"
          ]
        }
      ]
    },
    {
      "cell_type": "markdown",
      "metadata": {
        "id": "LzCDoIbgctl_"
      },
      "source": [
        "The PubMed 200k RCT dataset (https://github.com/Franck-Dernoncourt/pubmed-rct)  will be used for training the model, based on the following paper:\n",
        "\n",
        "https://arxiv.org/abs/1710.06071"
      ]
    },
    {
      "cell_type": "code",
      "metadata": {
        "colab": {
          "base_uri": "https://localhost:8080/"
        },
        "id": "hMJPjCVYcost",
        "outputId": "cd9b8c7f-771a-4d1d-cf62-54de91c159fa"
      },
      "source": [
        "#download data\n",
        "!git clone https://github.com/Franck-Dernoncourt/pubmed-rct\n",
        "!ls pubmed-rct"
      ],
      "execution_count": 2,
      "outputs": [
        {
          "output_type": "stream",
          "name": "stdout",
          "text": [
            "Cloning into 'pubmed-rct'...\n",
            "remote: Enumerating objects: 33, done.\u001b[K\n",
            "remote: Counting objects: 100% (3/3), done.\u001b[K\n",
            "remote: Compressing objects: 100% (3/3), done.\u001b[K\n",
            "remote: Total 33 (delta 0), reused 0 (delta 0), pack-reused 30\u001b[K\n",
            "Unpacking objects: 100% (33/33), done.\n",
            "PubMed_200k_RCT\n",
            "PubMed_200k_RCT_numbers_replaced_with_at_sign\n",
            "PubMed_20k_RCT\n",
            "PubMed_20k_RCT_numbers_replaced_with_at_sign\n",
            "README.md\n"
          ]
        }
      ]
    },
    {
      "cell_type": "code",
      "metadata": {
        "id": "wyAO8lqHe7un"
      },
      "source": [
        "#imports\n",
        "import os\n",
        "import pandas as pd\n",
        "import numpy as np\n",
        "import matplotlib.pyplot as plt\n",
        "from sklearn.preprocessing import OneHotEncoder, LabelEncoder\n",
        "import tensorflow as tf"
      ],
      "execution_count": 179,
      "outputs": []
    },
    {
      "cell_type": "markdown",
      "metadata": {
        "id": "Nz8MweW6d2OY"
      },
      "source": [
        "## Model using 10% of data set"
      ]
    },
    {
      "cell_type": "code",
      "metadata": {
        "colab": {
          "base_uri": "https://localhost:8080/"
        },
        "id": "xd65P5B9d11H",
        "outputId": "38891ac2-fdc5-48f0-c120-ddff505ca807"
      },
      "source": [
        "#check pubmed_20k_rct dataset files\n",
        "!ls pubmed-rct/PubMed_20k_RCT_numbers_replaced_with_at_sign/"
      ],
      "execution_count": 5,
      "outputs": [
        {
          "output_type": "stream",
          "name": "stdout",
          "text": [
            "dev.txt  test.txt  train.txt\n"
          ]
        }
      ]
    },
    {
      "cell_type": "markdown",
      "metadata": {
        "id": "SRIjQCSWeXZu"
      },
      "source": [
        "NOTE: <br>\n",
        "train.txt - train dataset<br>\n",
        "test.txt - test dataset<br>\n",
        "dev.txt - validation dataset<br>"
      ]
    },
    {
      "cell_type": "code",
      "metadata": {
        "id": "dEPzjAcTddvQ"
      },
      "source": [
        "DATA_DIR = \"/content/pubmed-rct/PubMed_20k_RCT_numbers_replaced_with_at_sign\""
      ],
      "execution_count": 6,
      "outputs": []
    },
    {
      "cell_type": "code",
      "metadata": {
        "colab": {
          "base_uri": "https://localhost:8080/"
        },
        "id": "kt34l0Zbe3HK",
        "outputId": "c4f25d6b-5e86-49d8-c378-062f5d900907"
      },
      "source": [
        "#get list of filenames in dir\n",
        "f_names = [f\"{DATA_DIR}{os.sep}{f_name}\" for f_name in os.listdir(DATA_DIR)]\n",
        "f_names"
      ],
      "execution_count": 10,
      "outputs": [
        {
          "output_type": "execute_result",
          "data": {
            "text/plain": [
              "['/content/pubmed-rct/PubMed_20k_RCT_numbers_replaced_with_at_sign/dev.txt',\n",
              " '/content/pubmed-rct/PubMed_20k_RCT_numbers_replaced_with_at_sign/train.txt',\n",
              " '/content/pubmed-rct/PubMed_20k_RCT_numbers_replaced_with_at_sign/test.txt']"
            ]
          },
          "metadata": {},
          "execution_count": 10
        }
      ]
    },
    {
      "cell_type": "markdown",
      "metadata": {
        "id": "7KThNA05hT-k"
      },
      "source": [
        "### Pre-process data"
      ]
    },
    {
      "cell_type": "code",
      "metadata": {
        "id": "mBVCZjJdfNxi"
      },
      "source": [
        "#read data into variables\n",
        "def import_data_from_txt(f_name):\n",
        "  \"\"\"\n",
        "  Read data contained in specified file and save data (text) to variable to.\n",
        "\n",
        "  PARAMS:\n",
        "    f_name(str) - path to file\n",
        "\n",
        "  RETURNS:\n",
        "    data(lst) - list with text data save as entries\n",
        "  \"\"\"\n",
        "  extension = f_name.split(\".\")[-1]\n",
        "  if extension != \"txt\":\n",
        "    print(\"ERROR! Extension of type .txt required!\")\n",
        "  with open(f_name, \"r\") as f:\n",
        "    return f.readlines()[1:]"
      ],
      "execution_count": 17,
      "outputs": []
    },
    {
      "cell_type": "code",
      "metadata": {
        "id": "Y7AKWuskiaO_"
      },
      "source": [
        "# for file in f_names:\n",
        "#   name = file.split(\"/\")[-1].split(\".\")[0]\n",
        "#   name = "
      ],
      "execution_count": 21,
      "outputs": []
    },
    {
      "cell_type": "code",
      "metadata": {
        "id": "nWCKyfyLjI5c"
      },
      "source": [
        "train_data = import_data_from_txt('/content/pubmed-rct/PubMed_20k_RCT_numbers_replaced_with_at_sign/train.txt')\n",
        "test_data = import_data_from_txt('/content/pubmed-rct/PubMed_20k_RCT_numbers_replaced_with_at_sign/test.txt')\n",
        "val_data = import_data_from_txt('/content/pubmed-rct/PubMed_20k_RCT_numbers_replaced_with_at_sign/dev.txt')"
      ],
      "execution_count": 22,
      "outputs": []
    },
    {
      "cell_type": "code",
      "metadata": {
        "colab": {
          "base_uri": "https://localhost:8080/"
        },
        "id": "CNvt1THikEU0",
        "outputId": "6905c1af-23a3-44e3-dfd7-22aedd222cad"
      },
      "source": [
        "train_data[:20]"
      ],
      "execution_count": 23,
      "outputs": [
        {
          "output_type": "execute_result",
          "data": {
            "text/plain": [
              "['###24293578\\n',\n",
              " 'OBJECTIVE\\tTo investigate the efficacy of @ weeks of daily low-dose oral prednisolone in improving pain , mobility , and systemic low-grade inflammation in the short term and whether the effect would be sustained at @ weeks in older adults with moderate to severe knee osteoarthritis ( OA ) .\\n',\n",
              " 'METHODS\\tA total of @ patients with primary knee OA were randomized @:@ ; @ received @ mg/day of prednisolone and @ received placebo for @ weeks .\\n',\n",
              " 'METHODS\\tOutcome measures included pain reduction and improvement in function scores and systemic inflammation markers .\\n',\n",
              " 'METHODS\\tPain was assessed using the visual analog pain scale ( @-@ mm ) .\\n',\n",
              " 'METHODS\\tSecondary outcome measures included the Western Ontario and McMaster Universities Osteoarthritis Index scores , patient global assessment ( PGA ) of the severity of knee OA , and @-min walk distance ( @MWD ) .\\n',\n",
              " 'METHODS\\tSerum levels of interleukin @ ( IL-@ ) , IL-@ , tumor necrosis factor ( TNF ) - , and high-sensitivity C-reactive protein ( hsCRP ) were measured .\\n',\n",
              " 'RESULTS\\tThere was a clinically relevant reduction in the intervention group compared to the placebo group for knee pain , physical function , PGA , and @MWD at @ weeks .\\n',\n",
              " 'RESULTS\\tThe mean difference between treatment arms ( @ % CI ) was @ ( @-@ @ ) , p < @ ; @ ( @-@ @ ) , p < @ ; @ ( @-@ @ ) , p < @ ; and @ ( @-@ @ ) , p < @ , respectively .\\n',\n",
              " 'RESULTS\\tFurther , there was a clinically relevant reduction in the serum levels of IL-@ , IL-@ , TNF - , and hsCRP at @ weeks in the intervention group when compared to the placebo group .\\n',\n",
              " 'RESULTS\\tThese differences remained significant at @ weeks .\\n',\n",
              " 'RESULTS\\tThe Outcome Measures in Rheumatology Clinical Trials-Osteoarthritis Research Society International responder rate was @ % in the intervention group and @ % in the placebo group ( p < @ ) .\\n',\n",
              " 'CONCLUSIONS\\tLow-dose oral prednisolone had both a short-term and a longer sustained effect resulting in less knee pain , better physical function , and attenuation of systemic inflammation in older patients with knee OA ( ClinicalTrials.gov identifier NCT@ ) .\\n',\n",
              " '\\n',\n",
              " '###24854809\\n',\n",
              " 'BACKGROUND\\tEmotional eating is associated with overeating and the development of obesity .\\n',\n",
              " 'BACKGROUND\\tYet , empirical evidence for individual ( trait ) differences in emotional eating and cognitive mechanisms that contribute to eating during sad mood remain equivocal .\\n',\n",
              " 'OBJECTIVE\\tThe aim of this study was to test if attention bias for food moderates the effect of self-reported emotional eating during sad mood ( vs neutral mood ) on actual food intake .\\n',\n",
              " 'OBJECTIVE\\tIt was expected that emotional eating is predictive of elevated attention for food and higher food intake after an experimentally induced sad mood and that attentional maintenance on food predicts food intake during a sad versus a neutral mood .\\n',\n",
              " 'METHODS\\tParticipants ( N = @ ) were randomly assigned to one of the two experimental mood induction conditions ( sad/neutral ) .\\n']"
            ]
          },
          "metadata": {},
          "execution_count": 23
        }
      ]
    },
    {
      "cell_type": "code",
      "metadata": {
        "id": "dEMZl5F4kHF8"
      },
      "source": [
        "#create list of dicts to store data in \n",
        "def preprocess_data(f_name):\n",
        "    \"\"\"\n",
        "    Get information from text file specified.\n",
        "    Read data contained in data list into list of dicts, with every data list entry being represented by a dict.\n",
        "\n",
        "    PARAMS:\n",
        "      f_name(str) - path to file\n",
        "\n",
        "    RETURNS:\n",
        "      lstOdct(lst) - list of dicts\n",
        "    \"\"\"\n",
        "    data = import_data_from_txt(f_name)\n",
        "    line_counter = 0\n",
        "    lstOdct = []\n",
        "    for entry in data:\n",
        "      if entry.startswith(\"###\"):\n",
        "        line_counter = 1\n",
        "        new_abstract = []\n",
        "      elif entry == \"\\n\":\n",
        "        line_counter = 0\n",
        "        #get line count for current abstract\n",
        "        total_lines = len(new_abstract)\n",
        "        #append line count for current abstract to each dict in sublist\n",
        "        new_abstract = [dict(item, **{'total_lines':total_lines}) for item in new_abstract]\n",
        "        #add current abstract entries to lstOdct\n",
        "        lstOdct.extend(new_abstract)\n",
        "      else:\n",
        "        label, sentence = entry.strip().split(\"\\t\")\n",
        "        curr_dict = {\n",
        "            \"line_num\" : line_counter,\n",
        "            \"label\" : label.lower(),\n",
        "            \"text\" : sentence.lower()\n",
        "        }\n",
        "        new_abstract.append(curr_dict)\n",
        "        line_counter  += 1\n",
        "    return lstOdct"
      ],
      "execution_count": 135,
      "outputs": []
    },
    {
      "cell_type": "code",
      "metadata": {
        "colab": {
          "base_uri": "https://localhost:8080/"
        },
        "id": "PcBqeqKXoW5p",
        "outputId": "41a34783-3cd3-41e6-b9ff-c6e257bdc947"
      },
      "source": [
        "%%time\n",
        "train_dct = preprocess_data('/content/pubmed-rct/PubMed_20k_RCT_numbers_replaced_with_at_sign/train.txt')\n",
        "test_dct = preprocess_data('/content/pubmed-rct/PubMed_20k_RCT_numbers_replaced_with_at_sign/test.txt')\n",
        "val_dct = preprocess_data('/content/pubmed-rct/PubMed_20k_RCT_numbers_replaced_with_at_sign/dev.txt')"
      ],
      "execution_count": 138,
      "outputs": [
        {
          "output_type": "stream",
          "name": "stdout",
          "text": [
            "CPU times: user 582 ms, sys: 65 ms, total: 647 ms\n",
            "Wall time: 649 ms\n"
          ]
        }
      ]
    },
    {
      "cell_type": "code",
      "metadata": {
        "colab": {
          "base_uri": "https://localhost:8080/"
        },
        "id": "i8L3ACiSozL3",
        "outputId": "d56295f1-f58d-4c80-ea89-b0a95afea407"
      },
      "source": [
        "train_dct[:5]"
      ],
      "execution_count": 139,
      "outputs": [
        {
          "output_type": "execute_result",
          "data": {
            "text/plain": [
              "[{'label': 'objective',\n",
              "  'line_num': 1,\n",
              "  'text': 'to investigate the efficacy of @ weeks of daily low-dose oral prednisolone in improving pain , mobility , and systemic low-grade inflammation in the short term and whether the effect would be sustained at @ weeks in older adults with moderate to severe knee osteoarthritis ( oa ) .',\n",
              "  'total_lines': 12},\n",
              " {'label': 'methods',\n",
              "  'line_num': 2,\n",
              "  'text': 'a total of @ patients with primary knee oa were randomized @:@ ; @ received @ mg/day of prednisolone and @ received placebo for @ weeks .',\n",
              "  'total_lines': 12},\n",
              " {'label': 'methods',\n",
              "  'line_num': 3,\n",
              "  'text': 'outcome measures included pain reduction and improvement in function scores and systemic inflammation markers .',\n",
              "  'total_lines': 12},\n",
              " {'label': 'methods',\n",
              "  'line_num': 4,\n",
              "  'text': 'pain was assessed using the visual analog pain scale ( @-@ mm ) .',\n",
              "  'total_lines': 12},\n",
              " {'label': 'methods',\n",
              "  'line_num': 5,\n",
              "  'text': 'secondary outcome measures included the western ontario and mcmaster universities osteoarthritis index scores , patient global assessment ( pga ) of the severity of knee oa , and @-min walk distance ( @mwd ) .',\n",
              "  'total_lines': 12}]"
            ]
          },
          "metadata": {},
          "execution_count": 139
        }
      ]
    },
    {
      "cell_type": "code",
      "metadata": {
        "colab": {
          "base_uri": "https://localhost:8080/",
          "height": 669
        },
        "id": "FTejjedFrumR",
        "outputId": "bde4edd8-a45c-48ca-8019-e73d1111f5bb"
      },
      "source": [
        "#convert list of dicts into DataFrame in order to visualize\n",
        "train_df = pd.DataFrame(train_dct)\n",
        "test_df = pd.DataFrame(test_dct)\n",
        "val_df = pd.DataFrame(val_dct)\n",
        "train_df.head(20)"
      ],
      "execution_count": 140,
      "outputs": [
        {
          "output_type": "execute_result",
          "data": {
            "text/html": [
              "<div>\n",
              "<style scoped>\n",
              "    .dataframe tbody tr th:only-of-type {\n",
              "        vertical-align: middle;\n",
              "    }\n",
              "\n",
              "    .dataframe tbody tr th {\n",
              "        vertical-align: top;\n",
              "    }\n",
              "\n",
              "    .dataframe thead th {\n",
              "        text-align: right;\n",
              "    }\n",
              "</style>\n",
              "<table border=\"1\" class=\"dataframe\">\n",
              "  <thead>\n",
              "    <tr style=\"text-align: right;\">\n",
              "      <th></th>\n",
              "      <th>line_num</th>\n",
              "      <th>label</th>\n",
              "      <th>text</th>\n",
              "      <th>total_lines</th>\n",
              "    </tr>\n",
              "  </thead>\n",
              "  <tbody>\n",
              "    <tr>\n",
              "      <th>0</th>\n",
              "      <td>1</td>\n",
              "      <td>objective</td>\n",
              "      <td>to investigate the efficacy of @ weeks of dail...</td>\n",
              "      <td>12</td>\n",
              "    </tr>\n",
              "    <tr>\n",
              "      <th>1</th>\n",
              "      <td>2</td>\n",
              "      <td>methods</td>\n",
              "      <td>a total of @ patients with primary knee oa wer...</td>\n",
              "      <td>12</td>\n",
              "    </tr>\n",
              "    <tr>\n",
              "      <th>2</th>\n",
              "      <td>3</td>\n",
              "      <td>methods</td>\n",
              "      <td>outcome measures included pain reduction and i...</td>\n",
              "      <td>12</td>\n",
              "    </tr>\n",
              "    <tr>\n",
              "      <th>3</th>\n",
              "      <td>4</td>\n",
              "      <td>methods</td>\n",
              "      <td>pain was assessed using the visual analog pain...</td>\n",
              "      <td>12</td>\n",
              "    </tr>\n",
              "    <tr>\n",
              "      <th>4</th>\n",
              "      <td>5</td>\n",
              "      <td>methods</td>\n",
              "      <td>secondary outcome measures included the wester...</td>\n",
              "      <td>12</td>\n",
              "    </tr>\n",
              "    <tr>\n",
              "      <th>5</th>\n",
              "      <td>6</td>\n",
              "      <td>methods</td>\n",
              "      <td>serum levels of interleukin @ ( il-@ ) , il-@ ...</td>\n",
              "      <td>12</td>\n",
              "    </tr>\n",
              "    <tr>\n",
              "      <th>6</th>\n",
              "      <td>7</td>\n",
              "      <td>results</td>\n",
              "      <td>there was a clinically relevant reduction in t...</td>\n",
              "      <td>12</td>\n",
              "    </tr>\n",
              "    <tr>\n",
              "      <th>7</th>\n",
              "      <td>8</td>\n",
              "      <td>results</td>\n",
              "      <td>the mean difference between treatment arms ( @...</td>\n",
              "      <td>12</td>\n",
              "    </tr>\n",
              "    <tr>\n",
              "      <th>8</th>\n",
              "      <td>9</td>\n",
              "      <td>results</td>\n",
              "      <td>further , there was a clinically relevant redu...</td>\n",
              "      <td>12</td>\n",
              "    </tr>\n",
              "    <tr>\n",
              "      <th>9</th>\n",
              "      <td>10</td>\n",
              "      <td>results</td>\n",
              "      <td>these differences remained significant at @ we...</td>\n",
              "      <td>12</td>\n",
              "    </tr>\n",
              "    <tr>\n",
              "      <th>10</th>\n",
              "      <td>11</td>\n",
              "      <td>results</td>\n",
              "      <td>the outcome measures in rheumatology clinical ...</td>\n",
              "      <td>12</td>\n",
              "    </tr>\n",
              "    <tr>\n",
              "      <th>11</th>\n",
              "      <td>12</td>\n",
              "      <td>conclusions</td>\n",
              "      <td>low-dose oral prednisolone had both a short-te...</td>\n",
              "      <td>12</td>\n",
              "    </tr>\n",
              "    <tr>\n",
              "      <th>12</th>\n",
              "      <td>1</td>\n",
              "      <td>background</td>\n",
              "      <td>emotional eating is associated with overeating...</td>\n",
              "      <td>11</td>\n",
              "    </tr>\n",
              "    <tr>\n",
              "      <th>13</th>\n",
              "      <td>2</td>\n",
              "      <td>background</td>\n",
              "      <td>yet , empirical evidence for individual ( trai...</td>\n",
              "      <td>11</td>\n",
              "    </tr>\n",
              "    <tr>\n",
              "      <th>14</th>\n",
              "      <td>3</td>\n",
              "      <td>objective</td>\n",
              "      <td>the aim of this study was to test if attention...</td>\n",
              "      <td>11</td>\n",
              "    </tr>\n",
              "    <tr>\n",
              "      <th>15</th>\n",
              "      <td>4</td>\n",
              "      <td>objective</td>\n",
              "      <td>it was expected that emotional eating is predi...</td>\n",
              "      <td>11</td>\n",
              "    </tr>\n",
              "    <tr>\n",
              "      <th>16</th>\n",
              "      <td>5</td>\n",
              "      <td>methods</td>\n",
              "      <td>participants ( n = @ ) were randomly assigned ...</td>\n",
              "      <td>11</td>\n",
              "    </tr>\n",
              "    <tr>\n",
              "      <th>17</th>\n",
              "      <td>6</td>\n",
              "      <td>methods</td>\n",
              "      <td>attentional biases for high caloric foods were...</td>\n",
              "      <td>11</td>\n",
              "    </tr>\n",
              "    <tr>\n",
              "      <th>18</th>\n",
              "      <td>7</td>\n",
              "      <td>methods</td>\n",
              "      <td>self-reported emotional eating was assessed wi...</td>\n",
              "      <td>11</td>\n",
              "    </tr>\n",
              "    <tr>\n",
              "      <th>19</th>\n",
              "      <td>8</td>\n",
              "      <td>results</td>\n",
              "      <td>hierarchical multivariate regression modeling ...</td>\n",
              "      <td>11</td>\n",
              "    </tr>\n",
              "  </tbody>\n",
              "</table>\n",
              "</div>"
            ],
            "text/plain": [
              "    line_num  ... total_lines\n",
              "0          1  ...          12\n",
              "1          2  ...          12\n",
              "2          3  ...          12\n",
              "3          4  ...          12\n",
              "4          5  ...          12\n",
              "5          6  ...          12\n",
              "6          7  ...          12\n",
              "7          8  ...          12\n",
              "8          9  ...          12\n",
              "9         10  ...          12\n",
              "10        11  ...          12\n",
              "11        12  ...          12\n",
              "12         1  ...          11\n",
              "13         2  ...          11\n",
              "14         3  ...          11\n",
              "15         4  ...          11\n",
              "16         5  ...          11\n",
              "17         6  ...          11\n",
              "18         7  ...          11\n",
              "19         8  ...          11\n",
              "\n",
              "[20 rows x 4 columns]"
            ]
          },
          "metadata": {},
          "execution_count": 140
        }
      ]
    },
    {
      "cell_type": "code",
      "metadata": {
        "id": "_smxIcMdsYkY"
      },
      "source": [
        "# check what the distribution of abstract length is\n",
        "len_distrib_sorted = train_df.total_lines.value_counts().sort_values(ascending=False).to_frame()"
      ],
      "execution_count": 141,
      "outputs": []
    },
    {
      "cell_type": "code",
      "metadata": {
        "id": "Jb2y53jou7kL"
      },
      "source": [
        "# check what the distribution of abstract length is\n",
        "len_distrib = train_df.total_lines.value_counts().to_frame().sort_index()"
      ],
      "execution_count": 142,
      "outputs": []
    },
    {
      "cell_type": "code",
      "metadata": {
        "colab": {
          "base_uri": "https://localhost:8080/",
          "height": 265
        },
        "id": "qAEdGW7ct6tH",
        "outputId": "75836134-b745-4bcb-c37b-16056d808186"
      },
      "source": [
        "train_df.total_lines.plot.hist(bins=len(len_distrib))\n",
        "plt.show()"
      ],
      "execution_count": 143,
      "outputs": [
        {
          "output_type": "display_data",
          "data": {
            "image/png": "[encoded data removed]",
            "text/plain": [
              "<Figure size 432x288 with 1 Axes>"
            ]
          },
          "metadata": {
            "needs_background": "light"
          }
        }
      ]
    },
    {
      "cell_type": "code",
      "metadata": {
        "colab": {
          "base_uri": "https://localhost:8080/",
          "height": 265
        },
        "id": "2Y5rlLtQsz4q",
        "outputId": "7a120b0c-ceb0-4c1c-85dd-85f5edb8aba8"
      },
      "source": [
        "len_distrib.plot()\n",
        "plt.show()"
      ],
      "execution_count": 108,
      "outputs": [
        {
          "output_type": "display_data",
          "data": {
            "image/png": "[encoded data removed]",
            "text/plain": [
              "<Figure size 432x288 with 1 Axes>"
            ]
          },
          "metadata": {
            "needs_background": "light"
          }
        }
      ]
    },
    {
      "cell_type": "code",
      "metadata": {
        "id": "RSrZ64gxvZL3"
      },
      "source": [
        "# check what the distribution of abstract labels is\n",
        "label_distrib = train_df.label.value_counts()"
      ],
      "execution_count": 110,
      "outputs": []
    },
    {
      "cell_type": "code",
      "metadata": {
        "colab": {
          "base_uri": "https://localhost:8080/",
          "height": 327
        },
        "id": "A-0SQz-qvgdl",
        "outputId": "ed220868-ecd1-4e6e-f9a5-ee02a81332f3"
      },
      "source": [
        "label_distrib.plot(kind=\"bar\")\n",
        "plt.show() \n"
      ],
      "execution_count": 119,
      "outputs": [
        {
          "output_type": "display_data",
          "data": {
            "image/png": "[encoded data removed]",
            "text/plain": [
              "<Figure size 432x288 with 1 Axes>"
            ]
          },
          "metadata": {
            "needs_background": "light"
          }
        }
      ]
    },
    {
      "cell_type": "markdown",
      "metadata": {
        "id": "KHZiL1dwwevI"
      },
      "source": [
        "### Encode data\n",
        "\n",
        " - save text (x) and labels (y) to separate lists to pass on to ML model later on\n",
        " -convet labels to numeric form using OneHotEncoding"
      ]
    },
    {
      "cell_type": "code",
      "metadata": {
        "colab": {
          "base_uri": "https://localhost:8080/"
        },
        "id": "_Ot8KNVhwaqF",
        "outputId": "0834c9ac-9121-4345-c3b8-afe2b883eb99"
      },
      "source": [
        "X_train = train_df[\"text\"].to_list()\n",
        "X_test = test_df[\"text\"].to_list()\n",
        "X_val = val_df[\"text\"].to_list()\n",
        "len(X_train), len(X_test), len(X_val)"
      ],
      "execution_count": 144,
      "outputs": [
        {
          "output_type": "execute_result",
          "data": {
            "text/plain": [
              "(180040, 30135, 30212)"
            ]
          },
          "metadata": {},
          "execution_count": 144
        }
      ]
    },
    {
      "cell_type": "code",
      "metadata": {
        "colab": {
          "base_uri": "https://localhost:8080/"
        },
        "id": "ynK4MpVGwdRJ",
        "outputId": "463546e0-49b1-4760-d253-6c1785472e4f"
      },
      "source": [
        "y_train = train_df[\"label\"].to_list()\n",
        "y_test = test_df[\"label\"].to_list()\n",
        "y_val = val_df[\"label\"].to_list()\n",
        "len(y_train), len(y_test), len(y_val)"
      ],
      "execution_count": 145,
      "outputs": [
        {
          "output_type": "execute_result",
          "data": {
            "text/plain": [
              "(180040, 30135, 30212)"
            ]
          },
          "metadata": {},
          "execution_count": 145
        }
      ]
    },
    {
      "cell_type": "code",
      "metadata": {
        "colab": {
          "base_uri": "https://localhost:8080/"
        },
        "id": "z14BFSeNxRm9",
        "outputId": "7a0e2765-12ec-44b6-8982-b677ba3a834c"
      },
      "source": [
        "X_train[:10]"
      ],
      "execution_count": 147,
      "outputs": [
        {
          "output_type": "execute_result",
          "data": {
            "text/plain": [
              "['to investigate the efficacy of @ weeks of daily low-dose oral prednisolone in improving pain , mobility , and systemic low-grade inflammation in the short term and whether the effect would be sustained at @ weeks in older adults with moderate to severe knee osteoarthritis ( oa ) .',\n",
              " 'a total of @ patients with primary knee oa were randomized @:@ ; @ received @ mg/day of prednisolone and @ received placebo for @ weeks .',\n",
              " 'outcome measures included pain reduction and improvement in function scores and systemic inflammation markers .',\n",
              " 'pain was assessed using the visual analog pain scale ( @-@ mm ) .',\n",
              " 'secondary outcome measures included the western ontario and mcmaster universities osteoarthritis index scores , patient global assessment ( pga ) of the severity of knee oa , and @-min walk distance ( @mwd ) .',\n",
              " 'serum levels of interleukin @ ( il-@ ) , il-@ , tumor necrosis factor ( tnf ) - , and high-sensitivity c-reactive protein ( hscrp ) were measured .',\n",
              " 'there was a clinically relevant reduction in the intervention group compared to the placebo group for knee pain , physical function , pga , and @mwd at @ weeks .',\n",
              " 'the mean difference between treatment arms ( @ % ci ) was @ ( @-@ @ ) , p < @ ; @ ( @-@ @ ) , p < @ ; @ ( @-@ @ ) , p < @ ; and @ ( @-@ @ ) , p < @ , respectively .',\n",
              " 'further , there was a clinically relevant reduction in the serum levels of il-@ , il-@ , tnf - , and hscrp at @ weeks in the intervention group when compared to the placebo group .',\n",
              " 'these differences remained significant at @ weeks .']"
            ]
          },
          "metadata": {},
          "execution_count": 147
        }
      ]
    },
    {
      "cell_type": "code",
      "metadata": {
        "colab": {
          "base_uri": "https://localhost:8080/"
        },
        "id": "ATTMS7mJyYqN",
        "outputId": "4cbe537a-8371-4032-bd26-399eccbfcd9e"
      },
      "source": [
        "y_train[:5]"
      ],
      "execution_count": 150,
      "outputs": [
        {
          "output_type": "execute_result",
          "data": {
            "text/plain": [
              "['objective', 'methods', 'methods', 'methods', 'methods']"
            ]
          },
          "metadata": {},
          "execution_count": 150
        }
      ]
    },
    {
      "cell_type": "code",
      "metadata": {
        "id": "al7t0hA1zNZ1"
      },
      "source": [
        "#get indeces -  convert to array to be ableto use with sklearn OneHotEncoder\n",
        "labels = np.array(y_train)"
      ],
      "execution_count": 164,
      "outputs": []
    },
    {
      "cell_type": "code",
      "metadata": {
        "colab": {
          "base_uri": "https://localhost:8080/"
        },
        "id": "ll7-a4JB0vBZ",
        "outputId": "628906ec-edeb-40b8-a71d-31804f9a699b"
      },
      "source": [
        "labels"
      ],
      "execution_count": 165,
      "outputs": [
        {
          "output_type": "execute_result",
          "data": {
            "text/plain": [
              "array(['objective', 'methods', 'methods', ..., 'results', 'conclusions',\n",
              "       'conclusions'], dtype='<U11')"
            ]
          },
          "metadata": {},
          "execution_count": 165
        }
      ]
    },
    {
      "cell_type": "markdown",
      "metadata": {
        "id": "AkumoYv22zlE"
      },
      "source": [
        "##### One-hot Encoding"
      ]
    },
    {
      "cell_type": "code",
      "metadata": {
        "id": "xCEAtEMZyZl9"
      },
      "source": [
        "#one hot encode labels - non-sparse matrix in order to be compatible with tf.constant()\n",
        "enc = OneHotEncoder(sparse=False)"
      ],
      "execution_count": 162,
      "outputs": []
    },
    {
      "cell_type": "code",
      "metadata": {
        "id": "c4UEL0ayz5f7"
      },
      "source": [
        "encoded_train_labels = enc.fit_transform(labels.reshape(-1, 1)) #fit to training labels AND trasnform those labels"
      ],
      "execution_count": 170,
      "outputs": []
    },
    {
      "cell_type": "code",
      "metadata": {
        "colab": {
          "base_uri": "https://localhost:8080/"
        },
        "id": "ukHvkXiq1XiY",
        "outputId": "5cf7d436-5c9c-452b-b3c8-dd0c2accb34f"
      },
      "source": [
        "encoded_train_labels"
      ],
      "execution_count": 171,
      "outputs": [
        {
          "output_type": "execute_result",
          "data": {
            "text/plain": [
              "array([[0., 0., 0., 1., 0.],\n",
              "       [0., 0., 1., 0., 0.],\n",
              "       [0., 0., 1., 0., 0.],\n",
              "       ...,\n",
              "       [0., 0., 0., 0., 1.],\n",
              "       [0., 1., 0., 0., 0.],\n",
              "       [0., 1., 0., 0., 0.]])"
            ]
          },
          "metadata": {},
          "execution_count": 171
        }
      ]
    },
    {
      "cell_type": "code",
      "metadata": {
        "colab": {
          "base_uri": "https://localhost:8080/"
        },
        "id": "14ntnNExz9DN",
        "outputId": "595918f1-ef27-4fe8-dac1-991fbe2b3729"
      },
      "source": [
        "tf.constant(encoded_train_labels)"
      ],
      "execution_count": 169,
      "outputs": [
        {
          "output_type": "execute_result",
          "data": {
            "text/plain": [
              "<tf.Tensor: shape=(180040, 5), dtype=float64, numpy=\n",
              "array([[0., 0., 0., 1., 0.],\n",
              "       [0., 0., 1., 0., 0.],\n",
              "       [0., 0., 1., 0., 0.],\n",
              "       ...,\n",
              "       [0., 0., 0., 0., 1.],\n",
              "       [0., 1., 0., 0., 0.],\n",
              "       [0., 1., 0., 0., 0.]])>"
            ]
          },
          "metadata": {},
          "execution_count": 169
        }
      ]
    },
    {
      "cell_type": "code",
      "metadata": {
        "id": "iqSC0IZg1JPO"
      },
      "source": [
        "#use fit_transformed encoder to also trasnform validation and test labels\n",
        "encoded_test_labels = enc.transform(np.array(y_test).reshape(-1,1)) #encoder was already fitted (to training labels) - transform test and val labels now\n",
        "encoded_val_labels = enc.transform(np.array(y_val).reshape(-1,1)) "
      ],
      "execution_count": 173,
      "outputs": []
    },
    {
      "cell_type": "markdown",
      "metadata": {
        "id": "8zJIe_6P25vN"
      },
      "source": [
        "##### Label Encoding"
      ]
    },
    {
      "cell_type": "code",
      "metadata": {
        "id": "mxQS1XPM28Jv"
      },
      "source": [
        ""
      ],
      "execution_count": null,
      "outputs": []
    },
    {
      "cell_type": "markdown",
      "metadata": {
        "id": "EmJKxmE73B41"
      },
      "source": [
        "##### Get class names from encoder\n",
        "\n",
        "--> this could be done with any of the two encoders, but here the information in extracted from OneHotEncoder instance (enc)"
      ]
    },
    {
      "cell_type": "code",
      "metadata": {
        "colab": {
          "base_uri": "https://localhost:8080/"
        },
        "id": "5kmHdgKA12Ry",
        "outputId": "b6c01f42-f89c-47a4-a3cc-253971f2ba7a"
      },
      "source": [
        "#get class names and numbers from encoder\n",
        "num_classes = len(enc.categories_)\n",
        "classes = enc.categories_\n",
        "classes"
      ],
      "execution_count": 177,
      "outputs": [
        {
          "output_type": "execute_result",
          "data": {
            "text/plain": [
              "[array(['background', 'conclusions', 'methods', 'objective', 'results'],\n",
              "       dtype='<U11')]"
            ]
          },
          "metadata": {},
          "execution_count": 177
        }
      ]
    },
    {
      "cell_type": "code",
      "metadata": {
        "id": "6jTGd6XX2pcP"
      },
      "source": [
        ""
      ],
      "execution_count": null,
      "outputs": []
    },
    {
      "cell_type": "code",
      "metadata": {
        "id": "8t_H2S6r2dMB"
      },
      "source": [
        ""
      ],
      "execution_count": null,
      "outputs": []
    }
  ]
}