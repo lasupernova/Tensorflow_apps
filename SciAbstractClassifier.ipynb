{
  "nbformat": 4,
  "nbformat_minor": 0,
  "metadata": {
    "colab": {
      "name": "SciAbstractClassifier.ipynb",
      "provenance": [],
      "collapsed_sections": [],
      "authorship_tag": "ABX9TyMHSSlM/l8JeEwl+AH5Z/uZ",
      "include_colab_link": true
    },
    "kernelspec": {
      "name": "python3",
      "display_name": "Python 3"
    },
    "language_info": {
      "name": "python"
    },
    "accelerator": "GPU"
  },
  "cells": [
    {
      "cell_type": "markdown",
      "metadata": {
        "id": "view-in-github",
        "colab_type": "text"
      },
      "source": [
        "<a href=\"https://colab.research.google.com/github/lasupernova/Tensorflow_apps/blob/master/SciAbstractClassifier.ipynb\" target=\"_parent\"><img src=\"https://colab.research.google.com/assets/colab-badge.svg\" alt=\"Open In Colab\"/></a>"
      ]
    },
    {
      "cell_type": "markdown",
      "metadata": {
        "id": "5tz0z1GzcOJZ"
      },
      "source": [
        "An NLP model that makes reading scientific abstract easier by separating an abstract into 5 parts.\n",
        "\n",
        " - Background\n",
        " - Objectives\n",
        " - Methods\n",
        " - Results\n",
        " - Conclusion\n",
        "\n",
        "The model aims to replicate and modify (improved) the models built in the following paper:\n",
        "https://arxiv.org/abs/1710.06071"
      ]
    },
    {
      "cell_type": "code",
      "metadata": {
        "colab": {
          "base_uri": "https://localhost:8080/"
        },
        "id": "0lQ6gTRsX6O4",
        "outputId": "1abc3c7d-090c-4506-8859-3e080a99c4b3"
      },
      "source": [
        "#check access to GPU\n",
        "!nvidia-smi -L"
      ],
      "execution_count": 1,
      "outputs": [
        {
          "output_type": "stream",
          "name": "stdout",
          "text": [
            "GPU 0: Tesla K80 (UUID: GPU-d1dc1e32-69e3-b051-b23b-bb6a12e25de8)\n"
          ]
        }
      ]
    },
    {
      "cell_type": "markdown",
      "metadata": {
        "id": "LzCDoIbgctl_"
      },
      "source": [
        "The PubMed 200k RCT dataset (https://github.com/Franck-Dernoncourt/pubmed-rct)  will be used for training the model, based on the following paper:\n",
        "\n",
        "https://arxiv.org/abs/1710.06071"
      ]
    },
    {
      "cell_type": "code",
      "metadata": {
        "colab": {
          "base_uri": "https://localhost:8080/"
        },
        "id": "hMJPjCVYcost",
        "outputId": "7a116d4f-d3ae-405d-f724-c74ae905ad72"
      },
      "source": [
        "#download data\n",
        "!git clone https://github.com/Franck-Dernoncourt/pubmed-rct\n",
        "!ls pubmed-rct"
      ],
      "execution_count": 2,
      "outputs": [
        {
          "output_type": "stream",
          "name": "stdout",
          "text": [
            "Cloning into 'pubmed-rct'...\n",
            "remote: Enumerating objects: 33, done.\u001b[K\n",
            "remote: Counting objects: 100% (3/3), done.\u001b[K\n",
            "remote: Compressing objects: 100% (3/3), done.\u001b[K\n",
            "remote: Total 33 (delta 0), reused 0 (delta 0), pack-reused 30\u001b[K\n",
            "Unpacking objects: 100% (33/33), done.\n",
            "PubMed_200k_RCT\n",
            "PubMed_200k_RCT_numbers_replaced_with_at_sign\n",
            "PubMed_20k_RCT\n",
            "PubMed_20k_RCT_numbers_replaced_with_at_sign\n",
            "README.md\n"
          ]
        }
      ]
    },
    {
      "cell_type": "code",
      "metadata": {
        "colab": {
          "base_uri": "https://localhost:8080/"
        },
        "id": "X8e7q_DcJ-dU",
        "outputId": "a54b0a3d-2a8f-4796-853f-5b28147818f2"
      },
      "source": [
        "#download helper function to use throughout script\n",
        "!wget https://raw.githubusercontent.com/lasupernova/Tensorflow_apps/master/helpers.py"
      ],
      "execution_count": 3,
      "outputs": [
        {
          "output_type": "stream",
          "name": "stdout",
          "text": [
            "--2021-10-15 16:15:12--  https://raw.githubusercontent.com/lasupernova/Tensorflow_apps/master/helpers.py\n",
            "Resolving raw.githubusercontent.com (raw.githubusercontent.com)... 185.199.108.133, 185.199.109.133, 185.199.110.133, ...\n",
            "Connecting to raw.githubusercontent.com (raw.githubusercontent.com)|185.199.108.133|:443... connected.\n",
            "HTTP request sent, awaiting response... 200 OK\n",
            "Length: 10252 (10K) [text/plain]\n",
            "Saving to: ‘helpers.py’\n",
            "\n",
            "helpers.py          100%[===================>]  10.01K  --.-KB/s    in 0s      \n",
            "\n",
            "2021-10-15 16:15:13 (73.5 MB/s) - ‘helpers.py’ saved [10252/10252]\n",
            "\n"
          ]
        }
      ]
    },
    {
      "cell_type": "code",
      "metadata": {
        "id": "wyAO8lqHe7un"
      },
      "source": [
        "#imports\n",
        "import os\n",
        "import statistics\n",
        "import random\n",
        "import pandas as pd\n",
        "import numpy as np\n",
        "import matplotlib.pyplot as plt\n",
        "from sklearn.preprocessing import OneHotEncoder, LabelEncoder\n",
        "from sklearn.feature_extraction.text import TfidfVectorizer\n",
        "from sklearn.naive_bayes import MultinomialNB\n",
        "from sklearn.pipeline import Pipeline\n",
        "import tensorflow_hub as hub\n",
        "from helpers import calculate_results\n",
        "import tensorflow as tf"
      ],
      "execution_count": 4,
      "outputs": []
    },
    {
      "cell_type": "markdown",
      "metadata": {
        "id": "Nz8MweW6d2OY"
      },
      "source": [
        "## Model using 10% of data set"
      ]
    },
    {
      "cell_type": "code",
      "metadata": {
        "colab": {
          "base_uri": "https://localhost:8080/"
        },
        "id": "xd65P5B9d11H",
        "outputId": "a65766ff-9e9f-4cbb-ce73-67836c5fdfe0"
      },
      "source": [
        "#check pubmed_20k_rct dataset files\n",
        "!ls pubmed-rct/PubMed_20k_RCT_numbers_replaced_with_at_sign/"
      ],
      "execution_count": 5,
      "outputs": [
        {
          "output_type": "stream",
          "name": "stdout",
          "text": [
            "dev.txt  test.txt  train.txt\n"
          ]
        }
      ]
    },
    {
      "cell_type": "markdown",
      "metadata": {
        "id": "SRIjQCSWeXZu"
      },
      "source": [
        "NOTE: <br>\n",
        "train.txt - train dataset<br>\n",
        "test.txt - test dataset<br>\n",
        "dev.txt - validation dataset<br>"
      ]
    },
    {
      "cell_type": "code",
      "metadata": {
        "id": "dEPzjAcTddvQ"
      },
      "source": [
        "DATA_DIR = \"/content/pubmed-rct/PubMed_20k_RCT_numbers_replaced_with_at_sign\""
      ],
      "execution_count": 6,
      "outputs": []
    },
    {
      "cell_type": "code",
      "metadata": {
        "colab": {
          "base_uri": "https://localhost:8080/"
        },
        "id": "kt34l0Zbe3HK",
        "outputId": "6615df8a-712a-47cd-a1a2-09a4db9c379f"
      },
      "source": [
        "#get list of filenames in dir\n",
        "f_names = [f\"{DATA_DIR}{os.sep}{f_name}\" for f_name in os.listdir(DATA_DIR)]\n",
        "f_names"
      ],
      "execution_count": 7,
      "outputs": [
        {
          "output_type": "execute_result",
          "data": {
            "text/plain": [
              "['/content/pubmed-rct/PubMed_20k_RCT_numbers_replaced_with_at_sign/test.txt',\n",
              " '/content/pubmed-rct/PubMed_20k_RCT_numbers_replaced_with_at_sign/train.txt',\n",
              " '/content/pubmed-rct/PubMed_20k_RCT_numbers_replaced_with_at_sign/dev.txt']"
            ]
          },
          "metadata": {},
          "execution_count": 7
        }
      ]
    },
    {
      "cell_type": "markdown",
      "metadata": {
        "id": "7KThNA05hT-k"
      },
      "source": [
        "### Pre-process data"
      ]
    },
    {
      "cell_type": "code",
      "metadata": {
        "id": "mBVCZjJdfNxi"
      },
      "source": [
        "#read data into variables\n",
        "def import_data_from_txt(f_name):\n",
        "  \"\"\"\n",
        "  Read data contained in specified file and save data (text) to variable to.\n",
        "\n",
        "  PARAMS:\n",
        "    f_name(str) - path to file\n",
        "\n",
        "  RETURNS:\n",
        "    data(lst) - list with text data save as entries\n",
        "  \"\"\"\n",
        "  extension = f_name.split(\".\")[-1]\n",
        "  if extension != \"txt\":\n",
        "    print(\"ERROR! Extension of type .txt required!\")\n",
        "  with open(f_name, \"r\") as f:\n",
        "    return f.readlines()"
      ],
      "execution_count": 8,
      "outputs": []
    },
    {
      "cell_type": "code",
      "metadata": {
        "id": "Y7AKWuskiaO_"
      },
      "source": [
        "# for file in f_names:\n",
        "#   name = file.split(\"/\")[-1].split(\".\")[0]\n",
        "#   name = "
      ],
      "execution_count": 9,
      "outputs": []
    },
    {
      "cell_type": "code",
      "metadata": {
        "id": "nWCKyfyLjI5c"
      },
      "source": [
        "train_data = import_data_from_txt('/content/pubmed-rct/PubMed_20k_RCT_numbers_replaced_with_at_sign/train.txt')\n",
        "test_data = import_data_from_txt('/content/pubmed-rct/PubMed_20k_RCT_numbers_replaced_with_at_sign/test.txt')\n",
        "val_data = import_data_from_txt('/content/pubmed-rct/PubMed_20k_RCT_numbers_replaced_with_at_sign/dev.txt')"
      ],
      "execution_count": 10,
      "outputs": []
    },
    {
      "cell_type": "code",
      "metadata": {
        "colab": {
          "base_uri": "https://localhost:8080/"
        },
        "id": "CNvt1THikEU0",
        "outputId": "24a002e6-099d-44a7-b687-f23fe7c4bbbe"
      },
      "source": [
        "train_data[:20]"
      ],
      "execution_count": 11,
      "outputs": [
        {
          "output_type": "execute_result",
          "data": {
            "text/plain": [
              "['###24293578\\n',\n",
              " 'OBJECTIVE\\tTo investigate the efficacy of @ weeks of daily low-dose oral prednisolone in improving pain , mobility , and systemic low-grade inflammation in the short term and whether the effect would be sustained at @ weeks in older adults with moderate to severe knee osteoarthritis ( OA ) .\\n',\n",
              " 'METHODS\\tA total of @ patients with primary knee OA were randomized @:@ ; @ received @ mg/day of prednisolone and @ received placebo for @ weeks .\\n',\n",
              " 'METHODS\\tOutcome measures included pain reduction and improvement in function scores and systemic inflammation markers .\\n',\n",
              " 'METHODS\\tPain was assessed using the visual analog pain scale ( @-@ mm ) .\\n',\n",
              " 'METHODS\\tSecondary outcome measures included the Western Ontario and McMaster Universities Osteoarthritis Index scores , patient global assessment ( PGA ) of the severity of knee OA , and @-min walk distance ( @MWD ) .\\n',\n",
              " 'METHODS\\tSerum levels of interleukin @ ( IL-@ ) , IL-@ , tumor necrosis factor ( TNF ) - , and high-sensitivity C-reactive protein ( hsCRP ) were measured .\\n',\n",
              " 'RESULTS\\tThere was a clinically relevant reduction in the intervention group compared to the placebo group for knee pain , physical function , PGA , and @MWD at @ weeks .\\n',\n",
              " 'RESULTS\\tThe mean difference between treatment arms ( @ % CI ) was @ ( @-@ @ ) , p < @ ; @ ( @-@ @ ) , p < @ ; @ ( @-@ @ ) , p < @ ; and @ ( @-@ @ ) , p < @ , respectively .\\n',\n",
              " 'RESULTS\\tFurther , there was a clinically relevant reduction in the serum levels of IL-@ , IL-@ , TNF - , and hsCRP at @ weeks in the intervention group when compared to the placebo group .\\n',\n",
              " 'RESULTS\\tThese differences remained significant at @ weeks .\\n',\n",
              " 'RESULTS\\tThe Outcome Measures in Rheumatology Clinical Trials-Osteoarthritis Research Society International responder rate was @ % in the intervention group and @ % in the placebo group ( p < @ ) .\\n',\n",
              " 'CONCLUSIONS\\tLow-dose oral prednisolone had both a short-term and a longer sustained effect resulting in less knee pain , better physical function , and attenuation of systemic inflammation in older patients with knee OA ( ClinicalTrials.gov identifier NCT@ ) .\\n',\n",
              " '\\n',\n",
              " '###24854809\\n',\n",
              " 'BACKGROUND\\tEmotional eating is associated with overeating and the development of obesity .\\n',\n",
              " 'BACKGROUND\\tYet , empirical evidence for individual ( trait ) differences in emotional eating and cognitive mechanisms that contribute to eating during sad mood remain equivocal .\\n',\n",
              " 'OBJECTIVE\\tThe aim of this study was to test if attention bias for food moderates the effect of self-reported emotional eating during sad mood ( vs neutral mood ) on actual food intake .\\n',\n",
              " 'OBJECTIVE\\tIt was expected that emotional eating is predictive of elevated attention for food and higher food intake after an experimentally induced sad mood and that attentional maintenance on food predicts food intake during a sad versus a neutral mood .\\n',\n",
              " 'METHODS\\tParticipants ( N = @ ) were randomly assigned to one of the two experimental mood induction conditions ( sad/neutral ) .\\n']"
            ]
          },
          "metadata": {},
          "execution_count": 11
        }
      ]
    },
    {
      "cell_type": "code",
      "metadata": {
        "id": "dEMZl5F4kHF8"
      },
      "source": [
        "#create list of dicts to store data in \n",
        "def preprocess_data(f_name):\n",
        "    \"\"\"\n",
        "    Get information from text file specified.\n",
        "    Read data contained in data list into list of dicts, with every data list entry being represented by a dict.\n",
        "\n",
        "    PARAMS:\n",
        "      f_name(str) - path to file\n",
        "\n",
        "    RETURNS:\n",
        "      lstOdct(lst) - list of dicts\n",
        "    \"\"\"\n",
        "    data = import_data_from_txt(f_name)\n",
        "    line_counter = 0\n",
        "    lstOdct = []\n",
        "    for entry in data:\n",
        "      if entry.startswith(\"###\"):\n",
        "        line_counter = 1\n",
        "        new_abstract = []\n",
        "      elif entry == \"\\n\":\n",
        "        line_counter = 0\n",
        "        #get line count for current abstract\n",
        "        total_lines = len(new_abstract)\n",
        "        #append line count for current abstract to each dict in sublist\n",
        "        new_abstract = [dict(item, **{'total_lines':total_lines}) for item in new_abstract]\n",
        "        #add current abstract entries to lstOdct\n",
        "        lstOdct.extend(new_abstract)\n",
        "      else:\n",
        "        label, sentence = entry.strip().split(\"\\t\")\n",
        "        curr_dict = {\n",
        "            \"line_num\" : line_counter,\n",
        "            \"label\" : label.lower(),\n",
        "            \"text\" : sentence.lower()\n",
        "        }\n",
        "        new_abstract.append(curr_dict)\n",
        "        line_counter  += 1\n",
        "    return lstOdct"
      ],
      "execution_count": 12,
      "outputs": []
    },
    {
      "cell_type": "code",
      "metadata": {
        "colab": {
          "base_uri": "https://localhost:8080/"
        },
        "id": "PcBqeqKXoW5p",
        "outputId": "7ecb61e7-c4c7-494e-d1e1-c340041f4e90"
      },
      "source": [
        "%%time\n",
        "train_dct = preprocess_data('/content/pubmed-rct/PubMed_20k_RCT_numbers_replaced_with_at_sign/train.txt')\n",
        "test_dct = preprocess_data('/content/pubmed-rct/PubMed_20k_RCT_numbers_replaced_with_at_sign/test.txt')\n",
        "val_dct = preprocess_data('/content/pubmed-rct/PubMed_20k_RCT_numbers_replaced_with_at_sign/dev.txt')"
      ],
      "execution_count": 13,
      "outputs": [
        {
          "output_type": "stream",
          "name": "stdout",
          "text": [
            "CPU times: user 527 ms, sys: 96 ms, total: 623 ms\n",
            "Wall time: 629 ms\n"
          ]
        }
      ]
    },
    {
      "cell_type": "code",
      "metadata": {
        "colab": {
          "base_uri": "https://localhost:8080/"
        },
        "id": "i8L3ACiSozL3",
        "outputId": "1d8f942d-5a01-478e-b515-10cd5d72e3d2"
      },
      "source": [
        "train_dct[:5]"
      ],
      "execution_count": 14,
      "outputs": [
        {
          "output_type": "execute_result",
          "data": {
            "text/plain": [
              "[{'label': 'objective',\n",
              "  'line_num': 1,\n",
              "  'text': 'to investigate the efficacy of @ weeks of daily low-dose oral prednisolone in improving pain , mobility , and systemic low-grade inflammation in the short term and whether the effect would be sustained at @ weeks in older adults with moderate to severe knee osteoarthritis ( oa ) .',\n",
              "  'total_lines': 12},\n",
              " {'label': 'methods',\n",
              "  'line_num': 2,\n",
              "  'text': 'a total of @ patients with primary knee oa were randomized @:@ ; @ received @ mg/day of prednisolone and @ received placebo for @ weeks .',\n",
              "  'total_lines': 12},\n",
              " {'label': 'methods',\n",
              "  'line_num': 3,\n",
              "  'text': 'outcome measures included pain reduction and improvement in function scores and systemic inflammation markers .',\n",
              "  'total_lines': 12},\n",
              " {'label': 'methods',\n",
              "  'line_num': 4,\n",
              "  'text': 'pain was assessed using the visual analog pain scale ( @-@ mm ) .',\n",
              "  'total_lines': 12},\n",
              " {'label': 'methods',\n",
              "  'line_num': 5,\n",
              "  'text': 'secondary outcome measures included the western ontario and mcmaster universities osteoarthritis index scores , patient global assessment ( pga ) of the severity of knee oa , and @-min walk distance ( @mwd ) .',\n",
              "  'total_lines': 12}]"
            ]
          },
          "metadata": {},
          "execution_count": 14
        }
      ]
    },
    {
      "cell_type": "code",
      "metadata": {
        "colab": {
          "base_uri": "https://localhost:8080/",
          "height": 669
        },
        "id": "FTejjedFrumR",
        "outputId": "79950c6e-e6be-4955-a614-e075a3f07f95"
      },
      "source": [
        "#convert list of dicts into DataFrame in order to visualize\n",
        "train_df = pd.DataFrame(train_dct)\n",
        "test_df = pd.DataFrame(test_dct)\n",
        "val_df = pd.DataFrame(val_dct)\n",
        "train_df.head(20)"
      ],
      "execution_count": 15,
      "outputs": [
        {
          "output_type": "execute_result",
          "data": {
            "text/html": [
              "<div>\n",
              "<style scoped>\n",
              "    .dataframe tbody tr th:only-of-type {\n",
              "        vertical-align: middle;\n",
              "    }\n",
              "\n",
              "    .dataframe tbody tr th {\n",
              "        vertical-align: top;\n",
              "    }\n",
              "\n",
              "    .dataframe thead th {\n",
              "        text-align: right;\n",
              "    }\n",
              "</style>\n",
              "<table border=\"1\" class=\"dataframe\">\n",
              "  <thead>\n",
              "    <tr style=\"text-align: right;\">\n",
              "      <th></th>\n",
              "      <th>line_num</th>\n",
              "      <th>label</th>\n",
              "      <th>text</th>\n",
              "      <th>total_lines</th>\n",
              "    </tr>\n",
              "  </thead>\n",
              "  <tbody>\n",
              "    <tr>\n",
              "      <th>0</th>\n",
              "      <td>1</td>\n",
              "      <td>objective</td>\n",
              "      <td>to investigate the efficacy of @ weeks of dail...</td>\n",
              "      <td>12</td>\n",
              "    </tr>\n",
              "    <tr>\n",
              "      <th>1</th>\n",
              "      <td>2</td>\n",
              "      <td>methods</td>\n",
              "      <td>a total of @ patients with primary knee oa wer...</td>\n",
              "      <td>12</td>\n",
              "    </tr>\n",
              "    <tr>\n",
              "      <th>2</th>\n",
              "      <td>3</td>\n",
              "      <td>methods</td>\n",
              "      <td>outcome measures included pain reduction and i...</td>\n",
              "      <td>12</td>\n",
              "    </tr>\n",
              "    <tr>\n",
              "      <th>3</th>\n",
              "      <td>4</td>\n",
              "      <td>methods</td>\n",
              "      <td>pain was assessed using the visual analog pain...</td>\n",
              "      <td>12</td>\n",
              "    </tr>\n",
              "    <tr>\n",
              "      <th>4</th>\n",
              "      <td>5</td>\n",
              "      <td>methods</td>\n",
              "      <td>secondary outcome measures included the wester...</td>\n",
              "      <td>12</td>\n",
              "    </tr>\n",
              "    <tr>\n",
              "      <th>5</th>\n",
              "      <td>6</td>\n",
              "      <td>methods</td>\n",
              "      <td>serum levels of interleukin @ ( il-@ ) , il-@ ...</td>\n",
              "      <td>12</td>\n",
              "    </tr>\n",
              "    <tr>\n",
              "      <th>6</th>\n",
              "      <td>7</td>\n",
              "      <td>results</td>\n",
              "      <td>there was a clinically relevant reduction in t...</td>\n",
              "      <td>12</td>\n",
              "    </tr>\n",
              "    <tr>\n",
              "      <th>7</th>\n",
              "      <td>8</td>\n",
              "      <td>results</td>\n",
              "      <td>the mean difference between treatment arms ( @...</td>\n",
              "      <td>12</td>\n",
              "    </tr>\n",
              "    <tr>\n",
              "      <th>8</th>\n",
              "      <td>9</td>\n",
              "      <td>results</td>\n",
              "      <td>further , there was a clinically relevant redu...</td>\n",
              "      <td>12</td>\n",
              "    </tr>\n",
              "    <tr>\n",
              "      <th>9</th>\n",
              "      <td>10</td>\n",
              "      <td>results</td>\n",
              "      <td>these differences remained significant at @ we...</td>\n",
              "      <td>12</td>\n",
              "    </tr>\n",
              "    <tr>\n",
              "      <th>10</th>\n",
              "      <td>11</td>\n",
              "      <td>results</td>\n",
              "      <td>the outcome measures in rheumatology clinical ...</td>\n",
              "      <td>12</td>\n",
              "    </tr>\n",
              "    <tr>\n",
              "      <th>11</th>\n",
              "      <td>12</td>\n",
              "      <td>conclusions</td>\n",
              "      <td>low-dose oral prednisolone had both a short-te...</td>\n",
              "      <td>12</td>\n",
              "    </tr>\n",
              "    <tr>\n",
              "      <th>12</th>\n",
              "      <td>1</td>\n",
              "      <td>background</td>\n",
              "      <td>emotional eating is associated with overeating...</td>\n",
              "      <td>11</td>\n",
              "    </tr>\n",
              "    <tr>\n",
              "      <th>13</th>\n",
              "      <td>2</td>\n",
              "      <td>background</td>\n",
              "      <td>yet , empirical evidence for individual ( trai...</td>\n",
              "      <td>11</td>\n",
              "    </tr>\n",
              "    <tr>\n",
              "      <th>14</th>\n",
              "      <td>3</td>\n",
              "      <td>objective</td>\n",
              "      <td>the aim of this study was to test if attention...</td>\n",
              "      <td>11</td>\n",
              "    </tr>\n",
              "    <tr>\n",
              "      <th>15</th>\n",
              "      <td>4</td>\n",
              "      <td>objective</td>\n",
              "      <td>it was expected that emotional eating is predi...</td>\n",
              "      <td>11</td>\n",
              "    </tr>\n",
              "    <tr>\n",
              "      <th>16</th>\n",
              "      <td>5</td>\n",
              "      <td>methods</td>\n",
              "      <td>participants ( n = @ ) were randomly assigned ...</td>\n",
              "      <td>11</td>\n",
              "    </tr>\n",
              "    <tr>\n",
              "      <th>17</th>\n",
              "      <td>6</td>\n",
              "      <td>methods</td>\n",
              "      <td>attentional biases for high caloric foods were...</td>\n",
              "      <td>11</td>\n",
              "    </tr>\n",
              "    <tr>\n",
              "      <th>18</th>\n",
              "      <td>7</td>\n",
              "      <td>methods</td>\n",
              "      <td>self-reported emotional eating was assessed wi...</td>\n",
              "      <td>11</td>\n",
              "    </tr>\n",
              "    <tr>\n",
              "      <th>19</th>\n",
              "      <td>8</td>\n",
              "      <td>results</td>\n",
              "      <td>hierarchical multivariate regression modeling ...</td>\n",
              "      <td>11</td>\n",
              "    </tr>\n",
              "  </tbody>\n",
              "</table>\n",
              "</div>"
            ],
            "text/plain": [
              "    line_num  ... total_lines\n",
              "0          1  ...          12\n",
              "1          2  ...          12\n",
              "2          3  ...          12\n",
              "3          4  ...          12\n",
              "4          5  ...          12\n",
              "5          6  ...          12\n",
              "6          7  ...          12\n",
              "7          8  ...          12\n",
              "8          9  ...          12\n",
              "9         10  ...          12\n",
              "10        11  ...          12\n",
              "11        12  ...          12\n",
              "12         1  ...          11\n",
              "13         2  ...          11\n",
              "14         3  ...          11\n",
              "15         4  ...          11\n",
              "16         5  ...          11\n",
              "17         6  ...          11\n",
              "18         7  ...          11\n",
              "19         8  ...          11\n",
              "\n",
              "[20 rows x 4 columns]"
            ]
          },
          "metadata": {},
          "execution_count": 15
        }
      ]
    },
    {
      "cell_type": "code",
      "metadata": {
        "id": "_smxIcMdsYkY"
      },
      "source": [
        "# check what the distribution of abstract length is\n",
        "len_distrib_sorted = train_df.total_lines.value_counts().sort_values(ascending=False).to_frame()"
      ],
      "execution_count": 16,
      "outputs": []
    },
    {
      "cell_type": "code",
      "metadata": {
        "id": "Jb2y53jou7kL"
      },
      "source": [
        "# check what the distribution of abstract length is\n",
        "len_distrib = train_df.total_lines.value_counts().to_frame().sort_index()"
      ],
      "execution_count": 17,
      "outputs": []
    },
    {
      "cell_type": "code",
      "metadata": {
        "colab": {
          "base_uri": "https://localhost:8080/",
          "height": 265
        },
        "id": "qAEdGW7ct6tH",
        "outputId": "4b3fb51f-0728-4bab-b95c-783572ee9060"
      },
      "source": [
        "train_df.total_lines.plot.hist(bins=len(len_distrib))\n",
        "plt.show()"
      ],
      "execution_count": 18,
      "outputs": [
        {
          "output_type": "display_data",
          "data": {
            "image/png": "[encoded data removed]",
            "text/plain": [
              "<Figure size 432x288 with 1 Axes>"
            ]
          },
          "metadata": {
            "needs_background": "light"
          }
        }
      ]
    },
    {
      "cell_type": "code",
      "metadata": {
        "colab": {
          "base_uri": "https://localhost:8080/",
          "height": 265
        },
        "id": "2Y5rlLtQsz4q",
        "outputId": "c77b3598-0f01-4c2a-c3ef-51c721f720d0"
      },
      "source": [
        "len_distrib.plot()\n",
        "plt.show()"
      ],
      "execution_count": 19,
      "outputs": [
        {
          "output_type": "display_data",
          "data": {
            "image/png": "[encoded data removed]",
            "text/plain": [
              "<Figure size 432x288 with 1 Axes>"
            ]
          },
          "metadata": {
            "needs_background": "light"
          }
        }
      ]
    },
    {
      "cell_type": "code",
      "metadata": {
        "id": "RSrZ64gxvZL3"
      },
      "source": [
        "# check what the distribution of abstract labels is\n",
        "label_distrib = train_df.label.value_counts()"
      ],
      "execution_count": 20,
      "outputs": []
    },
    {
      "cell_type": "code",
      "metadata": {
        "colab": {
          "base_uri": "https://localhost:8080/",
          "height": 314
        },
        "id": "A-0SQz-qvgdl",
        "outputId": "b1628ef2-72d5-4308-f294-b1fa296ebe7c"
      },
      "source": [
        "label_distrib.plot(kind=\"bar\")\n",
        "plt.show() \n"
      ],
      "execution_count": 21,
      "outputs": [
        {
          "output_type": "display_data",
          "data": {
            "image/png": "[encoded data removed]",
            "text/plain": [
              "<Figure size 432x288 with 1 Axes>"
            ]
          },
          "metadata": {
            "needs_background": "light"
          }
        }
      ]
    },
    {
      "cell_type": "markdown",
      "metadata": {
        "id": "KHZiL1dwwevI"
      },
      "source": [
        "### Encode data\n",
        "\n",
        " - save text (x) and labels (y) to separate lists to pass on to ML model later on\n",
        " -convet labels to numeric form using OneHotEncoding"
      ]
    },
    {
      "cell_type": "code",
      "metadata": {
        "colab": {
          "base_uri": "https://localhost:8080/"
        },
        "id": "_Ot8KNVhwaqF",
        "outputId": "9356549e-0918-4718-e632-31a0aa6b824f"
      },
      "source": [
        "X_train = train_df[\"text\"].to_list()\n",
        "X_test = test_df[\"text\"].to_list()\n",
        "X_val = val_df[\"text\"].to_list()\n",
        "len(X_train), len(X_test), len(X_val)"
      ],
      "execution_count": 22,
      "outputs": [
        {
          "output_type": "execute_result",
          "data": {
            "text/plain": [
              "(180040, 30135, 30212)"
            ]
          },
          "metadata": {},
          "execution_count": 22
        }
      ]
    },
    {
      "cell_type": "code",
      "metadata": {
        "colab": {
          "base_uri": "https://localhost:8080/"
        },
        "id": "ynK4MpVGwdRJ",
        "outputId": "d5bbb821-5da4-41fd-d375-035f0b84d29a"
      },
      "source": [
        "y_train = train_df[\"label\"].to_list()\n",
        "y_test = test_df[\"label\"].to_list()\n",
        "y_val = val_df[\"label\"].to_list()\n",
        "len(y_train), len(y_test), len(y_val)"
      ],
      "execution_count": 23,
      "outputs": [
        {
          "output_type": "execute_result",
          "data": {
            "text/plain": [
              "(180040, 30135, 30212)"
            ]
          },
          "metadata": {},
          "execution_count": 23
        }
      ]
    },
    {
      "cell_type": "code",
      "metadata": {
        "colab": {
          "base_uri": "https://localhost:8080/"
        },
        "id": "z14BFSeNxRm9",
        "outputId": "87d1d4c1-f32a-464c-9549-c3fed9427c93"
      },
      "source": [
        "X_train[:10]"
      ],
      "execution_count": 24,
      "outputs": [
        {
          "output_type": "execute_result",
          "data": {
            "text/plain": [
              "['to investigate the efficacy of @ weeks of daily low-dose oral prednisolone in improving pain , mobility , and systemic low-grade inflammation in the short term and whether the effect would be sustained at @ weeks in older adults with moderate to severe knee osteoarthritis ( oa ) .',\n",
              " 'a total of @ patients with primary knee oa were randomized @:@ ; @ received @ mg/day of prednisolone and @ received placebo for @ weeks .',\n",
              " 'outcome measures included pain reduction and improvement in function scores and systemic inflammation markers .',\n",
              " 'pain was assessed using the visual analog pain scale ( @-@ mm ) .',\n",
              " 'secondary outcome measures included the western ontario and mcmaster universities osteoarthritis index scores , patient global assessment ( pga ) of the severity of knee oa , and @-min walk distance ( @mwd ) .',\n",
              " 'serum levels of interleukin @ ( il-@ ) , il-@ , tumor necrosis factor ( tnf ) - , and high-sensitivity c-reactive protein ( hscrp ) were measured .',\n",
              " 'there was a clinically relevant reduction in the intervention group compared to the placebo group for knee pain , physical function , pga , and @mwd at @ weeks .',\n",
              " 'the mean difference between treatment arms ( @ % ci ) was @ ( @-@ @ ) , p < @ ; @ ( @-@ @ ) , p < @ ; @ ( @-@ @ ) , p < @ ; and @ ( @-@ @ ) , p < @ , respectively .',\n",
              " 'further , there was a clinically relevant reduction in the serum levels of il-@ , il-@ , tnf - , and hscrp at @ weeks in the intervention group when compared to the placebo group .',\n",
              " 'these differences remained significant at @ weeks .']"
            ]
          },
          "metadata": {},
          "execution_count": 24
        }
      ]
    },
    {
      "cell_type": "code",
      "metadata": {
        "colab": {
          "base_uri": "https://localhost:8080/"
        },
        "id": "ATTMS7mJyYqN",
        "outputId": "0f3f4f41-8573-41ce-9579-68384bebab9e"
      },
      "source": [
        "y_train[:5]"
      ],
      "execution_count": 25,
      "outputs": [
        {
          "output_type": "execute_result",
          "data": {
            "text/plain": [
              "['objective', 'methods', 'methods', 'methods', 'methods']"
            ]
          },
          "metadata": {},
          "execution_count": 25
        }
      ]
    },
    {
      "cell_type": "code",
      "metadata": {
        "id": "al7t0hA1zNZ1"
      },
      "source": [
        "#get indeces -  convert to array to be ableto use with sklearn OneHotEncoder\n",
        "labels = np.array(y_train)"
      ],
      "execution_count": 26,
      "outputs": []
    },
    {
      "cell_type": "code",
      "metadata": {
        "colab": {
          "base_uri": "https://localhost:8080/"
        },
        "id": "ll7-a4JB0vBZ",
        "outputId": "79a6ae22-b8c7-4cb4-f06d-cec7c6e7e847"
      },
      "source": [
        "labels"
      ],
      "execution_count": 27,
      "outputs": [
        {
          "output_type": "execute_result",
          "data": {
            "text/plain": [
              "array(['objective', 'methods', 'methods', ..., 'results', 'conclusions',\n",
              "       'conclusions'], dtype='<U11')"
            ]
          },
          "metadata": {},
          "execution_count": 27
        }
      ]
    },
    {
      "cell_type": "markdown",
      "metadata": {
        "id": "AkumoYv22zlE"
      },
      "source": [
        "##### One-hot Encoding"
      ]
    },
    {
      "cell_type": "code",
      "metadata": {
        "id": "xCEAtEMZyZl9"
      },
      "source": [
        "#one hot encode labels - non-sparse matrix in order to be compatible with tf.constant()\n",
        "enc = OneHotEncoder(sparse=False)"
      ],
      "execution_count": 28,
      "outputs": []
    },
    {
      "cell_type": "code",
      "metadata": {
        "id": "c4UEL0ayz5f7"
      },
      "source": [
        "encoded_train_labels = enc.fit_transform(labels.reshape(-1, 1)) #fit to training labels AND trasnform those labels"
      ],
      "execution_count": 29,
      "outputs": []
    },
    {
      "cell_type": "code",
      "metadata": {
        "colab": {
          "base_uri": "https://localhost:8080/"
        },
        "id": "ukHvkXiq1XiY",
        "outputId": "acc704eb-b32a-4275-db4e-ddfc11f1686c"
      },
      "source": [
        "encoded_train_labels"
      ],
      "execution_count": 30,
      "outputs": [
        {
          "output_type": "execute_result",
          "data": {
            "text/plain": [
              "array([[0., 0., 0., 1., 0.],\n",
              "       [0., 0., 1., 0., 0.],\n",
              "       [0., 0., 1., 0., 0.],\n",
              "       ...,\n",
              "       [0., 0., 0., 0., 1.],\n",
              "       [0., 1., 0., 0., 0.],\n",
              "       [0., 1., 0., 0., 0.]])"
            ]
          },
          "metadata": {},
          "execution_count": 30
        }
      ]
    },
    {
      "cell_type": "code",
      "metadata": {
        "colab": {
          "base_uri": "https://localhost:8080/"
        },
        "id": "14ntnNExz9DN",
        "outputId": "1abca102-508a-4af7-f90b-da78f9574c2e"
      },
      "source": [
        "tf.constant(encoded_train_labels)"
      ],
      "execution_count": 31,
      "outputs": [
        {
          "output_type": "execute_result",
          "data": {
            "text/plain": [
              "<tf.Tensor: shape=(180040, 5), dtype=float64, numpy=\n",
              "array([[0., 0., 0., 1., 0.],\n",
              "       [0., 0., 1., 0., 0.],\n",
              "       [0., 0., 1., 0., 0.],\n",
              "       ...,\n",
              "       [0., 0., 0., 0., 1.],\n",
              "       [0., 1., 0., 0., 0.],\n",
              "       [0., 1., 0., 0., 0.]])>"
            ]
          },
          "metadata": {},
          "execution_count": 31
        }
      ]
    },
    {
      "cell_type": "code",
      "metadata": {
        "id": "iqSC0IZg1JPO"
      },
      "source": [
        "#use fit_transformed encoder to also trasnform validation and test labels\n",
        "encoded_test_labels = enc.transform(np.array(y_test).reshape(-1,1)) #encoder was already fitted (to training labels) - transform test and val labels now\n",
        "encoded_val_labels = enc.transform(np.array(y_val).reshape(-1,1)) "
      ],
      "execution_count": 32,
      "outputs": []
    },
    {
      "cell_type": "markdown",
      "metadata": {
        "id": "8zJIe_6P25vN"
      },
      "source": [
        "##### Label Encoding"
      ]
    },
    {
      "cell_type": "code",
      "metadata": {
        "colab": {
          "base_uri": "https://localhost:8080/"
        },
        "id": "mxQS1XPM28Jv",
        "outputId": "9d006cbd-b917-4578-e0e8-66ce2b3424ef"
      },
      "source": [
        "label_enc = LabelEncoder()\n",
        "lab_encoded_train_labels = label_enc.fit_transform(labels.reshape(-1, 1))\n",
        "lab_encoded_test_labels = label_enc.transform(np.array(y_test).reshape(-1,1)) #encoder was already fitted (to training labels) - transform test and val labels now\n",
        "lab_encoded_val_labels = label_enc.transform(np.array(y_val).reshape(-1,1)) "
      ],
      "execution_count": 33,
      "outputs": [
        {
          "output_type": "stream",
          "name": "stderr",
          "text": [
            "/usr/local/lib/python3.7/dist-packages/sklearn/preprocessing/_label.py:251: DataConversionWarning: A column-vector y was passed when a 1d array was expected. Please change the shape of y to (n_samples, ), for example using ravel().\n",
            "  y = column_or_1d(y, warn=True)\n",
            "/usr/local/lib/python3.7/dist-packages/sklearn/preprocessing/_label.py:268: DataConversionWarning: A column-vector y was passed when a 1d array was expected. Please change the shape of y to (n_samples, ), for example using ravel().\n",
            "  y = column_or_1d(y, warn=True)\n"
          ]
        }
      ]
    },
    {
      "cell_type": "code",
      "metadata": {
        "colab": {
          "base_uri": "https://localhost:8080/"
        },
        "id": "CLgfanAmGsEJ",
        "outputId": "a4966402-d502-41e3-dd3e-225aa87a9709"
      },
      "source": [
        "lab_encoded_train_labels[:10]"
      ],
      "execution_count": 34,
      "outputs": [
        {
          "output_type": "execute_result",
          "data": {
            "text/plain": [
              "array([3, 2, 2, 2, 2, 2, 4, 4, 4, 4])"
            ]
          },
          "metadata": {},
          "execution_count": 34
        }
      ]
    },
    {
      "cell_type": "markdown",
      "metadata": {
        "id": "EmJKxmE73B41"
      },
      "source": [
        "##### Get class names from encoder\n",
        "\n",
        "--> this could be done with any of the two encoders, but here the information in extracted from OneHotEncoder instance (enc)"
      ]
    },
    {
      "cell_type": "code",
      "metadata": {
        "colab": {
          "base_uri": "https://localhost:8080/"
        },
        "id": "5kmHdgKA12Ry",
        "outputId": "249a1d64-943d-4479-ff5b-b04fa0054406"
      },
      "source": [
        "#get class names and numbers from label encoder\n",
        "num_classes = len(label_enc.classes_)\n",
        "classes = list(label_enc.classes_)\n",
        "classes"
      ],
      "execution_count": 35,
      "outputs": [
        {
          "output_type": "execute_result",
          "data": {
            "text/plain": [
              "['background', 'conclusions', 'methods', 'objective', 'results']"
            ]
          },
          "metadata": {},
          "execution_count": 35
        }
      ]
    },
    {
      "cell_type": "code",
      "metadata": {
        "id": "5mK4Dv02RdVk"
      },
      "source": [
        "# ##for labels from onehotencoder: use\n",
        "# enc.categories_"
      ],
      "execution_count": 36,
      "outputs": []
    },
    {
      "cell_type": "code",
      "metadata": {
        "colab": {
          "base_uri": "https://localhost:8080/"
        },
        "id": "GR532gSKSy46",
        "outputId": "44772002-c879-4f97-d329-347cb31b3f76"
      },
      "source": [
        "dir(enc.categories_)"
      ],
      "execution_count": 37,
      "outputs": [
        {
          "output_type": "execute_result",
          "data": {
            "text/plain": [
              "['__add__',\n",
              " '__class__',\n",
              " '__contains__',\n",
              " '__delattr__',\n",
              " '__delitem__',\n",
              " '__dir__',\n",
              " '__doc__',\n",
              " '__eq__',\n",
              " '__format__',\n",
              " '__ge__',\n",
              " '__getattribute__',\n",
              " '__getitem__',\n",
              " '__gt__',\n",
              " '__hash__',\n",
              " '__iadd__',\n",
              " '__imul__',\n",
              " '__init__',\n",
              " '__init_subclass__',\n",
              " '__iter__',\n",
              " '__le__',\n",
              " '__len__',\n",
              " '__lt__',\n",
              " '__mul__',\n",
              " '__ne__',\n",
              " '__new__',\n",
              " '__reduce__',\n",
              " '__reduce_ex__',\n",
              " '__repr__',\n",
              " '__reversed__',\n",
              " '__rmul__',\n",
              " '__setattr__',\n",
              " '__setitem__',\n",
              " '__sizeof__',\n",
              " '__str__',\n",
              " '__subclasshook__',\n",
              " 'append',\n",
              " 'clear',\n",
              " 'copy',\n",
              " 'count',\n",
              " 'extend',\n",
              " 'index',\n",
              " 'insert',\n",
              " 'pop',\n",
              " 'remove',\n",
              " 'reverse',\n",
              " 'sort']"
            ]
          },
          "metadata": {},
          "execution_count": 37
        }
      ]
    },
    {
      "cell_type": "markdown",
      "metadata": {
        "id": "UlQYcuPgG-VY"
      },
      "source": [
        "## Train Models\n",
        "\n",
        "Different models will be tried, including:<br>\n",
        " - sklearn's NaiveBayes (tf-idf) encoder <br>\n",
        " - TensorFlow Hub Pretrained Feature Extractor<br>\n",
        " - Conv1D with character embeddings<br>\n",
        " - Pretrained token embeddings (same as 2nd model from above) + charater embeddings (same as 3rd from above)<br>\n",
        " - Pretrained token embeddings (same as 2nd model from above) + charater embeddings (same as 3rd from above) + positional embeddings\n",
        "\n"
      ]
    },
    {
      "cell_type": "markdown",
      "metadata": {
        "id": "6_nMwE6AHvlw"
      },
      "source": [
        "### Naive Bayes (tf-idf)"
      ]
    },
    {
      "cell_type": "code",
      "metadata": {
        "id": "6jTGd6XX2pcP"
      },
      "source": [
        "# create model (here: using Pipeline)\n",
        "\n",
        "baseline_model = Pipeline(\n",
        "    [\n",
        "     (\"tf-idf\", TfidfVectorizer()),\n",
        "     (\"clf\", MultinomialNB())\n",
        "    ]\n",
        ")\n"
      ],
      "execution_count": 38,
      "outputs": []
    },
    {
      "cell_type": "code",
      "metadata": {
        "id": "8t_H2S6r2dMB"
      },
      "source": [
        "#compile model not needed for sklearn models"
      ],
      "execution_count": 39,
      "outputs": []
    },
    {
      "cell_type": "code",
      "metadata": {
        "colab": {
          "base_uri": "https://localhost:8080/"
        },
        "id": "5uQes1VUIB_R",
        "outputId": "c651d73a-5a8d-43b2-af8e-e7e528291c0d"
      },
      "source": [
        "#fit model\n",
        "baseline_model.fit(X=X_train,\n",
        "                   y=lab_encoded_train_labels #using Label Encoded labels\n",
        "                   )"
      ],
      "execution_count": 40,
      "outputs": [
        {
          "output_type": "execute_result",
          "data": {
            "text/plain": [
              "Pipeline(memory=None,\n",
              "         steps=[('tf-idf',\n",
              "                 TfidfVectorizer(analyzer='word', binary=False,\n",
              "                                 decode_error='strict',\n",
              "                                 dtype=<class 'numpy.float64'>,\n",
              "                                 encoding='utf-8', input='content',\n",
              "                                 lowercase=True, max_df=1.0, max_features=None,\n",
              "                                 min_df=1, ngram_range=(1, 1), norm='l2',\n",
              "                                 preprocessor=None, smooth_idf=True,\n",
              "                                 stop_words=None, strip_accents=None,\n",
              "                                 sublinear_tf=False,\n",
              "                                 token_pattern='(?u)\\\\b\\\\w\\\\w+\\\\b',\n",
              "                                 tokenizer=None, use_idf=True,\n",
              "                                 vocabulary=None)),\n",
              "                ('clf',\n",
              "                 MultinomialNB(alpha=1.0, class_prior=None, fit_prior=True))],\n",
              "         verbose=False)"
            ]
          },
          "metadata": {},
          "execution_count": 40
        }
      ]
    },
    {
      "cell_type": "code",
      "metadata": {
        "colab": {
          "base_uri": "https://localhost:8080/"
        },
        "id": "CKcZerCyJFYQ",
        "outputId": "e6d7664b-bbd3-4af0-8ac9-337ef58b6878"
      },
      "source": [
        "#evaluate baseline model -->NOTE: similar to '.evaluate' in keras\n",
        "baseline_model.score(X=X_val,\n",
        "                        y=lab_encoded_val_labels)"
      ],
      "execution_count": 41,
      "outputs": [
        {
          "output_type": "execute_result",
          "data": {
            "text/plain": [
              "0.7218323844829869"
            ]
          },
          "metadata": {},
          "execution_count": 41
        }
      ]
    },
    {
      "cell_type": "code",
      "metadata": {
        "id": "1Tp0G7QpJbdw"
      },
      "source": [
        "#make and save predictions using baseline model\n",
        "baseline_preds = baseline_model.predict(X_val)"
      ],
      "execution_count": 42,
      "outputs": []
    },
    {
      "cell_type": "code",
      "metadata": {
        "colab": {
          "base_uri": "https://localhost:8080/"
        },
        "id": "YUfbE43TJvQF",
        "outputId": "faeb73d5-e49d-4b22-e751-7b4d517e14d5"
      },
      "source": [
        "baseline_preds"
      ],
      "execution_count": 43,
      "outputs": [
        {
          "output_type": "execute_result",
          "data": {
            "text/plain": [
              "array([4, 1, 3, ..., 4, 4, 1])"
            ]
          },
          "metadata": {},
          "execution_count": 43
        }
      ]
    },
    {
      "cell_type": "code",
      "metadata": {
        "id": "-m5TuKsYJwIP"
      },
      "source": [
        "baseline_metrics = calculate_results(lab_encoded_val_labels, baseline_preds)"
      ],
      "execution_count": 44,
      "outputs": []
    },
    {
      "cell_type": "markdown",
      "metadata": {
        "id": "l1EpiTW4LL6M"
      },
      "source": [
        "### 1D CNN with Token Embeddings"
      ]
    },
    {
      "cell_type": "code",
      "metadata": {
        "colab": {
          "base_uri": "https://localhost:8080/"
        },
        "id": "LsMqgtwxOGQs",
        "outputId": "506a046f-be92-4327-ce88-a0fac236f95e"
      },
      "source": [
        "#info regarding sentence length\n",
        "train_df['sentence_length'] = train_df.text.apply(lambda x: len(x.split()))\n",
        "train_df.sentence_length.describe()"
      ],
      "execution_count": 45,
      "outputs": [
        {
          "output_type": "execute_result",
          "data": {
            "text/plain": [
              "count    180040.000000\n",
              "mean         26.338269\n",
              "std          15.386803\n",
              "min           1.000000\n",
              "25%          16.000000\n",
              "50%          23.000000\n",
              "75%          33.000000\n",
              "max         296.000000\n",
              "Name: sentence_length, dtype: float64"
            ]
          },
          "metadata": {},
          "execution_count": 45
        }
      ]
    },
    {
      "cell_type": "code",
      "metadata": {
        "colab": {
          "base_uri": "https://localhost:8080/",
          "height": 265
        },
        "id": "PGASMhaYY82q",
        "outputId": "f54b7326-5906-4aa6-fc36-85c39a7c87db"
      },
      "source": [
        "plt.hist(train_df.sentence_length, bins = 25)\n",
        "plt.show()"
      ],
      "execution_count": 46,
      "outputs": [
        {
          "output_type": "display_data",
          "data": {
            "image/png": "[encoded data removed]",
            "text/plain": [
              "<Figure size 432x288 with 1 Axes>"
            ]
          },
          "metadata": {
            "needs_background": "light"
          }
        }
      ]
    },
    {
      "cell_type": "code",
      "metadata": {
        "colab": {
          "base_uri": "https://localhost:8080/"
        },
        "id": "O7F5vNhZOROU",
        "outputId": "87f00502-0fe5-464c-ac8d-7a09f04a8a75"
      },
      "source": [
        "#get 75% and 95 % int to use in tokenizer output length\n",
        "txt_len_75 = int(train_df.sentence_length.describe()['75%'])\n",
        "txt_len_95 = int(np.percentile(train_df.sentence_length, 95))\n",
        "txt_len_75, txt_len_95"
      ],
      "execution_count": 47,
      "outputs": [
        {
          "output_type": "execute_result",
          "data": {
            "text/plain": [
              "(33, 55)"
            ]
          },
          "metadata": {},
          "execution_count": 47
        }
      ]
    },
    {
      "cell_type": "markdown",
      "metadata": {
        "id": "8qceEWZxO3Vg"
      },
      "source": [
        "NOTE: sentence length spread is quite extreme and there is an abundance of values with more than 33 words, 95% of all sentences fall into the lengths of 55 (or under) --> using 50 words as output length to account for most sentences lengths"
      ]
    },
    {
      "cell_type": "code",
      "metadata": {
        "id": "CppK-_8hO0Of"
      },
      "source": [
        "out_len = 50\n",
        "MAX_TOKENS = 68000 #number from Table 2 in paper cited above"
      ],
      "execution_count": 48,
      "outputs": []
    },
    {
      "cell_type": "code",
      "metadata": {
        "id": "yVFDt1KNKdnc"
      },
      "source": [
        "#create tokenizer / vectorizerlayer\n",
        "vectorizer = tf.keras.layers.TextVectorization(\n",
        "    max_tokens=MAX_TOKENS, standardize='lower_and_strip_punctuation',\n",
        "    split='whitespace', ngrams=None, output_mode='int',\n",
        "    output_sequence_length=out_len, pad_to_max_tokens=True, vocabulary=None\n",
        ")\n",
        "#fit tokenizer to train sentences\n",
        "vectorizer.adapt(X_train)"
      ],
      "execution_count": 49,
      "outputs": []
    },
    {
      "cell_type": "code",
      "metadata": {
        "colab": {
          "base_uri": "https://localhost:8080/"
        },
        "id": "f_J7EZnyPGKR",
        "outputId": "81060a9b-64d3-490e-d0bb-3449114cf009"
      },
      "source": [
        "#check tokenizer vocab\n",
        "len(vectorizer.get_vocabulary()), vectorizer.get_vocabulary()[-10:]"
      ],
      "execution_count": 50,
      "outputs": [
        {
          "output_type": "execute_result",
          "data": {
            "text/plain": [
              "(64841,\n",
              " ['aarm',\n",
              "  'aaqol',\n",
              "  'aaq',\n",
              "  'aanhui',\n",
              "  'aana',\n",
              "  'aainduced',\n",
              "  'aaigroup',\n",
              "  'aachener',\n",
              "  'aachen',\n",
              "  'aaacp'])"
            ]
          },
          "metadata": {},
          "execution_count": 50
        }
      ]
    },
    {
      "cell_type": "code",
      "metadata": {
        "colab": {
          "base_uri": "https://localhost:8080/"
        },
        "id": "ti0WREu7PUeS",
        "outputId": "8b4a14e6-360b-4939-ad16-fb05032aeb72"
      },
      "source": [
        "\"bioinformatics\" in vectorizer.get_vocabulary()"
      ],
      "execution_count": 51,
      "outputs": [
        {
          "output_type": "execute_result",
          "data": {
            "text/plain": [
              "False"
            ]
          },
          "metadata": {},
          "execution_count": 51
        }
      ]
    },
    {
      "cell_type": "code",
      "metadata": {
        "id": "cZNPjE1pKdlP"
      },
      "source": [
        "#embed\n",
        "embedder = tf.keras.layers.Embedding(input_dim=len(vectorizer.get_vocabulary()), # set input shape --> = length of vocabulary\n",
        "                             output_dim=516, # set size of embedding vector,\n",
        "                             mask_zero=True,\n",
        "                             embeddings_initializer=\"uniform\", # default, intialize randomly\n",
        "                             input_length=out_len) # how long is each input "
      ],
      "execution_count": 52,
      "outputs": []
    },
    {
      "cell_type": "code",
      "metadata": {
        "colab": {
          "base_uri": "https://localhost:8080/"
        },
        "id": "HBy1ur5Waaow",
        "outputId": "3469c609-c82d-4e38-bed6-1d881813d603"
      },
      "source": [
        "random_text = random.choice(X_train)\n",
        "print(random_text)\n",
        "print(vectorizer([random_text]))\n",
        "print(embedder(vectorizer([random_text])))"
      ],
      "execution_count": 53,
      "outputs": [
        {
          "output_type": "stream",
          "name": "stdout",
          "text": [
            "thrombectomy was necessary in @/@ and @/@ patients with baseline thrombosis in the rsk and phenylephrine groups , respectively ( p = @ ) .\n",
            "tf.Tensor(\n",
            "[[ 5952    10  1537     5     3    12     7    49  1682     5     2 15482\n",
            "      3  5262    24    83    14     0     0     0     0     0     0     0\n",
            "      0     0     0     0     0     0     0     0     0     0     0     0\n",
            "      0     0     0     0     0     0     0     0     0     0     0     0\n",
            "      0     0]], shape=(1, 50), dtype=int64)\n",
            "tf.Tensor(\n",
            "[[[ 2.2899080e-02 -7.2661787e-04  6.3046440e-03 ...  1.6318824e-02\n",
            "    2.6983205e-02  1.0244466e-02]\n",
            "  [ 4.9200896e-02 -2.6504433e-02  4.6853159e-02 ... -2.0363867e-02\n",
            "    4.2547349e-02 -2.0857250e-02]\n",
            "  [-1.6961098e-03  1.9863274e-02 -1.1499833e-02 ...  3.5431746e-02\n",
            "    4.6651114e-02 -9.0729445e-05]\n",
            "  ...\n",
            "  [-4.4906486e-02 -1.6761601e-02 -4.4108260e-02 ...  3.5718884e-02\n",
            "   -1.5938651e-02 -2.9314423e-02]\n",
            "  [-4.4906486e-02 -1.6761601e-02 -4.4108260e-02 ...  3.5718884e-02\n",
            "   -1.5938651e-02 -2.9314423e-02]\n",
            "  [-4.4906486e-02 -1.6761601e-02 -4.4108260e-02 ...  3.5718884e-02\n",
            "   -1.5938651e-02 -2.9314423e-02]]], shape=(1, 50, 516), dtype=float32)\n"
          ]
        }
      ]
    },
    {
      "cell_type": "code",
      "metadata": {
        "id": "u6LjFZAvcxBG"
      },
      "source": [
        "#convert data into tf datasets, so that running efficiency is increased when loading data into model\n",
        "train_dataset = tf.data.Dataset.from_tensor_slices((X_train, encoded_train_labels))\n",
        "test_dataset = tf.data.Dataset.from_tensor_slices((X_test, encoded_test_labels))\n",
        "val_dataset = tf.data.Dataset.from_tensor_slices((X_val, encoded_val_labels))"
      ],
      "execution_count": 54,
      "outputs": []
    },
    {
      "cell_type": "code",
      "metadata": {
        "colab": {
          "base_uri": "https://localhost:8080/"
        },
        "id": "9IMU91rmdNmx",
        "outputId": "94083a7c-0cf1-415d-ba72-86ef56c9d260"
      },
      "source": [
        "train_dataset"
      ],
      "execution_count": 55,
      "outputs": [
        {
          "output_type": "execute_result",
          "data": {
            "text/plain": [
              "<TensorSliceDataset shapes: ((), (5,)), types: (tf.string, tf.float64)>"
            ]
          },
          "metadata": {},
          "execution_count": 55
        }
      ]
    },
    {
      "cell_type": "code",
      "metadata": {
        "id": "ypJ4WSJOdfEm"
      },
      "source": [
        "#create dataset batches\n",
        "train_dataset = train_dataset.batch(32).prefetch(tf.data.AUTOTUNE)\n",
        "test_dataset = test_dataset.batch(32).prefetch(tf.data.AUTOTUNE)\n",
        "val_dataset = val_dataset.batch(32).prefetch(tf.data.AUTOTUNE)"
      ],
      "execution_count": 56,
      "outputs": []
    },
    {
      "cell_type": "code",
      "metadata": {
        "colab": {
          "base_uri": "https://localhost:8080/"
        },
        "id": "g1ohuRAQduqN",
        "outputId": "96785b9c-c85f-4c87-9d48-9c18ee74910d"
      },
      "source": [
        "train_dataset"
      ],
      "execution_count": 57,
      "outputs": [
        {
          "output_type": "execute_result",
          "data": {
            "text/plain": [
              "<PrefetchDataset shapes: ((None,), (None, 5)), types: (tf.string, tf.float64)>"
            ]
          },
          "metadata": {},
          "execution_count": 57
        }
      ]
    },
    {
      "cell_type": "code",
      "metadata": {
        "id": "vz0LfhtuKdjo"
      },
      "source": [
        "#build model - using functional keras\n",
        "inputs = tf.keras.layers.Input(shape=(1,), dtype=\"string\")\n",
        "x = vectorizer(inputs)\n",
        "x = embedder(x)\n",
        "x = tf.keras.layers.Conv1D(filters=64, kernel_size=5, padding=\"same\", activation=\"relu\")(x)\n",
        "x = tf.keras.layers.GlobalMaxPool1D()(x)\n",
        "outputs = tf.keras.layers.Dense(num_classes, activation=\"softmax\")(x)  #use SOFTMAX for non-binary categorical!!\n",
        "Conv1D_model = tf.keras.Model(inputs, outputs, name=\"Conv1D\")"
      ],
      "execution_count": 58,
      "outputs": []
    },
    {
      "cell_type": "code",
      "metadata": {
        "colab": {
          "base_uri": "https://localhost:8080/"
        },
        "id": "n6ECo2RtWTns",
        "outputId": "97cf629a-304a-4fe8-e7a2-a66e76edb367"
      },
      "source": [
        "#summarize model\n",
        "Conv1D_model.summary()"
      ],
      "execution_count": 59,
      "outputs": [
        {
          "output_type": "stream",
          "name": "stdout",
          "text": [
            "Model: \"Conv1D\"\n",
            "_________________________________________________________________\n",
            "Layer (type)                 Output Shape              Param #   \n",
            "=================================================================\n",
            "input_1 (InputLayer)         [(None, 1)]               0         \n",
            "_________________________________________________________________\n",
            "text_vectorization (TextVect (None, 50)                0         \n",
            "_________________________________________________________________\n",
            "embedding (Embedding)        (None, 50, 516)           33457956  \n",
            "_________________________________________________________________\n",
            "conv1d (Conv1D)              (None, 50, 64)            165184    \n",
            "_________________________________________________________________\n",
            "global_max_pooling1d (Global (None, 64)                0         \n",
            "_________________________________________________________________\n",
            "dense (Dense)                (None, 5)                 325       \n",
            "=================================================================\n",
            "Total params: 33,623,465\n",
            "Trainable params: 33,623,465\n",
            "Non-trainable params: 0\n",
            "_________________________________________________________________\n"
          ]
        }
      ]
    },
    {
      "cell_type": "code",
      "metadata": {
        "id": "2vp0abzfKdg-"
      },
      "source": [
        "#compile\n",
        "Conv1D_model.compile(\n",
        "    loss=\"categorical_crossentropy\",\n",
        "    optimizer=tf.keras.optimizers.Adam(),\n",
        "    metrics=[\"accuracy\"]\n",
        ")"
      ],
      "execution_count": 60,
      "outputs": []
    },
    {
      "cell_type": "code",
      "metadata": {
        "colab": {
          "base_uri": "https://localhost:8080/"
        },
        "id": "3W7qYk2nLZIt",
        "outputId": "ca15c28f-e6b5-4a0e-8ac6-b0b901d0e9fb"
      },
      "source": [
        "#fit\n",
        "conv1D_history = Conv1D_model.fit(\n",
        "    train_dataset,\n",
        "    steps_per_epoch=len(train_dataset),\n",
        "    epochs=3,\n",
        "    validation_data=val_dataset,\n",
        "    validation_steps=int(0.1*len(val_dataset))\n",
        ")"
      ],
      "execution_count": 61,
      "outputs": [
        {
          "output_type": "stream",
          "name": "stdout",
          "text": [
            "Epoch 1/3\n",
            "5627/5627 [==============================] - 225s 35ms/step - loss: 0.5434 - accuracy: 0.7997 - val_loss: 0.5093 - val_accuracy: 0.8078\n",
            "Epoch 2/3\n",
            "5627/5627 [==============================] - 195s 35ms/step - loss: 0.3349 - accuracy: 0.8817 - val_loss: 0.5725 - val_accuracy: 0.8065\n",
            "Epoch 3/3\n",
            "5627/5627 [==============================] - 195s 35ms/step - loss: 0.1754 - accuracy: 0.9435 - val_loss: 0.7278 - val_accuracy: 0.7959\n"
          ]
        }
      ]
    },
    {
      "cell_type": "code",
      "metadata": {
        "colab": {
          "base_uri": "https://localhost:8080/"
        },
        "id": "AMZBd7xnKde0",
        "outputId": "47c54b89-8779-4e1a-f672-7e667c620f36"
      },
      "source": [
        "Conv1D_model.evaluate(val_dataset)"
      ],
      "execution_count": 62,
      "outputs": [
        {
          "output_type": "stream",
          "name": "stdout",
          "text": [
            "945/945 [==============================] - 6s 6ms/step - loss: 0.7037 - accuracy: 0.7938\n"
          ]
        },
        {
          "output_type": "execute_result",
          "data": {
            "text/plain": [
              "[0.703700602054596, 0.7937905192375183]"
            ]
          },
          "metadata": {},
          "execution_count": 62
        }
      ]
    },
    {
      "cell_type": "code",
      "metadata": {
        "colab": {
          "base_uri": "https://localhost:8080/"
        },
        "id": "_b_LsTm8DRnR",
        "outputId": "d846d417-f4cc-4fa1-cd80-7b4b9cf1e43a"
      },
      "source": [
        "!mkdir -p saved_model\n",
        "Conv1D_model.save('saved_model/Conv1D_model1')"
      ],
      "execution_count": 63,
      "outputs": [
        {
          "output_type": "stream",
          "name": "stdout",
          "text": [
            "INFO:tensorflow:Assets written to: saved_model/Conv1D_model1/assets\n"
          ]
        }
      ]
    },
    {
      "cell_type": "code",
      "metadata": {
        "id": "E5eB_fkcDjrl"
      },
      "source": [
        "conv1d_preds_probs = Conv1D_model.predict(val_dataset)"
      ],
      "execution_count": 64,
      "outputs": []
    },
    {
      "cell_type": "code",
      "metadata": {
        "id": "FTgW_wWbD0mB"
      },
      "source": [
        "conv1d_preds = tf.math.argmax(conv1d_preds_probs, axis=1)"
      ],
      "execution_count": 65,
      "outputs": []
    },
    {
      "cell_type": "code",
      "metadata": {
        "colab": {
          "base_uri": "https://localhost:8080/"
        },
        "id": "svQMNE2_D-3g",
        "outputId": "47a9e443-eade-4bf8-ea1d-92ddbb772bad"
      },
      "source": [
        "lab_encoded_val_labels"
      ],
      "execution_count": 66,
      "outputs": [
        {
          "output_type": "execute_result",
          "data": {
            "text/plain": [
              "array([0, 0, 3, ..., 4, 1, 1])"
            ]
          },
          "metadata": {},
          "execution_count": 66
        }
      ]
    },
    {
      "cell_type": "code",
      "metadata": {
        "colab": {
          "base_uri": "https://localhost:8080/"
        },
        "id": "_wDLeWMhEqkG",
        "outputId": "c7b4f606-d27d-4aaf-92ca-81227827a3de"
      },
      "source": [
        "conv1D_metrics = calculate_results(lab_encoded_val_labels, conv1d_preds)\n",
        "conv1D_metrics"
      ],
      "execution_count": 67,
      "outputs": [
        {
          "output_type": "execute_result",
          "data": {
            "text/plain": [
              "{'accuracy': 79.3790546802595,\n",
              " 'f1': 0.7924957198033475,\n",
              " 'precision': 0.7948218835999921,\n",
              " 'recall': 0.793790546802595}"
            ]
          },
          "metadata": {},
          "execution_count": 67
        }
      ]
    },
    {
      "cell_type": "code",
      "metadata": {
        "id": "42Ptoyjvl0dV"
      },
      "source": [
        "# conv1D_metrics = {'accuracy': 78.81967430160202,\n",
        "#  'f1': 0.7859960928563114,\n",
        "#  'precision': 0.7892146068302194,\n",
        "#  'recall': 0.7881967430160202}"
      ],
      "execution_count": 68,
      "outputs": []
    },
    {
      "cell_type": "code",
      "metadata": {
        "colab": {
          "base_uri": "https://localhost:8080/"
        },
        "id": "Sq8B0pCWFK0g",
        "outputId": "a73157f5-d705-4d48-b32b-decf428cbaa3"
      },
      "source": [
        "baseline_metrics"
      ],
      "execution_count": 69,
      "outputs": [
        {
          "output_type": "execute_result",
          "data": {
            "text/plain": [
              "{'accuracy': 72.1832384482987,\n",
              " 'f1': 0.6989250353450294,\n",
              " 'precision': 0.7186466952323352,\n",
              " 'recall': 0.7218323844829869}"
            ]
          },
          "metadata": {},
          "execution_count": 69
        }
      ]
    },
    {
      "cell_type": "markdown",
      "metadata": {
        "id": "ZAevqgQ-KeAk"
      },
      "source": [
        "Helper functions"
      ]
    },
    {
      "cell_type": "code",
      "metadata": {
        "id": "iCsl_uNQKdcE"
      },
      "source": [
        "def calculate_results(y_true, y_pred):\n",
        "  \"\"\"\n",
        "  Calculates model accuracy, precision, recall and f1 score of a binary classification model.\n",
        "  PARAMS:\n",
        "    y_true(np.array) - true labels in the form of a 1D array\n",
        "    y_pred(np.array) - predicted labels in the form of a 1D array\n",
        "  RETURNS:\n",
        "    model_results (dict) - a dictionary of accuracy, precision, recall, f1-score.\n",
        "  \"\"\"\n",
        "  from sklearn.metrics import accuracy_score, precision_recall_fscore_support\n",
        "  # Calculate model accuracy\n",
        "  model_accuracy = accuracy_score(y_true, y_pred) * 100\n",
        "  # Calculate model precision, recall and f1 score using \"weighted average\n",
        "  model_precision, model_recall, model_f1, _ = precision_recall_fscore_support(y_true, y_pred, average=\"weighted\")\n",
        "  model_results = {\"accuracy\": model_accuracy,\n",
        "                  \"precision\": model_precision,\n",
        "                  \"recall\": model_recall,\n",
        "                  \"f1\": model_f1}\n",
        "  return model_results"
      ],
      "execution_count": 70,
      "outputs": []
    },
    {
      "cell_type": "markdown",
      "metadata": {
        "id": "STNfphSvn-Vt"
      },
      "source": [
        "### Transfer Learning Model: with Tensorflow model + Feature Extraction and pretrained token embeddings"
      ]
    },
    {
      "cell_type": "code",
      "metadata": {
        "id": "YYQNOBLvl-NU"
      },
      "source": [
        "#load pre-trained model as base for this model; feature extraction pnly, so --> not trainable\n",
        "use_layer = hub.KerasLayer(\"https://tfhub.dev/google/universal-sentence-encoder/4\",\n",
        "                                        input_shape=[], \n",
        "                                        dtype=tf.string, \n",
        "                                        trainable=False, \n",
        "                                        name=\"use\") "
      ],
      "execution_count": 71,
      "outputs": []
    },
    {
      "cell_type": "code",
      "metadata": {
        "colab": {
          "base_uri": "https://localhost:8080/",
          "height": 35
        },
        "id": "oyQZXfbCq_es",
        "outputId": "d6bf724e-fb25-4fb8-9357-24248910afdb"
      },
      "source": [
        "random_text"
      ],
      "execution_count": 72,
      "outputs": [
        {
          "output_type": "execute_result",
          "data": {
            "application/vnd.google.colaboratory.intrinsic+json": {
              "type": "string"
            },
            "text/plain": [
              "'thrombectomy was necessary in @/@ and @/@ patients with baseline thrombosis in the rsk and phenylephrine groups , respectively ( p = @ ) .'"
            ]
          },
          "metadata": {},
          "execution_count": 72
        }
      ]
    },
    {
      "cell_type": "code",
      "metadata": {
        "colab": {
          "base_uri": "https://localhost:8080/"
        },
        "id": "p_Sd5FUbr5dp",
        "outputId": "32a750ad-3b42-4afa-d9cd-a5a5acc4df9d"
      },
      "source": [
        "# check if loaded model works + length of output (=a 512-vector)\n",
        "len(use_layer([random_text])[0])"
      ],
      "execution_count": 73,
      "outputs": [
        {
          "output_type": "execute_result",
          "data": {
            "text/plain": [
              "512"
            ]
          },
          "metadata": {},
          "execution_count": 73
        }
      ]
    },
    {
      "cell_type": "code",
      "metadata": {
        "id": "ttzFqd9JsJNM"
      },
      "source": [
        "#build model based on pretrained embedding (use)\n",
        "inputs = tf.keras.layers.Input(shape=[], dtype=tf.string)\n",
        "pretrained_embedding = use_layer(inputs)\n",
        "x = tf.keras.layers.Dense(128, activation=\"relu\")(pretrained_embedding)\n",
        "output = tf.keras.layers.Dense(num_classes, activation=\"softmax\")(x)\n",
        "model_pretrained_embedding = tf.keras.Model(inputs, output)"
      ],
      "execution_count": 74,
      "outputs": []
    },
    {
      "cell_type": "code",
      "metadata": {
        "id": "5GNcJvybt_Y7"
      },
      "source": [
        "#compile model\n",
        "model_pretrained_embedding.compile(\n",
        "    loss=\"categorical_crossentropy\",\n",
        "    optimizer=tf.keras.optimizers.Adam(),\n",
        "    metrics=[\"accuracy\"]\n",
        ")"
      ],
      "execution_count": 75,
      "outputs": []
    },
    {
      "cell_type": "code",
      "metadata": {
        "colab": {
          "base_uri": "https://localhost:8080/"
        },
        "id": "7K3sLLWSu41v",
        "outputId": "c2774d15-a548-4b84-979c-68528e59a82b"
      },
      "source": [
        "model_pretrained_embedding.summary()"
      ],
      "execution_count": 76,
      "outputs": [
        {
          "output_type": "stream",
          "name": "stdout",
          "text": [
            "Model: \"model\"\n",
            "_________________________________________________________________\n",
            "Layer (type)                 Output Shape              Param #   \n",
            "=================================================================\n",
            "input_2 (InputLayer)         [(None,)]                 0         \n",
            "_________________________________________________________________\n",
            "use (KerasLayer)             (None, 512)               256797824 \n",
            "_________________________________________________________________\n",
            "dense_1 (Dense)              (None, 128)               65664     \n",
            "_________________________________________________________________\n",
            "dense_2 (Dense)              (None, 5)                 645       \n",
            "=================================================================\n",
            "Total params: 256,864,133\n",
            "Trainable params: 66,309\n",
            "Non-trainable params: 256,797,824\n",
            "_________________________________________________________________\n"
          ]
        }
      ]
    },
    {
      "cell_type": "code",
      "metadata": {
        "colab": {
          "base_uri": "https://localhost:8080/"
        },
        "id": "dwmVaEXsuWUc",
        "outputId": "cb9e196f-9107-4dd5-c325-989b747f15c1"
      },
      "source": [
        "#fit model\n",
        "model_pretrained_embedding.fit(\n",
        "    train_dataset,\n",
        "    steps_per_epoch=len(train_dataset),\n",
        "    epochs=3,\n",
        "    validation_data=val_dataset,\n",
        "    validation_steps=int(0.1*len(val_dataset))\n",
        ")"
      ],
      "execution_count": 77,
      "outputs": [
        {
          "output_type": "stream",
          "name": "stdout",
          "text": [
            "Epoch 1/3\n",
            "5627/5627 [==============================] - 94s 16ms/step - loss: 0.7299 - accuracy: 0.7205 - val_loss: 0.6533 - val_accuracy: 0.7576\n",
            "Epoch 2/3\n",
            "5627/5627 [==============================] - 91s 16ms/step - loss: 0.6356 - accuracy: 0.7584 - val_loss: 0.6210 - val_accuracy: 0.7699\n",
            "Epoch 3/3\n",
            "5627/5627 [==============================] - 91s 16ms/step - loss: 0.6014 - accuracy: 0.7722 - val_loss: 0.6081 - val_accuracy: 0.7696\n"
          ]
        },
        {
          "output_type": "execute_result",
          "data": {
            "text/plain": [
              "<keras.callbacks.History at 0x7fc5a224de50>"
            ]
          },
          "metadata": {},
          "execution_count": 77
        }
      ]
    },
    {
      "cell_type": "code",
      "metadata": {
        "colab": {
          "base_uri": "https://localhost:8080/"
        },
        "id": "Ji6iRSzTuzmM",
        "outputId": "f7b232b9-8e80-4b0c-ea7b-a462e3255d96"
      },
      "source": [
        "#evaluate model, predict and get performance metrics\n",
        "model_pretrained_embedding.evaluate(val_dataset)"
      ],
      "execution_count": 78,
      "outputs": [
        {
          "output_type": "stream",
          "name": "stdout",
          "text": [
            "945/945 [==============================] - 15s 16ms/step - loss: 0.6072 - accuracy: 0.7679\n"
          ]
        },
        {
          "output_type": "execute_result",
          "data": {
            "text/plain": [
              "[0.6072469353675842, 0.7678737044334412]"
            ]
          },
          "metadata": {},
          "execution_count": 78
        }
      ]
    },
    {
      "cell_type": "code",
      "metadata": {
        "id": "t3zHe-nIwoV0"
      },
      "source": [
        "model_pretrained_embedding_preds = model_pretrained_embedding.predict(val_dataset)"
      ],
      "execution_count": 79,
      "outputs": []
    },
    {
      "cell_type": "code",
      "metadata": {
        "id": "w2wV92YSwveQ"
      },
      "source": [
        "model_pretrained_embedding_preds = np.array(tf.math.argmax(model_pretrained_embedding_preds, axis=1))"
      ],
      "execution_count": 80,
      "outputs": []
    },
    {
      "cell_type": "code",
      "metadata": {
        "colab": {
          "base_uri": "https://localhost:8080/"
        },
        "id": "ImYhXPuWxLZQ",
        "outputId": "bf92ed9c-2a4b-470b-b85c-0edfb888f7cf"
      },
      "source": [
        "model_pretrained_embedding_preds"
      ],
      "execution_count": 81,
      "outputs": [
        {
          "output_type": "execute_result",
          "data": {
            "text/plain": [
              "array([0, 0, 0, ..., 4, 4, 1])"
            ]
          },
          "metadata": {},
          "execution_count": 81
        }
      ]
    },
    {
      "cell_type": "code",
      "metadata": {
        "colab": {
          "base_uri": "https://localhost:8080/"
        },
        "id": "_kEjm5OCw5j7",
        "outputId": "b56753c6-d9c6-4480-df4b-34afe9680681"
      },
      "source": [
        "lab_encoded_val_labels"
      ],
      "execution_count": 82,
      "outputs": [
        {
          "output_type": "execute_result",
          "data": {
            "text/plain": [
              "array([0, 0, 3, ..., 4, 1, 1])"
            ]
          },
          "metadata": {},
          "execution_count": 82
        }
      ]
    },
    {
      "cell_type": "code",
      "metadata": {
        "colab": {
          "base_uri": "https://localhost:8080/"
        },
        "id": "D2FM-MY-xYQU",
        "outputId": "1a0867e4-6098-4bef-d0c0-0dbe3cdc0c7e"
      },
      "source": [
        "model_pretrained_embedding_metrics = calculate_results(lab_encoded_val_labels, model_pretrained_embedding_preds)\n",
        "model_pretrained_embedding_metrics"
      ],
      "execution_count": 83,
      "outputs": [
        {
          "output_type": "execute_result",
          "data": {
            "text/plain": [
              "{'accuracy': 76.78736925724877,\n",
              " 'f1': 0.7636198277365079,\n",
              " 'precision': 0.7658125841678172,\n",
              " 'recall': 0.7678736925724877}"
            ]
          },
          "metadata": {},
          "execution_count": 83
        }
      ]
    },
    {
      "cell_type": "code",
      "metadata": {
        "colab": {
          "base_uri": "https://localhost:8080/"
        },
        "id": "bEBp3mpqxdWJ",
        "outputId": "36bc2079-29fd-4bb7-9f44-1e12b4a8856f"
      },
      "source": [
        "conv1D_metrics"
      ],
      "execution_count": 84,
      "outputs": [
        {
          "output_type": "execute_result",
          "data": {
            "text/plain": [
              "{'accuracy': 79.3790546802595,\n",
              " 'f1': 0.7924957198033475,\n",
              " 'precision': 0.7948218835999921,\n",
              " 'recall': 0.793790546802595}"
            ]
          },
          "metadata": {},
          "execution_count": 84
        }
      ]
    },
    {
      "cell_type": "markdown",
      "metadata": {
        "id": "DFBEeK76x5Vz"
      },
      "source": [
        "### Conv1D with character embeddings"
      ]
    },
    {
      "cell_type": "markdown",
      "metadata": {
        "id": "xUrDL3H8ykIu"
      },
      "source": [
        "#####  create text vectorizer that works at character-level"
      ]
    },
    {
      "cell_type": "code",
      "metadata": {
        "id": "xsvg7PGaxxoo"
      },
      "source": [
        "#convert word-based sentences into string of individual characters\n",
        "def sentence_to_char(sentence_list):\n",
        "  \"\"\"\n",
        "  Takes list of sentences and separates all words in each sentece into individual characters\n",
        "  \"\"\"\n",
        "  char_list = [\" \".join(list(sentence)) for sentence in sentence_list]  #list(string) - converts string into list of individual characters in the string\n",
        "  return char_list"
      ],
      "execution_count": 85,
      "outputs": []
    },
    {
      "cell_type": "code",
      "metadata": {
        "id": "hQ5WMQ4szkPq"
      },
      "source": [
        "X_train_chars = sentence_to_char(X_train)\n",
        "X_test_chars = sentence_to_char(X_test)\n",
        "X_val_chars = sentence_to_char(X_val)"
      ],
      "execution_count": 86,
      "outputs": []
    },
    {
      "cell_type": "code",
      "metadata": {
        "colab": {
          "base_uri": "https://localhost:8080/"
        },
        "id": "2RSrW0Tbz8nm",
        "outputId": "da71aef3-1b7c-4b27-8a53-9827ad5d1e29"
      },
      "source": [
        "#calculate average number of characters in training sentences --> see length in cell below; NOTE:output of this cell also counts introduced whitespace\n",
        "np.mean([len(sent) for sent in X_train_chars])"
      ],
      "execution_count": 87,
      "outputs": [
        {
          "output_type": "execute_result",
          "data": {
            "text/plain": [
              "297.7325149966674"
            ]
          },
          "metadata": {},
          "execution_count": 87
        }
      ]
    },
    {
      "cell_type": "code",
      "metadata": {
        "id": "BzMd9IUy0a2U"
      },
      "source": [
        "char_nums = [len(sent) for sent in X_train]"
      ],
      "execution_count": 88,
      "outputs": []
    },
    {
      "cell_type": "code",
      "metadata": {
        "colab": {
          "base_uri": "https://localhost:8080/",
          "height": 265
        },
        "id": "me31VMkd05Jz",
        "outputId": "f9568efa-3e97-4107-b34c-18a8dc8505e8"
      },
      "source": [
        "plt.hist(char_nums, bins=7)\n",
        "plt.show()"
      ],
      "execution_count": 89,
      "outputs": [
        {
          "output_type": "display_data",
          "data": {
            "image/png": "[encoded data removed]",
            "text/plain": [
              "<Figure size 432x288 with 1 Axes>"
            ]
          },
          "metadata": {
            "needs_background": "light"
          }
        }
      ]
    },
    {
      "cell_type": "code",
      "metadata": {
        "colab": {
          "base_uri": "https://localhost:8080/"
        },
        "id": "asrHssit1E6X",
        "outputId": "c9998b3d-9722-4a26-8305-17e1b89f1dc8"
      },
      "source": [
        "#get 75% and 95 % int to use in character tokenizer output length\n",
        "txt_len_75 = int(np.percentile(char_nums, 75))\n",
        "txt_len_95 = out_len = int(np.percentile(char_nums, 95))\n",
        "txt_len_75, txt_len_95"
      ],
      "execution_count": 90,
      "outputs": [
        {
          "output_type": "execute_result",
          "data": {
            "text/plain": [
              "(189, 290)"
            ]
          },
          "metadata": {},
          "execution_count": 90
        }
      ]
    },
    {
      "cell_type": "code",
      "metadata": {
        "colab": {
          "base_uri": "https://localhost:8080/",
          "height": 35
        },
        "id": "orNB9Pkh4lV1",
        "outputId": "a26768b6-bdf7-4c22-c0cd-2272e62fd68d"
      },
      "source": [
        "#max. number of tokens in vectorizer needs to be the max. number of all aplhanumeric characters plus punctuation available\n",
        "import string\n",
        "all_chars = string.ascii_lowercase + string.digits + string.punctuation\n",
        "all_chars"
      ],
      "execution_count": 91,
      "outputs": [
        {
          "output_type": "execute_result",
          "data": {
            "application/vnd.google.colaboratory.intrinsic+json": {
              "type": "string"
            },
            "text/plain": [
              "'abcdefghijklmnopqrstuvwxyz0123456789!\"#$%&\\'()*+,-./:;<=>?@[\\\\]^_`{|}~'"
            ]
          },
          "metadata": {},
          "execution_count": 91
        }
      ]
    },
    {
      "cell_type": "code",
      "metadata": {
        "colab": {
          "base_uri": "https://localhost:8080/"
        },
        "id": "rRExT_T95eVc",
        "outputId": "a6de513a-41f0-453e-d928-26bcfd52b613"
      },
      "source": [
        "#max number of tokens to use in vectorizer is the number of all_chars PLUS 2 (1 for ' ' and 1 for OOV/['UNK'])\n",
        "MAX_TOKENS =len(all_chars)\n",
        "MAX_TOKENS"
      ],
      "execution_count": 92,
      "outputs": [
        {
          "output_type": "execute_result",
          "data": {
            "text/plain": [
              "68"
            ]
          },
          "metadata": {},
          "execution_count": 92
        }
      ]
    },
    {
      "cell_type": "code",
      "metadata": {
        "id": "gFr01Jad51gg"
      },
      "source": [
        "#instantiate\n",
        "char_vectorizer = tf.keras.layers.TextVectorization(\n",
        "    max_tokens=MAX_TOKENS, #number of words in vectorizer vocab\n",
        "    standardize='lower_and_strip_punctuation',\n",
        "    split='whitespace', ngrams=None, output_mode='int',\n",
        "    output_sequence_length=out_len, #number of words each vectorized inpit nis limited to (here: 290, as this captures 95% of all sentence lengths)\n",
        "    pad_to_max_tokens=True, vocabulary=None,\n",
        "    name=\"char_vectorizer\"\n",
        ")"
      ],
      "execution_count": 93,
      "outputs": []
    },
    {
      "cell_type": "code",
      "metadata": {
        "id": "oqMFINaD6JNe"
      },
      "source": [
        "#adapt tp X_train\n",
        "char_vectorizer.adapt(X_train_chars)"
      ],
      "execution_count": 94,
      "outputs": []
    },
    {
      "cell_type": "code",
      "metadata": {
        "colab": {
          "base_uri": "https://localhost:8080/"
        },
        "id": "PnSt4XlN5xSz",
        "outputId": "d4dcb791-feac-4b43-9d05-02d62a32511f"
      },
      "source": [
        "#check vocab\n",
        "char_vectorizer.get_vocabulary(), len(char_vectorizer.get_vocabulary())"
      ],
      "execution_count": 95,
      "outputs": [
        {
          "output_type": "execute_result",
          "data": {
            "text/plain": [
              "(['',\n",
              "  '[UNK]',\n",
              "  'e',\n",
              "  't',\n",
              "  'i',\n",
              "  'a',\n",
              "  'n',\n",
              "  'o',\n",
              "  'r',\n",
              "  's',\n",
              "  'd',\n",
              "  'c',\n",
              "  'l',\n",
              "  'h',\n",
              "  'p',\n",
              "  'm',\n",
              "  'u',\n",
              "  'f',\n",
              "  'g',\n",
              "  'y',\n",
              "  'w',\n",
              "  'v',\n",
              "  'b',\n",
              "  'k',\n",
              "  'x',\n",
              "  'z',\n",
              "  'q',\n",
              "  'j'],\n",
              " 28)"
            ]
          },
          "metadata": {},
          "execution_count": 95
        }
      ]
    },
    {
      "cell_type": "markdown",
      "metadata": {
        "id": "kZlujotE7ox_"
      },
      "source": [
        "##### create embedder that works at char-level and with char-vectorizer"
      ]
    },
    {
      "cell_type": "code",
      "metadata": {
        "id": "Kt3U6lIN5mpY"
      },
      "source": [
        "#embed\n",
        "char_embedder = tf.keras.layers.Embedding(input_dim=len(char_vectorizer.get_vocabulary()), # set input shape --> = length of vocabulary\n",
        "                             output_dim=25, # set size of embedding vector --> 25 as per model in paper that I am trying to reproduce\n",
        "                             mask_zero=True,\n",
        "                             embeddings_initializer=\"uniform\", # default, intialize randomly\n",
        "                             input_length=out_len, # how long is each input \n",
        "                             name=\"char_embed\")"
      ],
      "execution_count": 96,
      "outputs": []
    },
    {
      "cell_type": "code",
      "metadata": {
        "colab": {
          "base_uri": "https://localhost:8080/"
        },
        "id": "0J9tQhA-752X",
        "outputId": "aeaf6641-4a0a-4e61-e301-a6b6a8bbe551"
      },
      "source": [
        "print(f\"Indiv. character sentence: {random_text}\")\n",
        "print(f\"Sentence vectorized (with a length of {len(char_vectorizer([random_text])[0])}): \\n{char_vectorizer([random_text])}\")\n",
        "print(f\"Embedding of vectorized sentence (with a length of {len(char_embedder(char_vectorizer([random_text]))[0][0])} each): \\n{char_embedder(char_vectorizer([random_text]))}\")\n",
        "print(f\"\\nEmbedding shape: \\n{char_embedder(char_vectorizer([random_text])).shape}\")"
      ],
      "execution_count": 97,
      "outputs": [
        {
          "output_type": "stream",
          "name": "stdout",
          "text": [
            "Indiv. character sentence: thrombectomy was necessary in @/@ and @/@ patients with baseline thrombosis in the rsk and phenylephrine groups , respectively ( p = @ ) .\n",
            "Sentence vectorized (with a length of 290): \n",
            "[[ 1  1  1  1  1  1  1  1  1  1  1  1  1  1  1  1 14  0  0  0  0  0  0  0\n",
            "   0  0  0  0  0  0  0  0  0  0  0  0  0  0  0  0  0  0  0  0  0  0  0  0\n",
            "   0  0  0  0  0  0  0  0  0  0  0  0  0  0  0  0  0  0  0  0  0  0  0  0\n",
            "   0  0  0  0  0  0  0  0  0  0  0  0  0  0  0  0  0  0  0  0  0  0  0  0\n",
            "   0  0  0  0  0  0  0  0  0  0  0  0  0  0  0  0  0  0  0  0  0  0  0  0\n",
            "   0  0  0  0  0  0  0  0  0  0  0  0  0  0  0  0  0  0  0  0  0  0  0  0\n",
            "   0  0  0  0  0  0  0  0  0  0  0  0  0  0  0  0  0  0  0  0  0  0  0  0\n",
            "   0  0  0  0  0  0  0  0  0  0  0  0  0  0  0  0  0  0  0  0  0  0  0  0\n",
            "   0  0  0  0  0  0  0  0  0  0  0  0  0  0  0  0  0  0  0  0  0  0  0  0\n",
            "   0  0  0  0  0  0  0  0  0  0  0  0  0  0  0  0  0  0  0  0  0  0  0  0\n",
            "   0  0  0  0  0  0  0  0  0  0  0  0  0  0  0  0  0  0  0  0  0  0  0  0\n",
            "   0  0  0  0  0  0  0  0  0  0  0  0  0  0  0  0  0  0  0  0  0  0  0  0\n",
            "   0  0]]\n",
            "Embedding of vectorized sentence (with a length of 25 each): \n",
            "[[[-0.04889467  0.01065996  0.03305669 ... -0.02646869 -0.01819395\n",
            "   -0.0011984 ]\n",
            "  [-0.04889467  0.01065996  0.03305669 ... -0.02646869 -0.01819395\n",
            "   -0.0011984 ]\n",
            "  [-0.04889467  0.01065996  0.03305669 ... -0.02646869 -0.01819395\n",
            "   -0.0011984 ]\n",
            "  ...\n",
            "  [ 0.01250588 -0.03778453  0.0171939  ...  0.03139314 -0.04797186\n",
            "    0.03068649]\n",
            "  [ 0.01250588 -0.03778453  0.0171939  ...  0.03139314 -0.04797186\n",
            "    0.03068649]\n",
            "  [ 0.01250588 -0.03778453  0.0171939  ...  0.03139314 -0.04797186\n",
            "    0.03068649]]]\n",
            "\n",
            "Embedding shape: \n",
            "(1, 290, 25)\n"
          ]
        }
      ]
    },
    {
      "cell_type": "code",
      "metadata": {
        "id": "fnc6E8-gjXoe"
      },
      "source": [
        "#create datasets for char-level data (currently only made for word-level data) for faster fitting --> 1) convert data to tf datasets and 2) create batches\n",
        "train_dataset_char = tf.data.Dataset.from_tensor_slices((X_train_chars, encoded_train_labels)).batch(32).prefetch(tf.data.AUTOTUNE)\n",
        "test_dataset_char = tf.data.Dataset.from_tensor_slices((X_test_chars, encoded_test_labels)).batch(32).prefetch(tf.data.AUTOTUNE)\n",
        "val_dataset_char = tf.data.Dataset.from_tensor_slices((X_val_chars, encoded_val_labels)).batch(32).prefetch(tf.data.AUTOTUNE)"
      ],
      "execution_count": 98,
      "outputs": []
    },
    {
      "cell_type": "code",
      "metadata": {
        "id": "hfR-9w6U85_f"
      },
      "source": [
        "# build model\n",
        "inputs = tf.keras.layers.Input(shape=(1, ), dtype=tf.string)  #NOTE: input shape here takes one sequence at the time, whereas use_model embeddings input needed to be a list (specified in use_model docs)\n",
        "vectorizer = char_vectorizer(inputs)\n",
        "embedder = char_embedder(vectorizer)\n",
        "x = tf.keras.layers.Conv1D(filters=64, kernel_size=10, padding=\"same\", activation=\"relu\")(embedder)\n",
        "x = tf.keras.layers.GlobalMaxPool1D()(x)\n",
        "output = tf.keras.layers.Dense(num_classes, activation = \"softmax\")(x)\n",
        "conv1D_char_embeddings_model = tf.keras.Model(inputs, output, name=\"conv1D_char_embeddings\")"
      ],
      "execution_count": 99,
      "outputs": []
    },
    {
      "cell_type": "code",
      "metadata": {
        "id": "2qud9SUckV8n"
      },
      "source": [
        "#compile \n",
        "conv1D_char_embeddings_model.compile(\n",
        "    loss=\"categorical_crossentropy\",\n",
        "    optimizer=tf.keras.optimizers.Adam(),\n",
        "    metrics=[\"accuracy\"]\n",
        ")"
      ],
      "execution_count": 100,
      "outputs": []
    },
    {
      "cell_type": "code",
      "metadata": {
        "colab": {
          "base_uri": "https://localhost:8080/"
        },
        "id": "3MsL05szkhsj",
        "outputId": "f9fe9e61-cabd-4876-f9dc-ebb668fa41e0"
      },
      "source": [
        "#fit --> ONLY on char-based dataset for now\n",
        "conv1D_char_embeddings_model.fit(\n",
        "                                 train_dataset_char,\n",
        "                                 steps_per_epoch=len(train_dataset_char),\n",
        "                                 epochs=3,\n",
        "                                 validation_data=test_dataset_char,\n",
        "                                 validation_steps=int(0.1*len(val_dataset_char))\n",
        "                              )"
      ],
      "execution_count": 101,
      "outputs": [
        {
          "output_type": "stream",
          "name": "stdout",
          "text": [
            "Epoch 1/3\n",
            "5627/5627 [==============================] - 57s 10ms/step - loss: 0.8342 - accuracy: 0.6775 - val_loss: 0.6857 - val_accuracy: 0.7453\n",
            "Epoch 2/3\n",
            "5627/5627 [==============================] - 55s 10ms/step - loss: 0.6888 - accuracy: 0.7411 - val_loss: 0.6534 - val_accuracy: 0.7543\n",
            "Epoch 3/3\n",
            "5627/5627 [==============================] - 55s 10ms/step - loss: 0.6513 - accuracy: 0.7563 - val_loss: 0.6375 - val_accuracy: 0.7616\n"
          ]
        },
        {
          "output_type": "execute_result",
          "data": {
            "text/plain": [
              "<keras.callbacks.History at 0x7fc5a1ceabd0>"
            ]
          },
          "metadata": {},
          "execution_count": 101
        }
      ]
    },
    {
      "cell_type": "code",
      "metadata": {
        "colab": {
          "base_uri": "https://localhost:8080/"
        },
        "id": "QxYszjP7lmnB",
        "outputId": "d2616dfc-dc7a-489e-9403-ddc0801cbb86"
      },
      "source": [
        "conv1D_char_embeddings_model.evaluate(val_dataset_char)"
      ],
      "execution_count": 102,
      "outputs": [
        {
          "output_type": "stream",
          "name": "stdout",
          "text": [
            "945/945 [==============================] - 5s 5ms/step - loss: 0.6685 - accuracy: 0.7500\n"
          ]
        },
        {
          "output_type": "execute_result",
          "data": {
            "text/plain": [
              "[0.6684750914573669, 0.7500330805778503]"
            ]
          },
          "metadata": {},
          "execution_count": 102
        }
      ]
    },
    {
      "cell_type": "code",
      "metadata": {
        "id": "RmYOuPuclrbw"
      },
      "source": [
        "conv1D_char_embeddings_preds = conv1D_char_embeddings_model.predict(X_val_chars)"
      ],
      "execution_count": 103,
      "outputs": []
    },
    {
      "cell_type": "code",
      "metadata": {
        "id": "xVFt5-GElzhL"
      },
      "source": [
        "conv1D_char_embeddings_preds = tf.math.argmax(conv1D_char_embeddings_preds, axis=1)"
      ],
      "execution_count": 104,
      "outputs": []
    },
    {
      "cell_type": "code",
      "metadata": {
        "colab": {
          "base_uri": "https://localhost:8080/"
        },
        "id": "LLSiRshHm-xP",
        "outputId": "32ff72a1-602a-4417-b65f-b009f9fcbb25"
      },
      "source": [
        "conv1D_char_embeddings_metrics = calculate_results(lab_encoded_val_labels, conv1D_char_embeddings_preds)\n",
        "conv1D_char_embeddings_metrics"
      ],
      "execution_count": 105,
      "outputs": [
        {
          "output_type": "execute_result",
          "data": {
            "text/plain": [
              "{'accuracy': 75.00330994306897,\n",
              " 'f1': 0.7454624799217896,\n",
              " 'precision': 0.7506413897977957,\n",
              " 'recall': 0.7500330994306897}"
            ]
          },
          "metadata": {},
          "execution_count": 105
        }
      ]
    },
    {
      "cell_type": "code",
      "metadata": {
        "colab": {
          "base_uri": "https://localhost:8080/"
        },
        "id": "xcDzFwajnONM",
        "outputId": "c0dc8dbc-60f6-449d-bd49-909f68dd0287"
      },
      "source": [
        "baseline_metrics"
      ],
      "execution_count": 106,
      "outputs": [
        {
          "output_type": "execute_result",
          "data": {
            "text/plain": [
              "{'accuracy': 72.1832384482987,\n",
              " 'f1': 0.6989250353450294,\n",
              " 'precision': 0.7186466952323352,\n",
              " 'recall': 0.7218323844829869}"
            ]
          },
          "metadata": {},
          "execution_count": 106
        }
      ]
    },
    {
      "cell_type": "code",
      "metadata": {
        "colab": {
          "base_uri": "https://localhost:8080/"
        },
        "id": "K-5PPnmqnFZb",
        "outputId": "112f139e-a4e8-4c1f-ecd3-9f20d38d2b55"
      },
      "source": [
        "conv1D_metrics"
      ],
      "execution_count": 107,
      "outputs": [
        {
          "output_type": "execute_result",
          "data": {
            "text/plain": [
              "{'accuracy': 79.3790546802595,\n",
              " 'f1': 0.7924957198033475,\n",
              " 'precision': 0.7948218835999921,\n",
              " 'recall': 0.793790546802595}"
            ]
          },
          "metadata": {},
          "execution_count": 107
        }
      ]
    },
    {
      "cell_type": "markdown",
      "metadata": {
        "id": "vqY1-HyMxExg"
      },
      "source": [
        "## Multi-modal Models: 1 - character + token - level embedding LSTM <br>\n",
        "\n",
        "Note: to combine different embedding layers (see 2 of the layers above - xxx and xxx), a \"concatenating\"-layer (*layers.Concatenate*) needs to be added."
      ]
    },
    {
      "cell_type": "markdown",
      "metadata": {
        "id": "0Zc62qtxyn3P"
      },
      "source": [
        "##### Create embedding models for different input types (char vs token - based)"
      ]
    },
    {
      "cell_type": "code",
      "metadata": {
        "id": "BEfNw3b7nSNb"
      },
      "source": [
        "#0. instantiate token - and character-based vectorizers and embedders\n",
        "\n",
        "#token-level --> using pre-trained embedder (use_model from tf-Hub)\n",
        "use_layer = hub.KerasLayer(\"https://tfhub.dev/google/universal-sentence-encoder/4\",\n",
        "                                        input_shape=[], #NOTE: required input in list-form --> see model docs\n",
        "                                        dtype=tf.string, \n",
        "                                        trainable=False, \n",
        "                                        name=\"use\") \n",
        "\n",
        "#char-level\n",
        "char_out_len = int(np.percentile(char_nums, 95))\n",
        "MAX_CHARS = len(all_chars)\n",
        "\n",
        "char_vectorizer = tf.keras.layers.TextVectorization(\n",
        "    max_tokens=MAX_CHARS, standardize='lower_and_strip_punctuation',\n",
        "    split='whitespace', ngrams=None, output_mode='int',\n",
        "    output_sequence_length=char_out_len, pad_to_max_tokens=True, vocabulary=None\n",
        ")\n",
        "char_vectorizer.adapt(X_train_chars)\n",
        "\n",
        "char_embedder = tf.keras.layers.Embedding(input_dim=len(char_vectorizer.get_vocabulary()), \n",
        "                             output_dim=516, \n",
        "                             mask_zero=True,\n",
        "                             embeddings_initializer=\"uniform\", \n",
        "                             input_length=char_out_len) \n",
        "\n",
        "\n",
        "#1. token-level model\n",
        "token_inputs = tf.keras.layers.Input(shape=[], dtype=\"string\", name=\"token_inputs\")\n",
        "token_embed_pretrained = use_layer(token_inputs)\n",
        "token_output = tf.keras.layers.Dense(128, activation=\"relu\")(token_embed_pretrained)  # NOTE: not num_classes for numnb rof units, as this is not the FINAL output layer, but only the token-level output layer before concatination with char-level model\n",
        "token_model = tf.keras.Model(token_inputs, token_output, name=\"token_embedding_model\")\n",
        "\n",
        "#2. char-level model\n",
        "char_inputs = tf.keras.layers.Input(shape=(1, ), dtype=\"string\", name=\"char_inputs\")\n",
        "char_vect = char_vectorizer(char_inputs)\n",
        "char_embed = char_embedder(char_vect)\n",
        "char_output = tf.keras.layers.Bidirectional(tf.keras.layers.LSTM(48, dropout=0.2))(char_embed)\n",
        "char_model = tf.keras.Model(char_inputs, char_output, name=\"char_embedding_model\")"
      ],
      "execution_count": 112,
      "outputs": []
    },
    {
      "cell_type": "code",
      "metadata": {
        "id": "Bfk_H7X60ewj"
      },
      "source": [
        "#concatenate two models (token-level and char-level) creatihng a hyrid-token embedding\n",
        "hybrid_layer = tf.keras.layers.Concatenate(name=\"hybrid_layer\")([token_model.output, char_model.output])"
      ],
      "execution_count": 113,
      "outputs": []
    },
    {
      "cell_type": "code",
      "metadata": {
        "id": "Tbc5-pdL4aJs"
      },
      "source": [
        "#add output layers incl. drop-out\n",
        "hybrid_dropout1 = tf.keras.layers.Dropout(0.4, name=\"hybrid_dropout_1\")(hybrid_layer)\n",
        "hybrid_dense = tf.keras.layers.Dense(128, activation=\"relu\", name=\"hybrid_dense_layer\")(hybrid_dropout1)\n",
        "hybrid_dropout2 = tf.keras.layers.Dropout(0.6, name=\"hybrid_dropout_2\")(hybrid_dense)\n",
        "hybrid_output = tf.keras.layers.Dense(num_classes, activation=\"softmax\", name=\"hybrid_layer_output\")(hybrid_dropout2)"
      ],
      "execution_count": 114,
      "outputs": []
    },
    {
      "cell_type": "code",
      "metadata": {
        "id": "tpXTYBuQzGsG"
      },
      "source": [
        "#combine all layers into model\n",
        "hybrid_model = tf.keras.Model([token_inputs, char_inputs], hybrid_output, name=\"Hybrid_model\")  #NOTE: multiple inputs are ONLY possible with functional API, not with sequential API"
      ],
      "execution_count": 115,
      "outputs": []
    },
    {
      "cell_type": "code",
      "metadata": {
        "colab": {
          "base_uri": "https://localhost:8080/"
        },
        "id": "IheieFGi5buu",
        "outputId": "abea2c36-b39d-438f-a8b9-abfd074fc236"
      },
      "source": [
        "hybrid_model.summary()"
      ],
      "execution_count": 116,
      "outputs": [
        {
          "output_type": "stream",
          "name": "stdout",
          "text": [
            "Model: \"Hybrid_model\"\n",
            "__________________________________________________________________________________________________\n",
            "Layer (type)                    Output Shape         Param #     Connected to                     \n",
            "==================================================================================================\n",
            "char_inputs (InputLayer)        [(None, 1)]          0                                            \n",
            "__________________________________________________________________________________________________\n",
            "token_inputs (InputLayer)       [(None,)]            0                                            \n",
            "__________________________________________________________________________________________________\n",
            "text_vectorization_2 (TextVecto (None, 290)          0           char_inputs[0][0]                \n",
            "__________________________________________________________________________________________________\n",
            "use (KerasLayer)                (None, 512)          256797824   token_inputs[0][0]               \n",
            "__________________________________________________________________________________________________\n",
            "embedding_2 (Embedding)         (None, 290, 516)     14448       text_vectorization_2[0][0]       \n",
            "__________________________________________________________________________________________________\n",
            "dense_7 (Dense)                 (None, 128)          65664       use[0][0]                        \n",
            "__________________________________________________________________________________________________\n",
            "bidirectional_1 (Bidirectional) (None, 96)           216960      embedding_2[0][0]                \n",
            "__________________________________________________________________________________________________\n",
            "hybrid_layer (Concatenate)      (None, 224)          0           dense_7[0][0]                    \n",
            "                                                                 bidirectional_1[0][0]            \n",
            "__________________________________________________________________________________________________\n",
            "hybrid_dropout_1 (Dropout)      (None, 224)          0           hybrid_layer[0][0]               \n",
            "__________________________________________________________________________________________________\n",
            "hybrid_dense_layer (Dense)      (None, 128)          28800       hybrid_dropout_1[0][0]           \n",
            "__________________________________________________________________________________________________\n",
            "hybrid_dropout_2 (Dropout)      (None, 128)          0           hybrid_dense_layer[0][0]         \n",
            "__________________________________________________________________________________________________\n",
            "hybrid_layer_output (Dense)     (None, 5)            645         hybrid_dropout_2[0][0]           \n",
            "==================================================================================================\n",
            "Total params: 257,124,341\n",
            "Trainable params: 326,517\n",
            "Non-trainable params: 256,797,824\n",
            "__________________________________________________________________________________________________\n"
          ]
        }
      ]
    },
    {
      "cell_type": "code",
      "metadata": {
        "id": "3MEaneLe5_f5",
        "colab": {
          "base_uri": "https://localhost:8080/",
          "height": 856
        },
        "outputId": "c9656d46-b6de-451f-fcb4-3164bf1fb5a3"
      },
      "source": [
        "#visualiza more complex models\n",
        "from tensorflow.keras.utils import plot_model\n",
        "plot_model(hybrid_model)"
      ],
      "execution_count": 120,
      "outputs": [
        {
          "output_type": "execute_result",
          "data": {
            "image/png": "[encoded data removed]",
            "text/plain": [
              "<IPython.core.display.Image object>"
            ]
          },
          "metadata": {},
          "execution_count": 120
        }
      ]
    },
    {
      "cell_type": "code",
      "metadata": {
        "id": "pNeDcF5-0bvj"
      },
      "source": [
        ""
      ],
      "execution_count": null,
      "outputs": []
    }
  ]
}