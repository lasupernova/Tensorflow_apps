{
  "nbformat": 4,
  "nbformat_minor": 0,
  "metadata": {
    "colab": {
      "name": "SciAbstractClassifier.ipynb",
      "provenance": [],
      "collapsed_sections": [],
      "authorship_tag": "ABX9TyMCsMyq3HrG431R3xWOZzFt",
      "include_colab_link": true
    },
    "kernelspec": {
      "name": "python3",
      "display_name": "Python 3"
    },
    "language_info": {
      "name": "python"
    },
    "accelerator": "GPU"
  },
  "cells": [
    {
      "cell_type": "markdown",
      "metadata": {
        "id": "view-in-github",
        "colab_type": "text"
      },
      "source": [
        "<a href=\"https://colab.research.google.com/github/lasupernova/Tensorflow_apps/blob/master/SciAbstractClassifier.ipynb\" target=\"_parent\"><img src=\"https://colab.research.google.com/assets/colab-badge.svg\" alt=\"Open In Colab\"/></a>"
      ]
    },
    {
      "cell_type": "markdown",
      "metadata": {
        "id": "5tz0z1GzcOJZ"
      },
      "source": [
        "An NLP model that makes reading scientific abstract easier by separating an abstract into 5 parts.\n",
        "\n",
        " - Background\n",
        " - Objectives\n",
        " - Methods\n",
        " - Results\n",
        " - Conclusion\n",
        "\n",
        "The model aims to replicate and modify (improved) the models built in the following paper:\n",
        "https://arxiv.org/abs/1710.06071"
      ]
    },
    {
      "cell_type": "code",
      "metadata": {
        "colab": {
          "base_uri": "https://localhost:8080/"
        },
        "id": "0lQ6gTRsX6O4",
        "outputId": "aa2cd8fc-8448-45f9-e14d-89e1e294bba8"
      },
      "source": [
        "#check access to GPU\n",
        "!nvidia-smi -L"
      ],
      "execution_count": 1,
      "outputs": [
        {
          "output_type": "stream",
          "name": "stdout",
          "text": [
            "GPU 0: Tesla K80 (UUID: GPU-e9b71e10-c42c-1526-48a0-a3d763710424)\n"
          ]
        }
      ]
    },
    {
      "cell_type": "markdown",
      "metadata": {
        "id": "LzCDoIbgctl_"
      },
      "source": [
        "The PubMed 200k RCT dataset (https://github.com/Franck-Dernoncourt/pubmed-rct)  will be used for training the model, based on the following paper:\n",
        "\n",
        "https://arxiv.org/abs/1710.06071"
      ]
    },
    {
      "cell_type": "code",
      "metadata": {
        "colab": {
          "base_uri": "https://localhost:8080/"
        },
        "id": "hMJPjCVYcost",
        "outputId": "18eb8773-6c9b-457c-a5df-609bfb8a19f9"
      },
      "source": [
        "#download data\n",
        "!git clone https://github.com/Franck-Dernoncourt/pubmed-rct\n",
        "!ls pubmed-rct"
      ],
      "execution_count": 2,
      "outputs": [
        {
          "output_type": "stream",
          "name": "stdout",
          "text": [
            "Cloning into 'pubmed-rct'...\n",
            "remote: Enumerating objects: 33, done.\u001b[K\n",
            "remote: Counting objects: 100% (3/3), done.\u001b[K\n",
            "remote: Compressing objects: 100% (3/3), done.\u001b[K\n",
            "remote: Total 33 (delta 0), reused 0 (delta 0), pack-reused 30\u001b[K\n",
            "Unpacking objects: 100% (33/33), done.\n",
            "PubMed_200k_RCT\n",
            "PubMed_200k_RCT_numbers_replaced_with_at_sign\n",
            "PubMed_20k_RCT\n",
            "PubMed_20k_RCT_numbers_replaced_with_at_sign\n",
            "README.md\n"
          ]
        }
      ]
    },
    {
      "cell_type": "code",
      "metadata": {
        "colab": {
          "base_uri": "https://localhost:8080/"
        },
        "id": "X8e7q_DcJ-dU",
        "outputId": "044a2e53-956b-4b0d-85b2-6b55bfbcfaaa"
      },
      "source": [
        "#download helper function to use throughout script\n",
        "!wget https://raw.githubusercontent.com/lasupernova/Tensorflow_apps/master/helpers.py"
      ],
      "execution_count": 3,
      "outputs": [
        {
          "output_type": "stream",
          "name": "stdout",
          "text": [
            "--2021-10-21 22:29:09--  https://raw.githubusercontent.com/lasupernova/Tensorflow_apps/master/helpers.py\n",
            "Resolving raw.githubusercontent.com (raw.githubusercontent.com)... 185.199.108.133, 185.199.109.133, 185.199.110.133, ...\n",
            "Connecting to raw.githubusercontent.com (raw.githubusercontent.com)|185.199.108.133|:443... connected.\n",
            "HTTP request sent, awaiting response... 200 OK\n",
            "Length: 10252 (10K) [text/plain]\n",
            "Saving to: ‘helpers.py’\n",
            "\n",
            "helpers.py          100%[===================>]  10.01K  --.-KB/s    in 0s      \n",
            "\n",
            "2021-10-21 22:29:09 (65.0 MB/s) - ‘helpers.py’ saved [10252/10252]\n",
            "\n"
          ]
        }
      ]
    },
    {
      "cell_type": "code",
      "metadata": {
        "id": "wyAO8lqHe7un"
      },
      "source": [
        "#imports\n",
        "import os\n",
        "import statistics\n",
        "import random\n",
        "import pandas as pd\n",
        "import numpy as np\n",
        "import matplotlib.pyplot as plt\n",
        "from sklearn.preprocessing import OneHotEncoder, LabelEncoder\n",
        "from sklearn.feature_extraction.text import TfidfVectorizer\n",
        "from sklearn.naive_bayes import MultinomialNB\n",
        "from sklearn.pipeline import Pipeline\n",
        "import tensorflow_hub as hub\n",
        "from helpers import calculate_results\n",
        "import tensorflow as tf"
      ],
      "execution_count": 4,
      "outputs": []
    },
    {
      "cell_type": "markdown",
      "metadata": {
        "id": "Nz8MweW6d2OY"
      },
      "source": [
        "## Model using 10% of data set"
      ]
    },
    {
      "cell_type": "code",
      "metadata": {
        "colab": {
          "base_uri": "https://localhost:8080/"
        },
        "id": "xd65P5B9d11H",
        "outputId": "f7f1eaf1-8cad-47b8-ffe1-61f645c429ba"
      },
      "source": [
        "#check pubmed_20k_rct dataset files\n",
        "!ls pubmed-rct/PubMed_20k_RCT_numbers_replaced_with_at_sign/"
      ],
      "execution_count": 5,
      "outputs": [
        {
          "output_type": "stream",
          "name": "stdout",
          "text": [
            "dev.txt  test.txt  train.txt\n"
          ]
        }
      ]
    },
    {
      "cell_type": "markdown",
      "metadata": {
        "id": "SRIjQCSWeXZu"
      },
      "source": [
        "NOTE: <br>\n",
        "train.txt - train dataset<br>\n",
        "test.txt - test dataset<br>\n",
        "dev.txt - validation dataset<br>"
      ]
    },
    {
      "cell_type": "code",
      "metadata": {
        "id": "dEPzjAcTddvQ"
      },
      "source": [
        "DATA_DIR = \"/content/pubmed-rct/PubMed_20k_RCT_numbers_replaced_with_at_sign\""
      ],
      "execution_count": 6,
      "outputs": []
    },
    {
      "cell_type": "code",
      "metadata": {
        "colab": {
          "base_uri": "https://localhost:8080/"
        },
        "id": "kt34l0Zbe3HK",
        "outputId": "50d11da1-cfdd-4882-931a-aa44683f8e04"
      },
      "source": [
        "#get list of filenames in dir\n",
        "f_names = [f\"{DATA_DIR}{os.sep}{f_name}\" for f_name in os.listdir(DATA_DIR)]\n",
        "f_names"
      ],
      "execution_count": 7,
      "outputs": [
        {
          "output_type": "execute_result",
          "data": {
            "text/plain": [
              "['/content/pubmed-rct/PubMed_20k_RCT_numbers_replaced_with_at_sign/dev.txt',\n",
              " '/content/pubmed-rct/PubMed_20k_RCT_numbers_replaced_with_at_sign/train.txt',\n",
              " '/content/pubmed-rct/PubMed_20k_RCT_numbers_replaced_with_at_sign/test.txt']"
            ]
          },
          "metadata": {},
          "execution_count": 7
        }
      ]
    },
    {
      "cell_type": "markdown",
      "metadata": {
        "id": "7KThNA05hT-k"
      },
      "source": [
        "### Pre-process data"
      ]
    },
    {
      "cell_type": "code",
      "metadata": {
        "id": "mBVCZjJdfNxi"
      },
      "source": [
        "#read data into variables\n",
        "def import_data_from_txt(f_name):\n",
        "  \"\"\"\n",
        "  Read data contained in specified file and save data (text) to variable to.\n",
        "\n",
        "  PARAMS:\n",
        "    f_name(str) - path to file\n",
        "\n",
        "  RETURNS:\n",
        "    data(lst) - list with text data save as entries\n",
        "  \"\"\"\n",
        "  extension = f_name.split(\".\")[-1]\n",
        "  if extension != \"txt\":\n",
        "    print(\"ERROR! Extension of type .txt required!\")\n",
        "  with open(f_name, \"r\") as f:\n",
        "    return f.readlines()"
      ],
      "execution_count": 8,
      "outputs": []
    },
    {
      "cell_type": "code",
      "metadata": {
        "id": "Y7AKWuskiaO_"
      },
      "source": [
        "# for file in f_names:\n",
        "#   name = file.split(\"/\")[-1].split(\".\")[0]\n",
        "#   name = "
      ],
      "execution_count": 9,
      "outputs": []
    },
    {
      "cell_type": "code",
      "metadata": {
        "id": "nWCKyfyLjI5c"
      },
      "source": [
        "train_data = import_data_from_txt('/content/pubmed-rct/PubMed_20k_RCT_numbers_replaced_with_at_sign/train.txt')\n",
        "test_data = import_data_from_txt('/content/pubmed-rct/PubMed_20k_RCT_numbers_replaced_with_at_sign/test.txt')\n",
        "val_data = import_data_from_txt('/content/pubmed-rct/PubMed_20k_RCT_numbers_replaced_with_at_sign/dev.txt')"
      ],
      "execution_count": 10,
      "outputs": []
    },
    {
      "cell_type": "code",
      "metadata": {
        "colab": {
          "base_uri": "https://localhost:8080/"
        },
        "id": "CNvt1THikEU0",
        "outputId": "4fcb6b2d-3332-4377-ab6f-1514185b3a3d"
      },
      "source": [
        "train_data[:20]"
      ],
      "execution_count": 11,
      "outputs": [
        {
          "output_type": "execute_result",
          "data": {
            "text/plain": [
              "['###24293578\\n',\n",
              " 'OBJECTIVE\\tTo investigate the efficacy of @ weeks of daily low-dose oral prednisolone in improving pain , mobility , and systemic low-grade inflammation in the short term and whether the effect would be sustained at @ weeks in older adults with moderate to severe knee osteoarthritis ( OA ) .\\n',\n",
              " 'METHODS\\tA total of @ patients with primary knee OA were randomized @:@ ; @ received @ mg/day of prednisolone and @ received placebo for @ weeks .\\n',\n",
              " 'METHODS\\tOutcome measures included pain reduction and improvement in function scores and systemic inflammation markers .\\n',\n",
              " 'METHODS\\tPain was assessed using the visual analog pain scale ( @-@ mm ) .\\n',\n",
              " 'METHODS\\tSecondary outcome measures included the Western Ontario and McMaster Universities Osteoarthritis Index scores , patient global assessment ( PGA ) of the severity of knee OA , and @-min walk distance ( @MWD ) .\\n',\n",
              " 'METHODS\\tSerum levels of interleukin @ ( IL-@ ) , IL-@ , tumor necrosis factor ( TNF ) - , and high-sensitivity C-reactive protein ( hsCRP ) were measured .\\n',\n",
              " 'RESULTS\\tThere was a clinically relevant reduction in the intervention group compared to the placebo group for knee pain , physical function , PGA , and @MWD at @ weeks .\\n',\n",
              " 'RESULTS\\tThe mean difference between treatment arms ( @ % CI ) was @ ( @-@ @ ) , p < @ ; @ ( @-@ @ ) , p < @ ; @ ( @-@ @ ) , p < @ ; and @ ( @-@ @ ) , p < @ , respectively .\\n',\n",
              " 'RESULTS\\tFurther , there was a clinically relevant reduction in the serum levels of IL-@ , IL-@ , TNF - , and hsCRP at @ weeks in the intervention group when compared to the placebo group .\\n',\n",
              " 'RESULTS\\tThese differences remained significant at @ weeks .\\n',\n",
              " 'RESULTS\\tThe Outcome Measures in Rheumatology Clinical Trials-Osteoarthritis Research Society International responder rate was @ % in the intervention group and @ % in the placebo group ( p < @ ) .\\n',\n",
              " 'CONCLUSIONS\\tLow-dose oral prednisolone had both a short-term and a longer sustained effect resulting in less knee pain , better physical function , and attenuation of systemic inflammation in older patients with knee OA ( ClinicalTrials.gov identifier NCT@ ) .\\n',\n",
              " '\\n',\n",
              " '###24854809\\n',\n",
              " 'BACKGROUND\\tEmotional eating is associated with overeating and the development of obesity .\\n',\n",
              " 'BACKGROUND\\tYet , empirical evidence for individual ( trait ) differences in emotional eating and cognitive mechanisms that contribute to eating during sad mood remain equivocal .\\n',\n",
              " 'OBJECTIVE\\tThe aim of this study was to test if attention bias for food moderates the effect of self-reported emotional eating during sad mood ( vs neutral mood ) on actual food intake .\\n',\n",
              " 'OBJECTIVE\\tIt was expected that emotional eating is predictive of elevated attention for food and higher food intake after an experimentally induced sad mood and that attentional maintenance on food predicts food intake during a sad versus a neutral mood .\\n',\n",
              " 'METHODS\\tParticipants ( N = @ ) were randomly assigned to one of the two experimental mood induction conditions ( sad/neutral ) .\\n']"
            ]
          },
          "metadata": {},
          "execution_count": 11
        }
      ]
    },
    {
      "cell_type": "code",
      "metadata": {
        "id": "dEMZl5F4kHF8"
      },
      "source": [
        "#create list of dicts to store data in \n",
        "def preprocess_data(f_name):\n",
        "    \"\"\"\n",
        "    Get information from text file specified.\n",
        "    Read data contained in data list into list of dicts, with every data list entry being represented by a dict.\n",
        "\n",
        "    PARAMS:\n",
        "      f_name(str) - path to file\n",
        "\n",
        "    RETURNS:\n",
        "      lstOdct(lst) - list of dicts\n",
        "    \"\"\"\n",
        "    data = import_data_from_txt(f_name)\n",
        "    line_counter = 0\n",
        "    lstOdct = []\n",
        "    for entry in data:\n",
        "      if entry.startswith(\"###\"):\n",
        "        line_counter = 1\n",
        "        new_abstract = []\n",
        "      elif entry == \"\\n\":\n",
        "        line_counter = 0\n",
        "        #get line count for current abstract\n",
        "        total_lines = len(new_abstract)\n",
        "        #append line count for current abstract to each dict in sublist\n",
        "        new_abstract = [dict(item, **{'total_lines':total_lines}) for item in new_abstract]\n",
        "        #add current abstract entries to lstOdct\n",
        "        lstOdct.extend(new_abstract)\n",
        "      else:\n",
        "        label, sentence = entry.strip().split(\"\\t\")\n",
        "        curr_dict = {\n",
        "            \"line_num\" : line_counter,\n",
        "            \"label\" : label.lower(),\n",
        "            \"text\" : sentence.lower()\n",
        "        }\n",
        "        new_abstract.append(curr_dict)\n",
        "        line_counter  += 1\n",
        "    return lstOdct"
      ],
      "execution_count": 12,
      "outputs": []
    },
    {
      "cell_type": "code",
      "metadata": {
        "colab": {
          "base_uri": "https://localhost:8080/"
        },
        "id": "PcBqeqKXoW5p",
        "outputId": "b80d18fc-2142-4c83-a59e-9380ca10ea79"
      },
      "source": [
        "%%time\n",
        "train_dct = preprocess_data('/content/pubmed-rct/PubMed_20k_RCT_numbers_replaced_with_at_sign/train.txt')\n",
        "test_dct = preprocess_data('/content/pubmed-rct/PubMed_20k_RCT_numbers_replaced_with_at_sign/test.txt')\n",
        "val_dct = preprocess_data('/content/pubmed-rct/PubMed_20k_RCT_numbers_replaced_with_at_sign/dev.txt')"
      ],
      "execution_count": 13,
      "outputs": [
        {
          "output_type": "stream",
          "name": "stdout",
          "text": [
            "CPU times: user 584 ms, sys: 116 ms, total: 700 ms\n",
            "Wall time: 715 ms\n"
          ]
        }
      ]
    },
    {
      "cell_type": "code",
      "metadata": {
        "colab": {
          "base_uri": "https://localhost:8080/"
        },
        "id": "i8L3ACiSozL3",
        "outputId": "39fef685-a5f6-4079-9566-076c328a3b83"
      },
      "source": [
        "train_dct[:5]"
      ],
      "execution_count": 14,
      "outputs": [
        {
          "output_type": "execute_result",
          "data": {
            "text/plain": [
              "[{'label': 'objective',\n",
              "  'line_num': 1,\n",
              "  'text': 'to investigate the efficacy of @ weeks of daily low-dose oral prednisolone in improving pain , mobility , and systemic low-grade inflammation in the short term and whether the effect would be sustained at @ weeks in older adults with moderate to severe knee osteoarthritis ( oa ) .',\n",
              "  'total_lines': 12},\n",
              " {'label': 'methods',\n",
              "  'line_num': 2,\n",
              "  'text': 'a total of @ patients with primary knee oa were randomized @:@ ; @ received @ mg/day of prednisolone and @ received placebo for @ weeks .',\n",
              "  'total_lines': 12},\n",
              " {'label': 'methods',\n",
              "  'line_num': 3,\n",
              "  'text': 'outcome measures included pain reduction and improvement in function scores and systemic inflammation markers .',\n",
              "  'total_lines': 12},\n",
              " {'label': 'methods',\n",
              "  'line_num': 4,\n",
              "  'text': 'pain was assessed using the visual analog pain scale ( @-@ mm ) .',\n",
              "  'total_lines': 12},\n",
              " {'label': 'methods',\n",
              "  'line_num': 5,\n",
              "  'text': 'secondary outcome measures included the western ontario and mcmaster universities osteoarthritis index scores , patient global assessment ( pga ) of the severity of knee oa , and @-min walk distance ( @mwd ) .',\n",
              "  'total_lines': 12}]"
            ]
          },
          "metadata": {},
          "execution_count": 14
        }
      ]
    },
    {
      "cell_type": "code",
      "metadata": {
        "colab": {
          "base_uri": "https://localhost:8080/",
          "height": 669
        },
        "id": "FTejjedFrumR",
        "outputId": "7e06fc99-12b2-43dc-f52b-b5493805994a"
      },
      "source": [
        "#convert list of dicts into DataFrame in order to visualize\n",
        "train_df = pd.DataFrame(train_dct)\n",
        "test_df = pd.DataFrame(test_dct)\n",
        "val_df = pd.DataFrame(val_dct)\n",
        "train_df.head(20)"
      ],
      "execution_count": 15,
      "outputs": [
        {
          "output_type": "execute_result",
          "data": {
            "text/html": [
              "<div>\n",
              "<style scoped>\n",
              "    .dataframe tbody tr th:only-of-type {\n",
              "        vertical-align: middle;\n",
              "    }\n",
              "\n",
              "    .dataframe tbody tr th {\n",
              "        vertical-align: top;\n",
              "    }\n",
              "\n",
              "    .dataframe thead th {\n",
              "        text-align: right;\n",
              "    }\n",
              "</style>\n",
              "<table border=\"1\" class=\"dataframe\">\n",
              "  <thead>\n",
              "    <tr style=\"text-align: right;\">\n",
              "      <th></th>\n",
              "      <th>line_num</th>\n",
              "      <th>label</th>\n",
              "      <th>text</th>\n",
              "      <th>total_lines</th>\n",
              "    </tr>\n",
              "  </thead>\n",
              "  <tbody>\n",
              "    <tr>\n",
              "      <th>0</th>\n",
              "      <td>1</td>\n",
              "      <td>objective</td>\n",
              "      <td>to investigate the efficacy of @ weeks of dail...</td>\n",
              "      <td>12</td>\n",
              "    </tr>\n",
              "    <tr>\n",
              "      <th>1</th>\n",
              "      <td>2</td>\n",
              "      <td>methods</td>\n",
              "      <td>a total of @ patients with primary knee oa wer...</td>\n",
              "      <td>12</td>\n",
              "    </tr>\n",
              "    <tr>\n",
              "      <th>2</th>\n",
              "      <td>3</td>\n",
              "      <td>methods</td>\n",
              "      <td>outcome measures included pain reduction and i...</td>\n",
              "      <td>12</td>\n",
              "    </tr>\n",
              "    <tr>\n",
              "      <th>3</th>\n",
              "      <td>4</td>\n",
              "      <td>methods</td>\n",
              "      <td>pain was assessed using the visual analog pain...</td>\n",
              "      <td>12</td>\n",
              "    </tr>\n",
              "    <tr>\n",
              "      <th>4</th>\n",
              "      <td>5</td>\n",
              "      <td>methods</td>\n",
              "      <td>secondary outcome measures included the wester...</td>\n",
              "      <td>12</td>\n",
              "    </tr>\n",
              "    <tr>\n",
              "      <th>5</th>\n",
              "      <td>6</td>\n",
              "      <td>methods</td>\n",
              "      <td>serum levels of interleukin @ ( il-@ ) , il-@ ...</td>\n",
              "      <td>12</td>\n",
              "    </tr>\n",
              "    <tr>\n",
              "      <th>6</th>\n",
              "      <td>7</td>\n",
              "      <td>results</td>\n",
              "      <td>there was a clinically relevant reduction in t...</td>\n",
              "      <td>12</td>\n",
              "    </tr>\n",
              "    <tr>\n",
              "      <th>7</th>\n",
              "      <td>8</td>\n",
              "      <td>results</td>\n",
              "      <td>the mean difference between treatment arms ( @...</td>\n",
              "      <td>12</td>\n",
              "    </tr>\n",
              "    <tr>\n",
              "      <th>8</th>\n",
              "      <td>9</td>\n",
              "      <td>results</td>\n",
              "      <td>further , there was a clinically relevant redu...</td>\n",
              "      <td>12</td>\n",
              "    </tr>\n",
              "    <tr>\n",
              "      <th>9</th>\n",
              "      <td>10</td>\n",
              "      <td>results</td>\n",
              "      <td>these differences remained significant at @ we...</td>\n",
              "      <td>12</td>\n",
              "    </tr>\n",
              "    <tr>\n",
              "      <th>10</th>\n",
              "      <td>11</td>\n",
              "      <td>results</td>\n",
              "      <td>the outcome measures in rheumatology clinical ...</td>\n",
              "      <td>12</td>\n",
              "    </tr>\n",
              "    <tr>\n",
              "      <th>11</th>\n",
              "      <td>12</td>\n",
              "      <td>conclusions</td>\n",
              "      <td>low-dose oral prednisolone had both a short-te...</td>\n",
              "      <td>12</td>\n",
              "    </tr>\n",
              "    <tr>\n",
              "      <th>12</th>\n",
              "      <td>1</td>\n",
              "      <td>background</td>\n",
              "      <td>emotional eating is associated with overeating...</td>\n",
              "      <td>11</td>\n",
              "    </tr>\n",
              "    <tr>\n",
              "      <th>13</th>\n",
              "      <td>2</td>\n",
              "      <td>background</td>\n",
              "      <td>yet , empirical evidence for individual ( trai...</td>\n",
              "      <td>11</td>\n",
              "    </tr>\n",
              "    <tr>\n",
              "      <th>14</th>\n",
              "      <td>3</td>\n",
              "      <td>objective</td>\n",
              "      <td>the aim of this study was to test if attention...</td>\n",
              "      <td>11</td>\n",
              "    </tr>\n",
              "    <tr>\n",
              "      <th>15</th>\n",
              "      <td>4</td>\n",
              "      <td>objective</td>\n",
              "      <td>it was expected that emotional eating is predi...</td>\n",
              "      <td>11</td>\n",
              "    </tr>\n",
              "    <tr>\n",
              "      <th>16</th>\n",
              "      <td>5</td>\n",
              "      <td>methods</td>\n",
              "      <td>participants ( n = @ ) were randomly assigned ...</td>\n",
              "      <td>11</td>\n",
              "    </tr>\n",
              "    <tr>\n",
              "      <th>17</th>\n",
              "      <td>6</td>\n",
              "      <td>methods</td>\n",
              "      <td>attentional biases for high caloric foods were...</td>\n",
              "      <td>11</td>\n",
              "    </tr>\n",
              "    <tr>\n",
              "      <th>18</th>\n",
              "      <td>7</td>\n",
              "      <td>methods</td>\n",
              "      <td>self-reported emotional eating was assessed wi...</td>\n",
              "      <td>11</td>\n",
              "    </tr>\n",
              "    <tr>\n",
              "      <th>19</th>\n",
              "      <td>8</td>\n",
              "      <td>results</td>\n",
              "      <td>hierarchical multivariate regression modeling ...</td>\n",
              "      <td>11</td>\n",
              "    </tr>\n",
              "  </tbody>\n",
              "</table>\n",
              "</div>"
            ],
            "text/plain": [
              "    line_num  ... total_lines\n",
              "0          1  ...          12\n",
              "1          2  ...          12\n",
              "2          3  ...          12\n",
              "3          4  ...          12\n",
              "4          5  ...          12\n",
              "5          6  ...          12\n",
              "6          7  ...          12\n",
              "7          8  ...          12\n",
              "8          9  ...          12\n",
              "9         10  ...          12\n",
              "10        11  ...          12\n",
              "11        12  ...          12\n",
              "12         1  ...          11\n",
              "13         2  ...          11\n",
              "14         3  ...          11\n",
              "15         4  ...          11\n",
              "16         5  ...          11\n",
              "17         6  ...          11\n",
              "18         7  ...          11\n",
              "19         8  ...          11\n",
              "\n",
              "[20 rows x 4 columns]"
            ]
          },
          "metadata": {},
          "execution_count": 15
        }
      ]
    },
    {
      "cell_type": "code",
      "metadata": {
        "id": "_smxIcMdsYkY"
      },
      "source": [
        "# check what the distribution of abstract length is\n",
        "len_distrib_sorted = train_df.total_lines.value_counts().sort_values(ascending=False).to_frame()"
      ],
      "execution_count": 16,
      "outputs": []
    },
    {
      "cell_type": "code",
      "metadata": {
        "id": "Jb2y53jou7kL"
      },
      "source": [
        "# check what the distribution of abstract length is\n",
        "len_distrib = train_df.total_lines.value_counts().to_frame().sort_index()"
      ],
      "execution_count": 17,
      "outputs": []
    },
    {
      "cell_type": "code",
      "metadata": {
        "colab": {
          "base_uri": "https://localhost:8080/",
          "height": 265
        },
        "id": "qAEdGW7ct6tH",
        "outputId": "e4ee48b6-0973-48a7-9461-c59efa8a1fe7"
      },
      "source": [
        "train_df.total_lines.plot.hist(bins=len(len_distrib))\n",
        "plt.show()"
      ],
      "execution_count": 18,
      "outputs": [
        {
          "output_type": "display_data",
          "data": {
            "image/png": "[encoded data removed]",
            "text/plain": [
              "<Figure size 432x288 with 1 Axes>"
            ]
          },
          "metadata": {
            "needs_background": "light"
          }
        }
      ]
    },
    {
      "cell_type": "code",
      "metadata": {
        "colab": {
          "base_uri": "https://localhost:8080/",
          "height": 265
        },
        "id": "2Y5rlLtQsz4q",
        "outputId": "f4f3c33a-cfd0-457c-80b8-67161e597cee"
      },
      "source": [
        "len_distrib.plot()\n",
        "plt.show()"
      ],
      "execution_count": 19,
      "outputs": [
        {
          "output_type": "display_data",
          "data": {
            "image/png": "[encoded data removed]",
            "text/plain": [
              "<Figure size 432x288 with 1 Axes>"
            ]
          },
          "metadata": {
            "needs_background": "light"
          }
        }
      ]
    },
    {
      "cell_type": "code",
      "metadata": {
        "id": "RSrZ64gxvZL3"
      },
      "source": [
        "# check what the distribution of abstract labels is\n",
        "label_distrib = train_df.label.value_counts()"
      ],
      "execution_count": 20,
      "outputs": []
    },
    {
      "cell_type": "code",
      "metadata": {
        "colab": {
          "base_uri": "https://localhost:8080/",
          "height": 314
        },
        "id": "A-0SQz-qvgdl",
        "outputId": "f3d82d02-0282-45b4-a49f-2e27ba25cd55"
      },
      "source": [
        "label_distrib.plot(kind=\"bar\")\n",
        "plt.show() \n"
      ],
      "execution_count": 21,
      "outputs": [
        {
          "output_type": "display_data",
          "data": {
            "image/png": "[encoded data removed]",
            "text/plain": [
              "<Figure size 432x288 with 1 Axes>"
            ]
          },
          "metadata": {
            "needs_background": "light"
          }
        }
      ]
    },
    {
      "cell_type": "markdown",
      "metadata": {
        "id": "KHZiL1dwwevI"
      },
      "source": [
        "### Encode data\n",
        "\n",
        " - save text (x) and labels (y) to separate lists to pass on to ML model later on\n",
        " -convet labels to numeric form using OneHotEncoding"
      ]
    },
    {
      "cell_type": "code",
      "metadata": {
        "colab": {
          "base_uri": "https://localhost:8080/"
        },
        "id": "_Ot8KNVhwaqF",
        "outputId": "9ee9b4e3-0a2c-4ea8-a206-2aa001fc7445"
      },
      "source": [
        "X_train = train_df[\"text\"].to_list()\n",
        "X_test = test_df[\"text\"].to_list()\n",
        "X_val = val_df[\"text\"].to_list()\n",
        "len(X_train), len(X_test), len(X_val)"
      ],
      "execution_count": 22,
      "outputs": [
        {
          "output_type": "execute_result",
          "data": {
            "text/plain": [
              "(180040, 30135, 30212)"
            ]
          },
          "metadata": {},
          "execution_count": 22
        }
      ]
    },
    {
      "cell_type": "code",
      "metadata": {
        "colab": {
          "base_uri": "https://localhost:8080/"
        },
        "id": "ynK4MpVGwdRJ",
        "outputId": "49275256-365b-4433-a4af-4849498b2a6b"
      },
      "source": [
        "y_train = train_df[\"label\"].to_list()\n",
        "y_test = test_df[\"label\"].to_list()\n",
        "y_val = val_df[\"label\"].to_list()\n",
        "len(y_train), len(y_test), len(y_val)"
      ],
      "execution_count": 23,
      "outputs": [
        {
          "output_type": "execute_result",
          "data": {
            "text/plain": [
              "(180040, 30135, 30212)"
            ]
          },
          "metadata": {},
          "execution_count": 23
        }
      ]
    },
    {
      "cell_type": "code",
      "metadata": {
        "colab": {
          "base_uri": "https://localhost:8080/"
        },
        "id": "z14BFSeNxRm9",
        "outputId": "f53413a7-d8c8-41b8-d01c-ecc949e80a79"
      },
      "source": [
        "X_train[:10]"
      ],
      "execution_count": 24,
      "outputs": [
        {
          "output_type": "execute_result",
          "data": {
            "text/plain": [
              "['to investigate the efficacy of @ weeks of daily low-dose oral prednisolone in improving pain , mobility , and systemic low-grade inflammation in the short term and whether the effect would be sustained at @ weeks in older adults with moderate to severe knee osteoarthritis ( oa ) .',\n",
              " 'a total of @ patients with primary knee oa were randomized @:@ ; @ received @ mg/day of prednisolone and @ received placebo for @ weeks .',\n",
              " 'outcome measures included pain reduction and improvement in function scores and systemic inflammation markers .',\n",
              " 'pain was assessed using the visual analog pain scale ( @-@ mm ) .',\n",
              " 'secondary outcome measures included the western ontario and mcmaster universities osteoarthritis index scores , patient global assessment ( pga ) of the severity of knee oa , and @-min walk distance ( @mwd ) .',\n",
              " 'serum levels of interleukin @ ( il-@ ) , il-@ , tumor necrosis factor ( tnf ) - , and high-sensitivity c-reactive protein ( hscrp ) were measured .',\n",
              " 'there was a clinically relevant reduction in the intervention group compared to the placebo group for knee pain , physical function , pga , and @mwd at @ weeks .',\n",
              " 'the mean difference between treatment arms ( @ % ci ) was @ ( @-@ @ ) , p < @ ; @ ( @-@ @ ) , p < @ ; @ ( @-@ @ ) , p < @ ; and @ ( @-@ @ ) , p < @ , respectively .',\n",
              " 'further , there was a clinically relevant reduction in the serum levels of il-@ , il-@ , tnf - , and hscrp at @ weeks in the intervention group when compared to the placebo group .',\n",
              " 'these differences remained significant at @ weeks .']"
            ]
          },
          "metadata": {},
          "execution_count": 24
        }
      ]
    },
    {
      "cell_type": "code",
      "metadata": {
        "colab": {
          "base_uri": "https://localhost:8080/"
        },
        "id": "ATTMS7mJyYqN",
        "outputId": "fb724a59-83cc-426e-ef8c-640288f46eeb"
      },
      "source": [
        "y_train[:5]"
      ],
      "execution_count": 25,
      "outputs": [
        {
          "output_type": "execute_result",
          "data": {
            "text/plain": [
              "['objective', 'methods', 'methods', 'methods', 'methods']"
            ]
          },
          "metadata": {},
          "execution_count": 25
        }
      ]
    },
    {
      "cell_type": "code",
      "metadata": {
        "id": "al7t0hA1zNZ1"
      },
      "source": [
        "#get indeces -  convert to array to be ableto use with sklearn OneHotEncoder\n",
        "labels = np.array(y_train)"
      ],
      "execution_count": 26,
      "outputs": []
    },
    {
      "cell_type": "code",
      "metadata": {
        "colab": {
          "base_uri": "https://localhost:8080/"
        },
        "id": "ll7-a4JB0vBZ",
        "outputId": "88083ee7-1749-4863-86c0-cf8c3e34a211"
      },
      "source": [
        "labels"
      ],
      "execution_count": 27,
      "outputs": [
        {
          "output_type": "execute_result",
          "data": {
            "text/plain": [
              "array(['objective', 'methods', 'methods', ..., 'results', 'conclusions',\n",
              "       'conclusions'], dtype='<U11')"
            ]
          },
          "metadata": {},
          "execution_count": 27
        }
      ]
    },
    {
      "cell_type": "markdown",
      "metadata": {
        "id": "AkumoYv22zlE"
      },
      "source": [
        "##### One-hot Encoding"
      ]
    },
    {
      "cell_type": "code",
      "metadata": {
        "id": "xCEAtEMZyZl9"
      },
      "source": [
        "#one hot encode labels - non-sparse matrix in order to be compatible with tf.constant()\n",
        "enc = OneHotEncoder(sparse=False)"
      ],
      "execution_count": 28,
      "outputs": []
    },
    {
      "cell_type": "code",
      "metadata": {
        "id": "c4UEL0ayz5f7"
      },
      "source": [
        "encoded_train_labels = enc.fit_transform(labels.reshape(-1, 1)) #fit to training labels AND trasnform those labels"
      ],
      "execution_count": 29,
      "outputs": []
    },
    {
      "cell_type": "code",
      "metadata": {
        "colab": {
          "base_uri": "https://localhost:8080/"
        },
        "id": "ukHvkXiq1XiY",
        "outputId": "6fde306b-470c-4120-ff44-4905c64c2299"
      },
      "source": [
        "encoded_train_labels"
      ],
      "execution_count": 30,
      "outputs": [
        {
          "output_type": "execute_result",
          "data": {
            "text/plain": [
              "array([[0., 0., 0., 1., 0.],\n",
              "       [0., 0., 1., 0., 0.],\n",
              "       [0., 0., 1., 0., 0.],\n",
              "       ...,\n",
              "       [0., 0., 0., 0., 1.],\n",
              "       [0., 1., 0., 0., 0.],\n",
              "       [0., 1., 0., 0., 0.]])"
            ]
          },
          "metadata": {},
          "execution_count": 30
        }
      ]
    },
    {
      "cell_type": "code",
      "metadata": {
        "colab": {
          "base_uri": "https://localhost:8080/"
        },
        "id": "14ntnNExz9DN",
        "outputId": "54f1437f-584b-4c52-ef5f-7c96c9708fb2"
      },
      "source": [
        "tf.constant(encoded_train_labels)"
      ],
      "execution_count": 31,
      "outputs": [
        {
          "output_type": "execute_result",
          "data": {
            "text/plain": [
              "<tf.Tensor: shape=(180040, 5), dtype=float64, numpy=\n",
              "array([[0., 0., 0., 1., 0.],\n",
              "       [0., 0., 1., 0., 0.],\n",
              "       [0., 0., 1., 0., 0.],\n",
              "       ...,\n",
              "       [0., 0., 0., 0., 1.],\n",
              "       [0., 1., 0., 0., 0.],\n",
              "       [0., 1., 0., 0., 0.]])>"
            ]
          },
          "metadata": {},
          "execution_count": 31
        }
      ]
    },
    {
      "cell_type": "code",
      "metadata": {
        "id": "iqSC0IZg1JPO"
      },
      "source": [
        "#use fit_transformed encoder to also trasnform validation and test labels\n",
        "encoded_test_labels = enc.transform(np.array(y_test).reshape(-1,1)) #encoder was already fitted (to training labels) - transform test and val labels now\n",
        "encoded_val_labels = enc.transform(np.array(y_val).reshape(-1,1)) "
      ],
      "execution_count": 32,
      "outputs": []
    },
    {
      "cell_type": "markdown",
      "metadata": {
        "id": "8zJIe_6P25vN"
      },
      "source": [
        "##### Label Encoding"
      ]
    },
    {
      "cell_type": "code",
      "metadata": {
        "colab": {
          "base_uri": "https://localhost:8080/"
        },
        "id": "mxQS1XPM28Jv",
        "outputId": "57a36b52-36e6-4ed0-acd2-53858876b722"
      },
      "source": [
        "label_enc = LabelEncoder()\n",
        "lab_encoded_train_labels = label_enc.fit_transform(labels.reshape(-1, 1))\n",
        "lab_encoded_test_labels = label_enc.transform(np.array(y_test).reshape(-1,1)) #encoder was already fitted (to training labels) - transform test and val labels now\n",
        "lab_encoded_val_labels = label_enc.transform(np.array(y_val).reshape(-1,1)) "
      ],
      "execution_count": 33,
      "outputs": [
        {
          "output_type": "stream",
          "name": "stderr",
          "text": [
            "/usr/local/lib/python3.7/dist-packages/sklearn/preprocessing/_label.py:251: DataConversionWarning: A column-vector y was passed when a 1d array was expected. Please change the shape of y to (n_samples, ), for example using ravel().\n",
            "  y = column_or_1d(y, warn=True)\n",
            "/usr/local/lib/python3.7/dist-packages/sklearn/preprocessing/_label.py:268: DataConversionWarning: A column-vector y was passed when a 1d array was expected. Please change the shape of y to (n_samples, ), for example using ravel().\n",
            "  y = column_or_1d(y, warn=True)\n"
          ]
        }
      ]
    },
    {
      "cell_type": "code",
      "metadata": {
        "colab": {
          "base_uri": "https://localhost:8080/"
        },
        "id": "CLgfanAmGsEJ",
        "outputId": "5cecbc80-21cb-40b9-c73c-52e00d2360a8"
      },
      "source": [
        "lab_encoded_train_labels[:10]"
      ],
      "execution_count": 34,
      "outputs": [
        {
          "output_type": "execute_result",
          "data": {
            "text/plain": [
              "array([3, 2, 2, 2, 2, 2, 4, 4, 4, 4])"
            ]
          },
          "metadata": {},
          "execution_count": 34
        }
      ]
    },
    {
      "cell_type": "markdown",
      "metadata": {
        "id": "EmJKxmE73B41"
      },
      "source": [
        "##### Get class names from encoder\n",
        "\n",
        "--> this could be done with any of the two encoders, but here the information in extracted from OneHotEncoder instance (enc)"
      ]
    },
    {
      "cell_type": "code",
      "metadata": {
        "colab": {
          "base_uri": "https://localhost:8080/"
        },
        "id": "5kmHdgKA12Ry",
        "outputId": "5f2888f0-25b5-436d-8be6-d3f4a5d81328"
      },
      "source": [
        "#get class names and numbers from label encoder\n",
        "num_classes = len(label_enc.classes_)\n",
        "classes = list(label_enc.classes_)\n",
        "classes"
      ],
      "execution_count": 35,
      "outputs": [
        {
          "output_type": "execute_result",
          "data": {
            "text/plain": [
              "['background', 'conclusions', 'methods', 'objective', 'results']"
            ]
          },
          "metadata": {},
          "execution_count": 35
        }
      ]
    },
    {
      "cell_type": "code",
      "metadata": {
        "id": "5mK4Dv02RdVk"
      },
      "source": [
        "# ##for labels from onehotencoder: use\n",
        "# enc.categories_"
      ],
      "execution_count": 36,
      "outputs": []
    },
    {
      "cell_type": "code",
      "metadata": {
        "colab": {
          "base_uri": "https://localhost:8080/"
        },
        "id": "GR532gSKSy46",
        "outputId": "2a2272c3-eef9-44d6-ce51-0b090e3e0737"
      },
      "source": [
        "dir(enc.categories_)"
      ],
      "execution_count": 37,
      "outputs": [
        {
          "output_type": "execute_result",
          "data": {
            "text/plain": [
              "['__add__',\n",
              " '__class__',\n",
              " '__contains__',\n",
              " '__delattr__',\n",
              " '__delitem__',\n",
              " '__dir__',\n",
              " '__doc__',\n",
              " '__eq__',\n",
              " '__format__',\n",
              " '__ge__',\n",
              " '__getattribute__',\n",
              " '__getitem__',\n",
              " '__gt__',\n",
              " '__hash__',\n",
              " '__iadd__',\n",
              " '__imul__',\n",
              " '__init__',\n",
              " '__init_subclass__',\n",
              " '__iter__',\n",
              " '__le__',\n",
              " '__len__',\n",
              " '__lt__',\n",
              " '__mul__',\n",
              " '__ne__',\n",
              " '__new__',\n",
              " '__reduce__',\n",
              " '__reduce_ex__',\n",
              " '__repr__',\n",
              " '__reversed__',\n",
              " '__rmul__',\n",
              " '__setattr__',\n",
              " '__setitem__',\n",
              " '__sizeof__',\n",
              " '__str__',\n",
              " '__subclasshook__',\n",
              " 'append',\n",
              " 'clear',\n",
              " 'copy',\n",
              " 'count',\n",
              " 'extend',\n",
              " 'index',\n",
              " 'insert',\n",
              " 'pop',\n",
              " 'remove',\n",
              " 'reverse',\n",
              " 'sort']"
            ]
          },
          "metadata": {},
          "execution_count": 37
        }
      ]
    },
    {
      "cell_type": "markdown",
      "metadata": {
        "id": "UlQYcuPgG-VY"
      },
      "source": [
        "## Train Models\n",
        "\n",
        "Different models will be tried, including:<br>\n",
        " - sklearn's NaiveBayes (tf-idf) encoder <br>\n",
        " - TensorFlow Hub Pretrained Feature Extractor<br>\n",
        " - Conv1D with character embeddings<br>\n",
        " - Pretrained token embeddings (same as 2nd model from above) + charater embeddings (same as 3rd from above)<br>\n",
        " - Pretrained token embeddings (same as 2nd model from above) + charater embeddings (same as 3rd from above) + positional embeddings\n",
        "\n"
      ]
    },
    {
      "cell_type": "markdown",
      "metadata": {
        "id": "6_nMwE6AHvlw"
      },
      "source": [
        "### Naive Bayes (tf-idf)"
      ]
    },
    {
      "cell_type": "code",
      "metadata": {
        "id": "6jTGd6XX2pcP"
      },
      "source": [
        "# create model (here: using Pipeline)\n",
        "\n",
        "baseline_model = Pipeline(\n",
        "    [\n",
        "     (\"tf-idf\", TfidfVectorizer()),\n",
        "     (\"clf\", MultinomialNB())\n",
        "    ]\n",
        ")\n"
      ],
      "execution_count": 38,
      "outputs": []
    },
    {
      "cell_type": "code",
      "metadata": {
        "id": "8t_H2S6r2dMB"
      },
      "source": [
        "#compile model not needed for sklearn models"
      ],
      "execution_count": 39,
      "outputs": []
    },
    {
      "cell_type": "code",
      "metadata": {
        "colab": {
          "base_uri": "https://localhost:8080/"
        },
        "id": "5uQes1VUIB_R",
        "outputId": "2030e9f2-d87b-4b51-b83c-7915ee438668"
      },
      "source": [
        "#fit model\n",
        "baseline_model.fit(X=X_train,\n",
        "                   y=lab_encoded_train_labels #using Label Encoded labels\n",
        "                   )"
      ],
      "execution_count": 40,
      "outputs": [
        {
          "output_type": "execute_result",
          "data": {
            "text/plain": [
              "Pipeline(memory=None,\n",
              "         steps=[('tf-idf',\n",
              "                 TfidfVectorizer(analyzer='word', binary=False,\n",
              "                                 decode_error='strict',\n",
              "                                 dtype=<class 'numpy.float64'>,\n",
              "                                 encoding='utf-8', input='content',\n",
              "                                 lowercase=True, max_df=1.0, max_features=None,\n",
              "                                 min_df=1, ngram_range=(1, 1), norm='l2',\n",
              "                                 preprocessor=None, smooth_idf=True,\n",
              "                                 stop_words=None, strip_accents=None,\n",
              "                                 sublinear_tf=False,\n",
              "                                 token_pattern='(?u)\\\\b\\\\w\\\\w+\\\\b',\n",
              "                                 tokenizer=None, use_idf=True,\n",
              "                                 vocabulary=None)),\n",
              "                ('clf',\n",
              "                 MultinomialNB(alpha=1.0, class_prior=None, fit_prior=True))],\n",
              "         verbose=False)"
            ]
          },
          "metadata": {},
          "execution_count": 40
        }
      ]
    },
    {
      "cell_type": "code",
      "metadata": {
        "colab": {
          "base_uri": "https://localhost:8080/"
        },
        "id": "CKcZerCyJFYQ",
        "outputId": "18fc2ad8-8897-40ef-f5a8-49bf8a20c2a2"
      },
      "source": [
        "#evaluate baseline model -->NOTE: similar to '.evaluate' in keras\n",
        "baseline_model.score(X=X_val,\n",
        "                        y=lab_encoded_val_labels)"
      ],
      "execution_count": 41,
      "outputs": [
        {
          "output_type": "execute_result",
          "data": {
            "text/plain": [
              "0.7218323844829869"
            ]
          },
          "metadata": {},
          "execution_count": 41
        }
      ]
    },
    {
      "cell_type": "code",
      "metadata": {
        "id": "1Tp0G7QpJbdw"
      },
      "source": [
        "#make and save predictions using baseline model\n",
        "baseline_preds = baseline_model.predict(X_val)"
      ],
      "execution_count": 42,
      "outputs": []
    },
    {
      "cell_type": "code",
      "metadata": {
        "colab": {
          "base_uri": "https://localhost:8080/"
        },
        "id": "YUfbE43TJvQF",
        "outputId": "e7121fe1-0d0c-4959-c9c5-2398b0f8bdf6"
      },
      "source": [
        "baseline_preds"
      ],
      "execution_count": 43,
      "outputs": [
        {
          "output_type": "execute_result",
          "data": {
            "text/plain": [
              "array([4, 1, 3, ..., 4, 4, 1])"
            ]
          },
          "metadata": {},
          "execution_count": 43
        }
      ]
    },
    {
      "cell_type": "code",
      "metadata": {
        "id": "-m5TuKsYJwIP"
      },
      "source": [
        "baseline_metrics = calculate_results(lab_encoded_val_labels, baseline_preds)"
      ],
      "execution_count": 44,
      "outputs": []
    },
    {
      "cell_type": "markdown",
      "metadata": {
        "id": "l1EpiTW4LL6M"
      },
      "source": [
        "### 1D CNN with Token Embeddings"
      ]
    },
    {
      "cell_type": "code",
      "metadata": {
        "colab": {
          "base_uri": "https://localhost:8080/"
        },
        "id": "LsMqgtwxOGQs",
        "outputId": "2b5fb93f-d788-4ab4-9451-dc8e099569bc"
      },
      "source": [
        "#info regarding sentence length\n",
        "train_df['sentence_length'] = train_df.text.apply(lambda x: len(x.split()))\n",
        "train_df.sentence_length.describe()"
      ],
      "execution_count": 45,
      "outputs": [
        {
          "output_type": "execute_result",
          "data": {
            "text/plain": [
              "count    180040.000000\n",
              "mean         26.338269\n",
              "std          15.386803\n",
              "min           1.000000\n",
              "25%          16.000000\n",
              "50%          23.000000\n",
              "75%          33.000000\n",
              "max         296.000000\n",
              "Name: sentence_length, dtype: float64"
            ]
          },
          "metadata": {},
          "execution_count": 45
        }
      ]
    },
    {
      "cell_type": "code",
      "metadata": {
        "colab": {
          "base_uri": "https://localhost:8080/",
          "height": 265
        },
        "id": "PGASMhaYY82q",
        "outputId": "fb882c40-35f2-4470-d129-9a31febee884"
      },
      "source": [
        "plt.hist(train_df.sentence_length, bins = 25)\n",
        "plt.show()"
      ],
      "execution_count": 46,
      "outputs": [
        {
          "output_type": "display_data",
          "data": {
            "image/png": "[encoded data removed]",
            "text/plain": [
              "<Figure size 432x288 with 1 Axes>"
            ]
          },
          "metadata": {
            "needs_background": "light"
          }
        }
      ]
    },
    {
      "cell_type": "code",
      "metadata": {
        "colab": {
          "base_uri": "https://localhost:8080/"
        },
        "id": "O7F5vNhZOROU",
        "outputId": "96976864-8ae3-49cd-bc44-df39cb174248"
      },
      "source": [
        "#get 75% and 95 % int to use in tokenizer output length\n",
        "txt_len_75 = int(train_df.sentence_length.describe()['75%'])\n",
        "txt_len_95 = int(np.percentile(train_df.sentence_length, 95))\n",
        "txt_len_75, txt_len_95"
      ],
      "execution_count": 47,
      "outputs": [
        {
          "output_type": "execute_result",
          "data": {
            "text/plain": [
              "(33, 55)"
            ]
          },
          "metadata": {},
          "execution_count": 47
        }
      ]
    },
    {
      "cell_type": "markdown",
      "metadata": {
        "id": "8qceEWZxO3Vg"
      },
      "source": [
        "NOTE: sentence length spread is quite extreme and there is an abundance of values with more than 33 words, 95% of all sentences fall into the lengths of 55 (or under) --> using 50 words as output length to account for most sentences lengths"
      ]
    },
    {
      "cell_type": "code",
      "metadata": {
        "id": "CppK-_8hO0Of"
      },
      "source": [
        "out_len = 50\n",
        "MAX_TOKENS = 68000 #number from Table 2 in paper cited above"
      ],
      "execution_count": 48,
      "outputs": []
    },
    {
      "cell_type": "code",
      "metadata": {
        "id": "yVFDt1KNKdnc"
      },
      "source": [
        "#create tokenizer / vectorizerlayer\n",
        "vectorizer = tf.keras.layers.TextVectorization(\n",
        "    max_tokens=MAX_TOKENS, standardize='lower_and_strip_punctuation',\n",
        "    split='whitespace', ngrams=None, output_mode='int',\n",
        "    output_sequence_length=out_len, pad_to_max_tokens=True, vocabulary=None\n",
        ")\n",
        "#fit tokenizer to train sentences\n",
        "vectorizer.adapt(X_train)"
      ],
      "execution_count": 49,
      "outputs": []
    },
    {
      "cell_type": "code",
      "metadata": {
        "colab": {
          "base_uri": "https://localhost:8080/"
        },
        "id": "f_J7EZnyPGKR",
        "outputId": "5b8c8350-3067-45ef-a690-5e67f890d89d"
      },
      "source": [
        "#check tokenizer vocab\n",
        "len(vectorizer.get_vocabulary()), vectorizer.get_vocabulary()[-10:]"
      ],
      "execution_count": 50,
      "outputs": [
        {
          "output_type": "execute_result",
          "data": {
            "text/plain": [
              "(64841,\n",
              " ['aarm',\n",
              "  'aaqol',\n",
              "  'aaq',\n",
              "  'aanhui',\n",
              "  'aana',\n",
              "  'aainduced',\n",
              "  'aaigroup',\n",
              "  'aachener',\n",
              "  'aachen',\n",
              "  'aaacp'])"
            ]
          },
          "metadata": {},
          "execution_count": 50
        }
      ]
    },
    {
      "cell_type": "code",
      "metadata": {
        "colab": {
          "base_uri": "https://localhost:8080/"
        },
        "id": "ti0WREu7PUeS",
        "outputId": "71b40fa4-91e1-408d-a64b-4288d9149001"
      },
      "source": [
        "\"bioinformatics\" in vectorizer.get_vocabulary()"
      ],
      "execution_count": 51,
      "outputs": [
        {
          "output_type": "execute_result",
          "data": {
            "text/plain": [
              "False"
            ]
          },
          "metadata": {},
          "execution_count": 51
        }
      ]
    },
    {
      "cell_type": "code",
      "metadata": {
        "id": "cZNPjE1pKdlP"
      },
      "source": [
        "#embed\n",
        "embedder = tf.keras.layers.Embedding(input_dim=len(vectorizer.get_vocabulary()), # set input shape --> = length of vocabulary\n",
        "                             output_dim=516, # set size of embedding vector,\n",
        "                             mask_zero=True,\n",
        "                             embeddings_initializer=\"uniform\", # default, intialize randomly\n",
        "                             input_length=out_len) # how long is each input "
      ],
      "execution_count": 52,
      "outputs": []
    },
    {
      "cell_type": "code",
      "metadata": {
        "colab": {
          "base_uri": "https://localhost:8080/"
        },
        "id": "HBy1ur5Waaow",
        "outputId": "70a2bab5-cfaa-48d9-a7c3-b98b77592f8a"
      },
      "source": [
        "random_text = random.choice(X_train)\n",
        "print(random_text)\n",
        "print(vectorizer([random_text]))\n",
        "print(embedder(vectorizer([random_text])))"
      ],
      "execution_count": 53,
      "outputs": [
        {
          "output_type": "stream",
          "name": "stdout",
          "text": [
            "a prospective randomized single-blind study was designed to analyze @ cases of bilateral crs with np .\n",
            "tf.Tensor(\n",
            "[[   8  241   29 1648   17   10  560    6 2283  263    4 1270 5297    7\n",
            "  4941    0    0    0    0    0    0    0    0    0    0    0    0    0\n",
            "     0    0    0    0    0    0    0    0    0    0    0    0    0    0\n",
            "     0    0    0    0    0    0    0    0]], shape=(1, 50), dtype=int64)\n",
            "tf.Tensor(\n",
            "[[[-0.01693469  0.03022302 -0.02068816 ...  0.02778075  0.00091308\n",
            "    0.00879723]\n",
            "  [ 0.00351927  0.04493139  0.02725203 ... -0.01116753 -0.01210303\n",
            "   -0.00772709]\n",
            "  [ 0.0287872  -0.04532956 -0.00812922 ... -0.03478686 -0.0451667\n",
            "   -0.00731688]\n",
            "  ...\n",
            "  [-0.04162195  0.02864256  0.01329222 ...  0.03083091 -0.01438066\n",
            "   -0.00864927]\n",
            "  [-0.04162195  0.02864256  0.01329222 ...  0.03083091 -0.01438066\n",
            "   -0.00864927]\n",
            "  [-0.04162195  0.02864256  0.01329222 ...  0.03083091 -0.01438066\n",
            "   -0.00864927]]], shape=(1, 50, 516), dtype=float32)\n"
          ]
        }
      ]
    },
    {
      "cell_type": "code",
      "metadata": {
        "id": "u6LjFZAvcxBG"
      },
      "source": [
        "#convert data into tf datasets, so that running efficiency is increased when loading data into model\n",
        "train_dataset = tf.data.Dataset.from_tensor_slices((X_train, encoded_train_labels))\n",
        "test_dataset = tf.data.Dataset.from_tensor_slices((X_test, encoded_test_labels))\n",
        "val_dataset = tf.data.Dataset.from_tensor_slices((X_val, encoded_val_labels))"
      ],
      "execution_count": 54,
      "outputs": []
    },
    {
      "cell_type": "code",
      "metadata": {
        "colab": {
          "base_uri": "https://localhost:8080/"
        },
        "id": "9IMU91rmdNmx",
        "outputId": "8a05da15-11b0-4458-a550-85df05649a61"
      },
      "source": [
        "train_dataset"
      ],
      "execution_count": 55,
      "outputs": [
        {
          "output_type": "execute_result",
          "data": {
            "text/plain": [
              "<TensorSliceDataset shapes: ((), (5,)), types: (tf.string, tf.float64)>"
            ]
          },
          "metadata": {},
          "execution_count": 55
        }
      ]
    },
    {
      "cell_type": "code",
      "metadata": {
        "id": "ypJ4WSJOdfEm"
      },
      "source": [
        "#create dataset batches\n",
        "train_dataset = train_dataset.batch(32).prefetch(tf.data.AUTOTUNE)\n",
        "test_dataset = test_dataset.batch(32).prefetch(tf.data.AUTOTUNE)\n",
        "val_dataset = val_dataset.batch(32).prefetch(tf.data.AUTOTUNE)"
      ],
      "execution_count": 56,
      "outputs": []
    },
    {
      "cell_type": "code",
      "metadata": {
        "colab": {
          "base_uri": "https://localhost:8080/"
        },
        "id": "g1ohuRAQduqN",
        "outputId": "97946cc7-c969-4445-d0d8-c8d1f667aea8"
      },
      "source": [
        "train_dataset"
      ],
      "execution_count": 57,
      "outputs": [
        {
          "output_type": "execute_result",
          "data": {
            "text/plain": [
              "<PrefetchDataset shapes: ((None,), (None, 5)), types: (tf.string, tf.float64)>"
            ]
          },
          "metadata": {},
          "execution_count": 57
        }
      ]
    },
    {
      "cell_type": "code",
      "metadata": {
        "id": "vz0LfhtuKdjo"
      },
      "source": [
        "#build model - using functional keras\n",
        "inputs = tf.keras.layers.Input(shape=(1,), dtype=\"string\")\n",
        "x = vectorizer(inputs)\n",
        "x = embedder(x)\n",
        "x = tf.keras.layers.Conv1D(filters=64, kernel_size=5, padding=\"same\", activation=\"relu\")(x)\n",
        "x = tf.keras.layers.GlobalMaxPool1D()(x)\n",
        "outputs = tf.keras.layers.Dense(num_classes, activation=\"softmax\")(x)  #use SOFTMAX for non-binary categorical!!\n",
        "Conv1D_model = tf.keras.Model(inputs, outputs, name=\"Conv1D\")"
      ],
      "execution_count": 58,
      "outputs": []
    },
    {
      "cell_type": "code",
      "metadata": {
        "colab": {
          "base_uri": "https://localhost:8080/"
        },
        "id": "n6ECo2RtWTns",
        "outputId": "9444a631-e529-4eda-ae4e-bc496ea0dfaf"
      },
      "source": [
        "#summarize model\n",
        "Conv1D_model.summary()"
      ],
      "execution_count": 59,
      "outputs": [
        {
          "output_type": "stream",
          "name": "stdout",
          "text": [
            "Model: \"Conv1D\"\n",
            "_________________________________________________________________\n",
            "Layer (type)                 Output Shape              Param #   \n",
            "=================================================================\n",
            "input_1 (InputLayer)         [(None, 1)]               0         \n",
            "_________________________________________________________________\n",
            "text_vectorization (TextVect (None, 50)                0         \n",
            "_________________________________________________________________\n",
            "embedding (Embedding)        (None, 50, 516)           33457956  \n",
            "_________________________________________________________________\n",
            "conv1d (Conv1D)              (None, 50, 64)            165184    \n",
            "_________________________________________________________________\n",
            "global_max_pooling1d (Global (None, 64)                0         \n",
            "_________________________________________________________________\n",
            "dense (Dense)                (None, 5)                 325       \n",
            "=================================================================\n",
            "Total params: 33,623,465\n",
            "Trainable params: 33,623,465\n",
            "Non-trainable params: 0\n",
            "_________________________________________________________________\n"
          ]
        }
      ]
    },
    {
      "cell_type": "code",
      "metadata": {
        "id": "2vp0abzfKdg-"
      },
      "source": [
        "#compile\n",
        "Conv1D_model.compile(\n",
        "    loss=\"categorical_crossentropy\",\n",
        "    optimizer=tf.keras.optimizers.Adam(),\n",
        "    metrics=[\"accuracy\"]\n",
        ")"
      ],
      "execution_count": 60,
      "outputs": []
    },
    {
      "cell_type": "code",
      "metadata": {
        "colab": {
          "base_uri": "https://localhost:8080/"
        },
        "id": "3W7qYk2nLZIt",
        "outputId": "371b98f9-0d69-4637-b116-41b8263d23a4"
      },
      "source": [
        "#fit\n",
        "conv1D_history = Conv1D_model.fit(\n",
        "    train_dataset,\n",
        "    steps_per_epoch=int(0.1*len(train_dataset)),\n",
        "    epochs=3,\n",
        "    validation_data=val_dataset,\n",
        "    validation_steps=int(0.1*len(val_dataset))\n",
        ")"
      ],
      "execution_count": 61,
      "outputs": [
        {
          "output_type": "stream",
          "name": "stdout",
          "text": [
            "Epoch 1/3\n",
            "562/562 [==============================] - 50s 36ms/step - loss: 0.7571 - accuracy: 0.7148 - val_loss: 0.5597 - val_accuracy: 0.7955\n",
            "Epoch 2/3\n",
            "562/562 [==============================] - 20s 36ms/step - loss: 0.5701 - accuracy: 0.7900 - val_loss: 0.5490 - val_accuracy: 0.7999\n",
            "Epoch 3/3\n",
            "562/562 [==============================] - 20s 35ms/step - loss: 0.5422 - accuracy: 0.8003 - val_loss: 0.5262 - val_accuracy: 0.8012\n"
          ]
        }
      ]
    },
    {
      "cell_type": "code",
      "metadata": {
        "colab": {
          "base_uri": "https://localhost:8080/"
        },
        "id": "AMZBd7xnKde0",
        "outputId": "b859d3de-d9a6-4091-a869-af051effb48d"
      },
      "source": [
        "Conv1D_model.evaluate(val_dataset)"
      ],
      "execution_count": 62,
      "outputs": [
        {
          "output_type": "stream",
          "name": "stdout",
          "text": [
            "945/945 [==============================] - 6s 6ms/step - loss: 0.5244 - accuracy: 0.8021\n"
          ]
        },
        {
          "output_type": "execute_result",
          "data": {
            "text/plain": [
              "[0.5244350433349609, 0.8020985126495361]"
            ]
          },
          "metadata": {},
          "execution_count": 62
        }
      ]
    },
    {
      "cell_type": "code",
      "metadata": {
        "colab": {
          "base_uri": "https://localhost:8080/"
        },
        "id": "_b_LsTm8DRnR",
        "outputId": "20267895-4a0e-4805-cbb2-c9816ecd1719"
      },
      "source": [
        "!mkdir -p saved_model\n",
        "Conv1D_model.save('saved_model/Conv1D_model1')"
      ],
      "execution_count": 63,
      "outputs": [
        {
          "output_type": "stream",
          "name": "stdout",
          "text": [
            "INFO:tensorflow:Assets written to: saved_model/Conv1D_model1/assets\n"
          ]
        }
      ]
    },
    {
      "cell_type": "code",
      "metadata": {
        "id": "E5eB_fkcDjrl"
      },
      "source": [
        "conv1d_preds_probs = Conv1D_model.predict(val_dataset)"
      ],
      "execution_count": 64,
      "outputs": []
    },
    {
      "cell_type": "code",
      "metadata": {
        "id": "FTgW_wWbD0mB"
      },
      "source": [
        "conv1d_preds = tf.math.argmax(conv1d_preds_probs, axis=1)"
      ],
      "execution_count": 65,
      "outputs": []
    },
    {
      "cell_type": "code",
      "metadata": {
        "colab": {
          "base_uri": "https://localhost:8080/"
        },
        "id": "svQMNE2_D-3g",
        "outputId": "395850e9-08ea-4c8a-9c03-07c38d29b902"
      },
      "source": [
        "lab_encoded_val_labels"
      ],
      "execution_count": 66,
      "outputs": [
        {
          "output_type": "execute_result",
          "data": {
            "text/plain": [
              "array([0, 0, 3, ..., 4, 1, 1])"
            ]
          },
          "metadata": {},
          "execution_count": 66
        }
      ]
    },
    {
      "cell_type": "code",
      "metadata": {
        "colab": {
          "base_uri": "https://localhost:8080/"
        },
        "id": "_wDLeWMhEqkG",
        "outputId": "6568038e-d7f3-439b-9029-b8a734d0c180"
      },
      "source": [
        "conv1D_metrics = calculate_results(lab_encoded_val_labels, conv1d_preds)\n",
        "conv1D_metrics"
      ],
      "execution_count": 67,
      "outputs": [
        {
          "output_type": "execute_result",
          "data": {
            "text/plain": [
              "{'accuracy': 80.20985039057328,\n",
              " 'f1': 0.8010133575096982,\n",
              " 'precision': 0.8021990175458314,\n",
              " 'recall': 0.8020985039057328}"
            ]
          },
          "metadata": {},
          "execution_count": 67
        }
      ]
    },
    {
      "cell_type": "code",
      "metadata": {
        "id": "42Ptoyjvl0dV"
      },
      "source": [
        "# conv1D_metrics = {'accuracy': 78.81967430160202,\n",
        "#  'f1': 0.7859960928563114,\n",
        "#  'precision': 0.7892146068302194,\n",
        "#  'recall': 0.7881967430160202}"
      ],
      "execution_count": 68,
      "outputs": []
    },
    {
      "cell_type": "code",
      "metadata": {
        "colab": {
          "base_uri": "https://localhost:8080/"
        },
        "id": "Sq8B0pCWFK0g",
        "outputId": "10b1fd55-9059-4be1-ce1b-91630cf97094"
      },
      "source": [
        "baseline_metrics"
      ],
      "execution_count": 69,
      "outputs": [
        {
          "output_type": "execute_result",
          "data": {
            "text/plain": [
              "{'accuracy': 72.1832384482987,\n",
              " 'f1': 0.6989250353450294,\n",
              " 'precision': 0.7186466952323352,\n",
              " 'recall': 0.7218323844829869}"
            ]
          },
          "metadata": {},
          "execution_count": 69
        }
      ]
    },
    {
      "cell_type": "markdown",
      "metadata": {
        "id": "ZAevqgQ-KeAk"
      },
      "source": [
        "Helper functions"
      ]
    },
    {
      "cell_type": "code",
      "metadata": {
        "id": "iCsl_uNQKdcE"
      },
      "source": [
        "def calculate_results(y_true, y_pred):\n",
        "  \"\"\"\n",
        "  Calculates model accuracy, precision, recall and f1 score of a binary classification model.\n",
        "  PARAMS:\n",
        "    y_true(np.array) - true labels in the form of a 1D array\n",
        "    y_pred(np.array) - predicted labels in the form of a 1D array\n",
        "  RETURNS:\n",
        "    model_results (dict) - a dictionary of accuracy, precision, recall, f1-score.\n",
        "  \"\"\"\n",
        "  from sklearn.metrics import accuracy_score, precision_recall_fscore_support\n",
        "  # Calculate model accuracy\n",
        "  model_accuracy = accuracy_score(y_true, y_pred) * 100\n",
        "  # Calculate model precision, recall and f1 score using \"weighted average\n",
        "  model_precision, model_recall, model_f1, _ = precision_recall_fscore_support(y_true, y_pred, average=\"weighted\")\n",
        "  model_results = {\"accuracy\": model_accuracy,\n",
        "                  \"precision\": model_precision,\n",
        "                  \"recall\": model_recall,\n",
        "                  \"f1\": model_f1}\n",
        "  return model_results"
      ],
      "execution_count": 70,
      "outputs": []
    },
    {
      "cell_type": "markdown",
      "metadata": {
        "id": "STNfphSvn-Vt"
      },
      "source": [
        "### Transfer Learning Model: with Tensorflow model + Feature Extraction and pretrained token embeddings"
      ]
    },
    {
      "cell_type": "code",
      "metadata": {
        "id": "YYQNOBLvl-NU"
      },
      "source": [
        "#load pre-trained model as base for this model; feature extraction pnly, so --> not trainable\n",
        "use_layer = hub.KerasLayer(\"https://tfhub.dev/google/universal-sentence-encoder/4\",\n",
        "                                        input_shape=[], \n",
        "                                        dtype=tf.string, \n",
        "                                        trainable=False, \n",
        "                                        name=\"use\") "
      ],
      "execution_count": 71,
      "outputs": []
    },
    {
      "cell_type": "code",
      "metadata": {
        "colab": {
          "base_uri": "https://localhost:8080/",
          "height": 35
        },
        "id": "oyQZXfbCq_es",
        "outputId": "72a5128e-9a5b-4064-bfac-90909a59c06f"
      },
      "source": [
        "random_text"
      ],
      "execution_count": 72,
      "outputs": [
        {
          "output_type": "execute_result",
          "data": {
            "application/vnd.google.colaboratory.intrinsic+json": {
              "type": "string"
            },
            "text/plain": [
              "'a prospective randomized single-blind study was designed to analyze @ cases of bilateral crs with np .'"
            ]
          },
          "metadata": {},
          "execution_count": 72
        }
      ]
    },
    {
      "cell_type": "code",
      "metadata": {
        "colab": {
          "base_uri": "https://localhost:8080/"
        },
        "id": "p_Sd5FUbr5dp",
        "outputId": "6a1f7b0d-99a2-4515-992a-d8a72f0b4231"
      },
      "source": [
        "# check if loaded model works + length of output (=a 512-vector)\n",
        "len(use_layer([random_text])[0])"
      ],
      "execution_count": 73,
      "outputs": [
        {
          "output_type": "execute_result",
          "data": {
            "text/plain": [
              "512"
            ]
          },
          "metadata": {},
          "execution_count": 73
        }
      ]
    },
    {
      "cell_type": "code",
      "metadata": {
        "id": "ttzFqd9JsJNM"
      },
      "source": [
        "#build model based on pretrained embedding (use)\n",
        "inputs = tf.keras.layers.Input(shape=[], dtype=tf.string)\n",
        "pretrained_embedding = use_layer(inputs)\n",
        "x = tf.keras.layers.Dense(128, activation=\"relu\")(pretrained_embedding)\n",
        "output = tf.keras.layers.Dense(num_classes, activation=\"softmax\")(x)\n",
        "model_pretrained_embedding = tf.keras.Model(inputs, output)"
      ],
      "execution_count": 74,
      "outputs": []
    },
    {
      "cell_type": "code",
      "metadata": {
        "id": "5GNcJvybt_Y7"
      },
      "source": [
        "#compile model\n",
        "model_pretrained_embedding.compile(\n",
        "    loss=\"categorical_crossentropy\",\n",
        "    optimizer=tf.keras.optimizers.Adam(),\n",
        "    metrics=[\"accuracy\"]\n",
        ")"
      ],
      "execution_count": 75,
      "outputs": []
    },
    {
      "cell_type": "code",
      "metadata": {
        "colab": {
          "base_uri": "https://localhost:8080/"
        },
        "id": "7K3sLLWSu41v",
        "outputId": "8ce18328-c4fb-4100-c445-ae4818bfe0d2"
      },
      "source": [
        "model_pretrained_embedding.summary()"
      ],
      "execution_count": 76,
      "outputs": [
        {
          "output_type": "stream",
          "name": "stdout",
          "text": [
            "Model: \"model\"\n",
            "_________________________________________________________________\n",
            "Layer (type)                 Output Shape              Param #   \n",
            "=================================================================\n",
            "input_2 (InputLayer)         [(None,)]                 0         \n",
            "_________________________________________________________________\n",
            "use (KerasLayer)             (None, 512)               256797824 \n",
            "_________________________________________________________________\n",
            "dense_1 (Dense)              (None, 128)               65664     \n",
            "_________________________________________________________________\n",
            "dense_2 (Dense)              (None, 5)                 645       \n",
            "=================================================================\n",
            "Total params: 256,864,133\n",
            "Trainable params: 66,309\n",
            "Non-trainable params: 256,797,824\n",
            "_________________________________________________________________\n"
          ]
        }
      ]
    },
    {
      "cell_type": "code",
      "metadata": {
        "colab": {
          "base_uri": "https://localhost:8080/"
        },
        "id": "dwmVaEXsuWUc",
        "outputId": "f1a490a0-6e88-4471-e723-e1df59871d94"
      },
      "source": [
        "#fit model\n",
        "model_pretrained_embedding.fit(\n",
        "    train_dataset,\n",
        "    steps_per_epoch=int(0.1*len(train_dataset)),\n",
        "    epochs=3,\n",
        "    validation_data=val_dataset,\n",
        "    validation_steps=int(0.1*len(val_dataset))\n",
        ")"
      ],
      "execution_count": 77,
      "outputs": [
        {
          "output_type": "stream",
          "name": "stdout",
          "text": [
            "Epoch 1/3\n",
            "562/562 [==============================] - 13s 19ms/step - loss: 0.9192 - accuracy: 0.6503 - val_loss: 0.7972 - val_accuracy: 0.6918\n",
            "Epoch 2/3\n",
            "562/562 [==============================] - 10s 19ms/step - loss: 0.7683 - accuracy: 0.7030 - val_loss: 0.7548 - val_accuracy: 0.7051\n",
            "Epoch 3/3\n",
            "562/562 [==============================] - 10s 19ms/step - loss: 0.7505 - accuracy: 0.7138 - val_loss: 0.7385 - val_accuracy: 0.7094\n"
          ]
        },
        {
          "output_type": "execute_result",
          "data": {
            "text/plain": [
              "<keras.callbacks.History at 0x7fe4ce318850>"
            ]
          },
          "metadata": {},
          "execution_count": 77
        }
      ]
    },
    {
      "cell_type": "code",
      "metadata": {
        "colab": {
          "base_uri": "https://localhost:8080/"
        },
        "id": "Ji6iRSzTuzmM",
        "outputId": "e026d4a3-7902-4623-ca9b-35ee2e09bd34"
      },
      "source": [
        "#evaluate model, predict and get performance metrics\n",
        "model_pretrained_embedding.evaluate(val_dataset)"
      ],
      "execution_count": 78,
      "outputs": [
        {
          "output_type": "stream",
          "name": "stdout",
          "text": [
            "945/945 [==============================] - 15s 16ms/step - loss: 0.7400 - accuracy: 0.7132\n"
          ]
        },
        {
          "output_type": "execute_result",
          "data": {
            "text/plain": [
              "[0.7400221228599548, 0.7132265567779541]"
            ]
          },
          "metadata": {},
          "execution_count": 78
        }
      ]
    },
    {
      "cell_type": "code",
      "metadata": {
        "id": "t3zHe-nIwoV0"
      },
      "source": [
        "model_pretrained_embedding_preds = model_pretrained_embedding.predict(val_dataset)"
      ],
      "execution_count": 79,
      "outputs": []
    },
    {
      "cell_type": "code",
      "metadata": {
        "id": "w2wV92YSwveQ"
      },
      "source": [
        "model_pretrained_embedding_preds = np.array(tf.math.argmax(model_pretrained_embedding_preds, axis=1))"
      ],
      "execution_count": 80,
      "outputs": []
    },
    {
      "cell_type": "code",
      "metadata": {
        "colab": {
          "base_uri": "https://localhost:8080/"
        },
        "id": "ImYhXPuWxLZQ",
        "outputId": "b12463a9-b930-44e6-ae84-cb3eb270fa40"
      },
      "source": [
        "model_pretrained_embedding_preds"
      ],
      "execution_count": 81,
      "outputs": [
        {
          "output_type": "execute_result",
          "data": {
            "text/plain": [
              "array([0, 1, 3, ..., 4, 4, 2])"
            ]
          },
          "metadata": {},
          "execution_count": 81
        }
      ]
    },
    {
      "cell_type": "code",
      "metadata": {
        "colab": {
          "base_uri": "https://localhost:8080/"
        },
        "id": "_kEjm5OCw5j7",
        "outputId": "70253730-a486-4ef2-9f10-83b7ddeec845"
      },
      "source": [
        "lab_encoded_val_labels"
      ],
      "execution_count": 82,
      "outputs": [
        {
          "output_type": "execute_result",
          "data": {
            "text/plain": [
              "array([0, 0, 3, ..., 4, 1, 1])"
            ]
          },
          "metadata": {},
          "execution_count": 82
        }
      ]
    },
    {
      "cell_type": "code",
      "metadata": {
        "colab": {
          "base_uri": "https://localhost:8080/"
        },
        "id": "D2FM-MY-xYQU",
        "outputId": "cefb5235-fa2a-446a-ddd7-3a1f0b8b6426"
      },
      "source": [
        "model_pretrained_embedding_metrics = calculate_results(lab_encoded_val_labels, model_pretrained_embedding_preds)\n",
        "model_pretrained_embedding_metrics"
      ],
      "execution_count": 83,
      "outputs": [
        {
          "output_type": "execute_result",
          "data": {
            "text/plain": [
              "{'accuracy': 71.3226532503641,\n",
              " 'f1': 0.7101309782416974,\n",
              " 'precision': 0.7131609395597779,\n",
              " 'recall': 0.713226532503641}"
            ]
          },
          "metadata": {},
          "execution_count": 83
        }
      ]
    },
    {
      "cell_type": "code",
      "metadata": {
        "colab": {
          "base_uri": "https://localhost:8080/"
        },
        "id": "bEBp3mpqxdWJ",
        "outputId": "75eaec8d-ea5a-4d14-c898-8b230a6a56cf"
      },
      "source": [
        "conv1D_metrics"
      ],
      "execution_count": 84,
      "outputs": [
        {
          "output_type": "execute_result",
          "data": {
            "text/plain": [
              "{'accuracy': 80.20985039057328,\n",
              " 'f1': 0.8010133575096982,\n",
              " 'precision': 0.8021990175458314,\n",
              " 'recall': 0.8020985039057328}"
            ]
          },
          "metadata": {},
          "execution_count": 84
        }
      ]
    },
    {
      "cell_type": "markdown",
      "metadata": {
        "id": "DFBEeK76x5Vz"
      },
      "source": [
        "### Conv1D with character embeddings"
      ]
    },
    {
      "cell_type": "markdown",
      "metadata": {
        "id": "xUrDL3H8ykIu"
      },
      "source": [
        "#####  create text vectorizer that works at character-level"
      ]
    },
    {
      "cell_type": "code",
      "metadata": {
        "id": "xsvg7PGaxxoo"
      },
      "source": [
        "#convert word-based sentences into string of individual characters\n",
        "def sentence_to_char(sentence_list):\n",
        "  \"\"\"\n",
        "  Takes list of sentences and separates all words in each sentece into individual characters\n",
        "  \"\"\"\n",
        "  char_list = [\" \".join(list(sentence)) for sentence in sentence_list]  #list(string) - converts string into list of individual characters in the string\n",
        "  return char_list"
      ],
      "execution_count": 85,
      "outputs": []
    },
    {
      "cell_type": "code",
      "metadata": {
        "id": "hQ5WMQ4szkPq"
      },
      "source": [
        "X_train_chars = sentence_to_char(X_train)\n",
        "X_test_chars = sentence_to_char(X_test)\n",
        "X_val_chars = sentence_to_char(X_val)"
      ],
      "execution_count": 86,
      "outputs": []
    },
    {
      "cell_type": "code",
      "metadata": {
        "colab": {
          "base_uri": "https://localhost:8080/"
        },
        "id": "2RSrW0Tbz8nm",
        "outputId": "2699b48c-57d9-4bf2-ad88-af9699008ed1"
      },
      "source": [
        "#calculate average number of characters in training sentences --> see length in cell below; NOTE:output of this cell also counts introduced whitespace\n",
        "np.mean([len(sent) for sent in X_train_chars])"
      ],
      "execution_count": 87,
      "outputs": [
        {
          "output_type": "execute_result",
          "data": {
            "text/plain": [
              "297.7325149966674"
            ]
          },
          "metadata": {},
          "execution_count": 87
        }
      ]
    },
    {
      "cell_type": "code",
      "metadata": {
        "id": "BzMd9IUy0a2U"
      },
      "source": [
        "char_nums = [len(sent) for sent in X_train]"
      ],
      "execution_count": 88,
      "outputs": []
    },
    {
      "cell_type": "code",
      "metadata": {
        "colab": {
          "base_uri": "https://localhost:8080/",
          "height": 265
        },
        "id": "me31VMkd05Jz",
        "outputId": "e1bd1016-271e-4491-a73f-3494a568a716"
      },
      "source": [
        "plt.hist(char_nums, bins=7)\n",
        "plt.show()"
      ],
      "execution_count": 89,
      "outputs": [
        {
          "output_type": "display_data",
          "data": {
            "image/png": "[encoded data removed]",
            "text/plain": [
              "<Figure size 432x288 with 1 Axes>"
            ]
          },
          "metadata": {
            "needs_background": "light"
          }
        }
      ]
    },
    {
      "cell_type": "code",
      "metadata": {
        "colab": {
          "base_uri": "https://localhost:8080/"
        },
        "id": "asrHssit1E6X",
        "outputId": "2fe6602a-ff36-4c02-e01e-9f23935c5fbf"
      },
      "source": [
        "#get 75% and 95 % int to use in character tokenizer output length\n",
        "txt_len_75 = int(np.percentile(char_nums, 75))\n",
        "txt_len_95 = out_len = int(np.percentile(char_nums, 95))\n",
        "txt_len_75, txt_len_95"
      ],
      "execution_count": 90,
      "outputs": [
        {
          "output_type": "execute_result",
          "data": {
            "text/plain": [
              "(189, 290)"
            ]
          },
          "metadata": {},
          "execution_count": 90
        }
      ]
    },
    {
      "cell_type": "code",
      "metadata": {
        "colab": {
          "base_uri": "https://localhost:8080/",
          "height": 35
        },
        "id": "orNB9Pkh4lV1",
        "outputId": "1e6e4e89-03bb-403e-872b-328583633544"
      },
      "source": [
        "#max. number of tokens in vectorizer needs to be the max. number of all aplhanumeric characters plus punctuation available\n",
        "import string\n",
        "all_chars = string.ascii_lowercase + string.digits + string.punctuation\n",
        "all_chars"
      ],
      "execution_count": 91,
      "outputs": [
        {
          "output_type": "execute_result",
          "data": {
            "application/vnd.google.colaboratory.intrinsic+json": {
              "type": "string"
            },
            "text/plain": [
              "'abcdefghijklmnopqrstuvwxyz0123456789!\"#$%&\\'()*+,-./:;<=>?@[\\\\]^_`{|}~'"
            ]
          },
          "metadata": {},
          "execution_count": 91
        }
      ]
    },
    {
      "cell_type": "code",
      "metadata": {
        "colab": {
          "base_uri": "https://localhost:8080/"
        },
        "id": "rRExT_T95eVc",
        "outputId": "3adcc2ac-bc4e-47a0-b92c-537711fd436b"
      },
      "source": [
        "#max number of tokens to use in vectorizer is the number of all_chars PLUS 2 (1 for ' ' and 1 for OOV/['UNK'])\n",
        "MAX_TOKENS =len(all_chars)\n",
        "MAX_TOKENS"
      ],
      "execution_count": 92,
      "outputs": [
        {
          "output_type": "execute_result",
          "data": {
            "text/plain": [
              "68"
            ]
          },
          "metadata": {},
          "execution_count": 92
        }
      ]
    },
    {
      "cell_type": "code",
      "metadata": {
        "id": "gFr01Jad51gg"
      },
      "source": [
        "#instantiate\n",
        "char_vectorizer = tf.keras.layers.TextVectorization(\n",
        "    max_tokens=MAX_TOKENS, #number of words in vectorizer vocab\n",
        "    standardize='lower_and_strip_punctuation',\n",
        "    split='whitespace', ngrams=None, output_mode='int',\n",
        "    output_sequence_length=out_len, #number of words each vectorized inpit nis limited to (here: 290, as this captures 95% of all sentence lengths)\n",
        "    pad_to_max_tokens=True, vocabulary=None,\n",
        "    name=\"char_vectorizer\"\n",
        ")"
      ],
      "execution_count": 93,
      "outputs": []
    },
    {
      "cell_type": "code",
      "metadata": {
        "id": "oqMFINaD6JNe"
      },
      "source": [
        "#adapt tp X_train\n",
        "char_vectorizer.adapt(X_train_chars)"
      ],
      "execution_count": 94,
      "outputs": []
    },
    {
      "cell_type": "code",
      "metadata": {
        "colab": {
          "base_uri": "https://localhost:8080/"
        },
        "id": "PnSt4XlN5xSz",
        "outputId": "c12bfcbb-ca43-490e-c429-5d9fe932b5ed"
      },
      "source": [
        "#check vocab\n",
        "char_vectorizer.get_vocabulary(), len(char_vectorizer.get_vocabulary())"
      ],
      "execution_count": 95,
      "outputs": [
        {
          "output_type": "execute_result",
          "data": {
            "text/plain": [
              "(['',\n",
              "  '[UNK]',\n",
              "  'e',\n",
              "  't',\n",
              "  'i',\n",
              "  'a',\n",
              "  'n',\n",
              "  'o',\n",
              "  'r',\n",
              "  's',\n",
              "  'd',\n",
              "  'c',\n",
              "  'l',\n",
              "  'h',\n",
              "  'p',\n",
              "  'm',\n",
              "  'u',\n",
              "  'f',\n",
              "  'g',\n",
              "  'y',\n",
              "  'w',\n",
              "  'v',\n",
              "  'b',\n",
              "  'k',\n",
              "  'x',\n",
              "  'z',\n",
              "  'q',\n",
              "  'j'],\n",
              " 28)"
            ]
          },
          "metadata": {},
          "execution_count": 95
        }
      ]
    },
    {
      "cell_type": "markdown",
      "metadata": {
        "id": "kZlujotE7ox_"
      },
      "source": [
        "##### create embedder that works at char-level and with char-vectorizer"
      ]
    },
    {
      "cell_type": "code",
      "metadata": {
        "id": "Kt3U6lIN5mpY"
      },
      "source": [
        "#embed\n",
        "char_embedder = tf.keras.layers.Embedding(input_dim=len(char_vectorizer.get_vocabulary()), # set input shape --> = length of vocabulary\n",
        "                             output_dim=25, # set size of embedding vector --> 25 as per model in paper that I am trying to reproduce\n",
        "                             mask_zero=True,\n",
        "                             embeddings_initializer=\"uniform\", # default, intialize randomly\n",
        "                             input_length=out_len, # how long is each input \n",
        "                             name=\"char_embed\")"
      ],
      "execution_count": 96,
      "outputs": []
    },
    {
      "cell_type": "code",
      "metadata": {
        "colab": {
          "base_uri": "https://localhost:8080/"
        },
        "id": "0J9tQhA-752X",
        "outputId": "ff87664c-e30d-41cf-b41e-1e5bdd022dcb"
      },
      "source": [
        "print(f\"Indiv. character sentence: {random_text}\")\n",
        "print(f\"Sentence vectorized (with a length of {len(char_vectorizer([random_text])[0])}): \\n{char_vectorizer([random_text])}\")\n",
        "print(f\"Embedding of vectorized sentence (with a length of {len(char_embedder(char_vectorizer([random_text]))[0][0])} each): \\n{char_embedder(char_vectorizer([random_text]))}\")\n",
        "print(f\"\\nEmbedding shape: \\n{char_embedder(char_vectorizer([random_text])).shape}\")"
      ],
      "execution_count": 97,
      "outputs": [
        {
          "output_type": "stream",
          "name": "stdout",
          "text": [
            "Indiv. character sentence: a prospective randomized single-blind study was designed to analyze @ cases of bilateral crs with np .\n",
            "Sentence vectorized (with a length of 290): \n",
            "[[5 1 1 1 1 1 1 1 1 1 1 1 1 1 1 0 0 0 0 0 0 0 0 0 0 0 0 0 0 0 0 0 0 0 0 0\n",
            "  0 0 0 0 0 0 0 0 0 0 0 0 0 0 0 0 0 0 0 0 0 0 0 0 0 0 0 0 0 0 0 0 0 0 0 0\n",
            "  0 0 0 0 0 0 0 0 0 0 0 0 0 0 0 0 0 0 0 0 0 0 0 0 0 0 0 0 0 0 0 0 0 0 0 0\n",
            "  0 0 0 0 0 0 0 0 0 0 0 0 0 0 0 0 0 0 0 0 0 0 0 0 0 0 0 0 0 0 0 0 0 0 0 0\n",
            "  0 0 0 0 0 0 0 0 0 0 0 0 0 0 0 0 0 0 0 0 0 0 0 0 0 0 0 0 0 0 0 0 0 0 0 0\n",
            "  0 0 0 0 0 0 0 0 0 0 0 0 0 0 0 0 0 0 0 0 0 0 0 0 0 0 0 0 0 0 0 0 0 0 0 0\n",
            "  0 0 0 0 0 0 0 0 0 0 0 0 0 0 0 0 0 0 0 0 0 0 0 0 0 0 0 0 0 0 0 0 0 0 0 0\n",
            "  0 0 0 0 0 0 0 0 0 0 0 0 0 0 0 0 0 0 0 0 0 0 0 0 0 0 0 0 0 0 0 0 0 0 0 0\n",
            "  0 0]]\n",
            "Embedding of vectorized sentence (with a length of 25 each): \n",
            "[[[ 0.03941912 -0.01019298  0.00859458 ... -0.0058878  -0.04546351\n",
            "   -0.03506045]\n",
            "  [-0.01953325 -0.02792015 -0.00586699 ... -0.00125364  0.00323546\n",
            "    0.00155772]\n",
            "  [-0.01953325 -0.02792015 -0.00586699 ... -0.00125364  0.00323546\n",
            "    0.00155772]\n",
            "  ...\n",
            "  [ 0.0016886   0.02232517  0.03996274 ...  0.00055721 -0.01664232\n",
            "    0.02797898]\n",
            "  [ 0.0016886   0.02232517  0.03996274 ...  0.00055721 -0.01664232\n",
            "    0.02797898]\n",
            "  [ 0.0016886   0.02232517  0.03996274 ...  0.00055721 -0.01664232\n",
            "    0.02797898]]]\n",
            "\n",
            "Embedding shape: \n",
            "(1, 290, 25)\n"
          ]
        }
      ]
    },
    {
      "cell_type": "code",
      "metadata": {
        "id": "fnc6E8-gjXoe"
      },
      "source": [
        "#create datasets for char-level data (currently only made for word-level data) for faster fitting --> 1) convert data to tf datasets and 2) create batches\n",
        "train_dataset_char = tf.data.Dataset.from_tensor_slices((X_train_chars, encoded_train_labels)).batch(32).prefetch(tf.data.AUTOTUNE)\n",
        "test_dataset_char = tf.data.Dataset.from_tensor_slices((X_test_chars, encoded_test_labels)).batch(32).prefetch(tf.data.AUTOTUNE)\n",
        "val_dataset_char = tf.data.Dataset.from_tensor_slices((X_val_chars, encoded_val_labels)).batch(32).prefetch(tf.data.AUTOTUNE)"
      ],
      "execution_count": 98,
      "outputs": []
    },
    {
      "cell_type": "code",
      "metadata": {
        "id": "hfR-9w6U85_f"
      },
      "source": [
        "# build model\n",
        "inputs = tf.keras.layers.Input(shape=(1, ), dtype=tf.string)  #NOTE: input shape here takes one sequence at the time, whereas use_model embeddings input needed to be a list (specified in use_model docs)\n",
        "vectorizer = char_vectorizer(inputs)\n",
        "embedder = char_embedder(vectorizer)\n",
        "x = tf.keras.layers.Conv1D(filters=64, kernel_size=10, padding=\"same\", activation=\"relu\")(embedder)\n",
        "x = tf.keras.layers.GlobalMaxPool1D()(x)\n",
        "output = tf.keras.layers.Dense(num_classes, activation = \"softmax\")(x)\n",
        "conv1D_char_embeddings_model = tf.keras.Model(inputs, output, name=\"conv1D_char_embeddings\")"
      ],
      "execution_count": 99,
      "outputs": []
    },
    {
      "cell_type": "code",
      "metadata": {
        "id": "2qud9SUckV8n"
      },
      "source": [
        "#compile \n",
        "conv1D_char_embeddings_model.compile(\n",
        "    loss=\"categorical_crossentropy\",\n",
        "    optimizer=tf.keras.optimizers.Adam(),\n",
        "    metrics=[\"accuracy\"]\n",
        ")"
      ],
      "execution_count": 100,
      "outputs": []
    },
    {
      "cell_type": "code",
      "metadata": {
        "colab": {
          "base_uri": "https://localhost:8080/"
        },
        "id": "3MsL05szkhsj",
        "outputId": "8da13296-8907-41b0-8d29-da99af19f7a8"
      },
      "source": [
        "#fit --> ONLY on char-based dataset for now\n",
        "conv1D_char_embeddings_model.fit(\n",
        "                                 train_dataset_char,\n",
        "                                 steps_per_epoch=int(0.1*len(train_dataset_char)),\n",
        "                                 epochs=3,\n",
        "                                 validation_data=test_dataset_char,\n",
        "                                 validation_steps=int(0.1*len(val_dataset_char))\n",
        "                              )"
      ],
      "execution_count": 101,
      "outputs": [
        {
          "output_type": "stream",
          "name": "stdout",
          "text": [
            "Epoch 1/3\n",
            "562/562 [==============================] - 7s 11ms/step - loss: 1.2080 - accuracy: 0.5112 - val_loss: 0.9794 - val_accuracy: 0.6283\n",
            "Epoch 2/3\n",
            "562/562 [==============================] - 6s 11ms/step - loss: 0.9447 - accuracy: 0.6262 - val_loss: 0.8890 - val_accuracy: 0.6632\n",
            "Epoch 3/3\n",
            "562/562 [==============================] - 6s 11ms/step - loss: 0.8620 - accuracy: 0.6648 - val_loss: 0.8067 - val_accuracy: 0.6905\n"
          ]
        },
        {
          "output_type": "execute_result",
          "data": {
            "text/plain": [
              "<keras.callbacks.History at 0x7fe4ce534690>"
            ]
          },
          "metadata": {},
          "execution_count": 101
        }
      ]
    },
    {
      "cell_type": "code",
      "metadata": {
        "colab": {
          "base_uri": "https://localhost:8080/"
        },
        "id": "QxYszjP7lmnB",
        "outputId": "e716011f-d56e-489d-888d-b00446108061"
      },
      "source": [
        "conv1D_char_embeddings_model.evaluate(val_dataset_char)"
      ],
      "execution_count": 102,
      "outputs": [
        {
          "output_type": "stream",
          "name": "stdout",
          "text": [
            "945/945 [==============================] - 5s 5ms/step - loss: 0.8249 - accuracy: 0.6836\n"
          ]
        },
        {
          "output_type": "execute_result",
          "data": {
            "text/plain": [
              "[0.824868381023407, 0.6835694313049316]"
            ]
          },
          "metadata": {},
          "execution_count": 102
        }
      ]
    },
    {
      "cell_type": "code",
      "metadata": {
        "id": "RmYOuPuclrbw"
      },
      "source": [
        "conv1D_char_embeddings_preds = conv1D_char_embeddings_model.predict(X_val_chars)"
      ],
      "execution_count": 103,
      "outputs": []
    },
    {
      "cell_type": "code",
      "metadata": {
        "id": "xVFt5-GElzhL"
      },
      "source": [
        "conv1D_char_embeddings_preds = tf.math.argmax(conv1D_char_embeddings_preds, axis=1)"
      ],
      "execution_count": 104,
      "outputs": []
    },
    {
      "cell_type": "code",
      "metadata": {
        "colab": {
          "base_uri": "https://localhost:8080/"
        },
        "id": "LLSiRshHm-xP",
        "outputId": "a51de3a8-4844-4107-f39d-cfc498d8929e"
      },
      "source": [
        "conv1D_char_embeddings_metrics = calculate_results(lab_encoded_val_labels, conv1D_char_embeddings_preds)\n",
        "conv1D_char_embeddings_metrics"
      ],
      "execution_count": 105,
      "outputs": [
        {
          "output_type": "execute_result",
          "data": {
            "text/plain": [
              "{'accuracy': 68.35694426055872,\n",
              " 'f1': 0.6749432598794289,\n",
              " 'precision': 0.6795249160516622,\n",
              " 'recall': 0.6835694426055872}"
            ]
          },
          "metadata": {},
          "execution_count": 105
        }
      ]
    },
    {
      "cell_type": "code",
      "metadata": {
        "colab": {
          "base_uri": "https://localhost:8080/"
        },
        "id": "xcDzFwajnONM",
        "outputId": "4b21402d-49d9-4fe7-80ee-330474c8cc07"
      },
      "source": [
        "baseline_metrics"
      ],
      "execution_count": 106,
      "outputs": [
        {
          "output_type": "execute_result",
          "data": {
            "text/plain": [
              "{'accuracy': 72.1832384482987,\n",
              " 'f1': 0.6989250353450294,\n",
              " 'precision': 0.7186466952323352,\n",
              " 'recall': 0.7218323844829869}"
            ]
          },
          "metadata": {},
          "execution_count": 106
        }
      ]
    },
    {
      "cell_type": "code",
      "metadata": {
        "colab": {
          "base_uri": "https://localhost:8080/"
        },
        "id": "K-5PPnmqnFZb",
        "outputId": "3b24637d-4d51-477b-9d80-72a4427866a9"
      },
      "source": [
        "conv1D_metrics"
      ],
      "execution_count": 107,
      "outputs": [
        {
          "output_type": "execute_result",
          "data": {
            "text/plain": [
              "{'accuracy': 80.20985039057328,\n",
              " 'f1': 0.8010133575096982,\n",
              " 'precision': 0.8021990175458314,\n",
              " 'recall': 0.8020985039057328}"
            ]
          },
          "metadata": {},
          "execution_count": 107
        }
      ]
    },
    {
      "cell_type": "markdown",
      "metadata": {
        "id": "vqY1-HyMxExg"
      },
      "source": [
        "## Multi-modal Models: 1 - character + token - level embedding LSTM <br>\n",
        "\n",
        "Note: to combine different embedding layers (see 2 of the layers above - xxx and xxx), a \"concatenating\"-layer (*layers.Concatenate*) needs to be added."
      ]
    },
    {
      "cell_type": "markdown",
      "metadata": {
        "id": "0Zc62qtxyn3P"
      },
      "source": [
        "##### Create embedding models for different input types (char vs token - based)"
      ]
    },
    {
      "cell_type": "code",
      "metadata": {
        "id": "BEfNw3b7nSNb"
      },
      "source": [
        "#0. instantiate token - and character-based vectorizers and embedders\n",
        "\n",
        "#token-level --> using pre-trained embedder (use_model from tf-Hub)\n",
        "use_layer = hub.KerasLayer(\"https://tfhub.dev/google/universal-sentence-encoder/4\",\n",
        "                                        input_shape=[], #NOTE: required input in list-form --> see model docs\n",
        "                                        dtype=tf.string, \n",
        "                                        trainable=False, \n",
        "                                        name=\"use\") \n",
        "\n",
        "#char-level\n",
        "char_out_len = int(np.percentile(char_nums, 95))\n",
        "MAX_CHARS = len(all_chars)\n",
        "\n",
        "char_vectorizer = tf.keras.layers.TextVectorization(\n",
        "    max_tokens=MAX_CHARS, standardize='lower_and_strip_punctuation',\n",
        "    split='whitespace', ngrams=None, output_mode='int',\n",
        "    output_sequence_length=char_out_len, pad_to_max_tokens=True, vocabulary=None\n",
        ")\n",
        "char_vectorizer.adapt(X_train_chars)\n",
        "\n",
        "char_embedder = tf.keras.layers.Embedding(input_dim=len(char_vectorizer.get_vocabulary()), \n",
        "                             output_dim=516, \n",
        "                             mask_zero=True,\n",
        "                             embeddings_initializer=\"uniform\", \n",
        "                             input_length=char_out_len) \n",
        "\n",
        "\n",
        "#1. token-level model\n",
        "token_inputs = tf.keras.layers.Input(shape=[], dtype=\"string\", name=\"token_inputs\")\n",
        "token_embed_pretrained = use_layer(token_inputs)\n",
        "token_output = tf.keras.layers.Dense(128, activation=\"relu\")(token_embed_pretrained)  # NOTE: not num_classes for numnb rof units, as this is not the FINAL output layer, but only the token-level output layer before concatination with char-level model\n",
        "token_model = tf.keras.Model(token_inputs, token_output, name=\"token_embedding_model\")\n",
        "\n",
        "#2. char-level model\n",
        "char_inputs = tf.keras.layers.Input(shape=(1, ), dtype=\"string\", name=\"char_inputs\")\n",
        "char_vect = char_vectorizer(char_inputs)\n",
        "char_embed = char_embedder(char_vect)\n",
        "char_output = tf.keras.layers.Bidirectional(tf.keras.layers.LSTM(48, dropout=0.2))(char_embed)\n",
        "char_model = tf.keras.Model(char_inputs, char_output, name=\"char_embedding_model\")"
      ],
      "execution_count": 108,
      "outputs": []
    },
    {
      "cell_type": "code",
      "metadata": {
        "id": "Bfk_H7X60ewj"
      },
      "source": [
        "#concatenate two models (token-level and char-level) creatihng a hyrid-token embedding\n",
        "hybrid_layer = tf.keras.layers.Concatenate(name=\"hybrid_layer\")([token_model.output, char_model.output])"
      ],
      "execution_count": 109,
      "outputs": []
    },
    {
      "cell_type": "code",
      "metadata": {
        "id": "Tbc5-pdL4aJs"
      },
      "source": [
        "#add output layers incl. drop-out\n",
        "hybrid_dropout1 = tf.keras.layers.Dropout(0.4, name=\"hybrid_dropout_1\")(hybrid_layer)\n",
        "hybrid_dense = tf.keras.layers.Dense(128, activation=\"relu\", name=\"hybrid_dense_layer\")(hybrid_dropout1)\n",
        "hybrid_dropout2 = tf.keras.layers.Dropout(0.6, name=\"hybrid_dropout_2\")(hybrid_dense)\n",
        "hybrid_output = tf.keras.layers.Dense(num_classes, activation=\"softmax\", name=\"hybrid_layer_output\")(hybrid_dropout2)"
      ],
      "execution_count": 110,
      "outputs": []
    },
    {
      "cell_type": "code",
      "metadata": {
        "id": "tpXTYBuQzGsG"
      },
      "source": [
        "#combine all layers into model\n",
        "hybrid_model = tf.keras.Model([token_inputs, char_inputs], hybrid_output, name=\"Hybrid_model\")  #NOTE: multiple inputs are ONLY possible with functional API, not with sequential API"
      ],
      "execution_count": 111,
      "outputs": []
    },
    {
      "cell_type": "code",
      "metadata": {
        "colab": {
          "base_uri": "https://localhost:8080/"
        },
        "id": "IheieFGi5buu",
        "outputId": "8b2bb853-91be-4c8e-b8ed-0f26564f10d5"
      },
      "source": [
        "hybrid_model.summary()"
      ],
      "execution_count": 112,
      "outputs": [
        {
          "output_type": "stream",
          "name": "stdout",
          "text": [
            "Model: \"Hybrid_model\"\n",
            "__________________________________________________________________________________________________\n",
            "Layer (type)                    Output Shape         Param #     Connected to                     \n",
            "==================================================================================================\n",
            "char_inputs (InputLayer)        [(None, 1)]          0                                            \n",
            "__________________________________________________________________________________________________\n",
            "token_inputs (InputLayer)       [(None,)]            0                                            \n",
            "__________________________________________________________________________________________________\n",
            "text_vectorization_1 (TextVecto (None, 290)          0           char_inputs[0][0]                \n",
            "__________________________________________________________________________________________________\n",
            "use (KerasLayer)                (None, 512)          256797824   token_inputs[0][0]               \n",
            "__________________________________________________________________________________________________\n",
            "embedding_1 (Embedding)         (None, 290, 516)     14448       text_vectorization_1[0][0]       \n",
            "__________________________________________________________________________________________________\n",
            "dense_4 (Dense)                 (None, 128)          65664       use[0][0]                        \n",
            "__________________________________________________________________________________________________\n",
            "bidirectional (Bidirectional)   (None, 96)           216960      embedding_1[0][0]                \n",
            "__________________________________________________________________________________________________\n",
            "hybrid_layer (Concatenate)      (None, 224)          0           dense_4[0][0]                    \n",
            "                                                                 bidirectional[0][0]              \n",
            "__________________________________________________________________________________________________\n",
            "hybrid_dropout_1 (Dropout)      (None, 224)          0           hybrid_layer[0][0]               \n",
            "__________________________________________________________________________________________________\n",
            "hybrid_dense_layer (Dense)      (None, 128)          28800       hybrid_dropout_1[0][0]           \n",
            "__________________________________________________________________________________________________\n",
            "hybrid_dropout_2 (Dropout)      (None, 128)          0           hybrid_dense_layer[0][0]         \n",
            "__________________________________________________________________________________________________\n",
            "hybrid_layer_output (Dense)     (None, 5)            645         hybrid_dropout_2[0][0]           \n",
            "==================================================================================================\n",
            "Total params: 257,124,341\n",
            "Trainable params: 326,517\n",
            "Non-trainable params: 256,797,824\n",
            "__________________________________________________________________________________________________\n"
          ]
        }
      ]
    },
    {
      "cell_type": "code",
      "metadata": {
        "id": "3MEaneLe5_f5",
        "colab": {
          "base_uri": "https://localhost:8080/",
          "height": 197
        },
        "outputId": "2d5b3737-bffe-4a26-8add-2b0d2890c1a1"
      },
      "source": [
        "#visualiza more complex models\n",
        "from tensorflow.keras.utils import plot_model\n",
        "plot_model(hybrid_model, show_shapes=True, show_dtype=True, rankdir=\"LR\")"
      ],
      "execution_count": 113,
      "outputs": [
        {
          "output_type": "execute_result",
          "data": {
            "image/png": "[encoded data removed]",
            "text/plain": [
              "<IPython.core.display.Image object>"
            ]
          },
          "metadata": {},
          "execution_count": 113
        }
      ]
    },
    {
      "cell_type": "code",
      "metadata": {
        "id": "pNeDcF5-0bvj"
      },
      "source": [
        "#compile model\n",
        "hybrid_model.compile(\n",
        "    loss=\"categorical_crossentropy\",\n",
        "    optimizer=\"adam\",\n",
        "    metrics=[\"accuracy\"]\n",
        ")"
      ],
      "execution_count": 114,
      "outputs": []
    },
    {
      "cell_type": "markdown",
      "metadata": {
        "id": "X1GMKlmv42Im"
      },
      "source": [
        "We are having input into the modelfrom 2 sources (char and token - based data). <br>\n",
        "In order to increase efficiency, the two datasets can be combined into on tf.data dataset. This can be done in 3 steps:<br>\n",
        " - create features data dataset by passing **features** data from 2 sources (token+char) to from_tensor_slices as a tuple <br>(NOTE: pass the features data in the same order as the data is passed to the tf.keras.layers.Concatenate() layer !) \n",
        " - create label data dataset by passing **encoded labels** data to from_tensor_slices <br>(NOTE: in this case, both datasets have the same labels, so that labels may only passed once instead of in a tuple)\n",
        " - combine features using .zip() and label dataset into one tf.data dataset, batch and prefetch<br>\n",
        "\n",
        "Docs: \n",
        "https://www.tensorflow.org/api_docs/python/tf/data/Dataset#from_tensor_slices "
      ]
    },
    {
      "cell_type": "code",
      "metadata": {
        "id": "DQFcektk2JDN"
      },
      "source": [
        "# combine token and char - level inputs into ONE tf.data dataset to pass to model for train, test and val datasets\n",
        "train_dataset_hybrid_features = tf.data.Dataset.from_tensor_slices((X_train, X_train_chars)) \n",
        "train_dataset_hybrid_labels = tf.data.Dataset.from_tensor_slices(encoded_train_labels) \n",
        "train_dataset_hybrid = tf.data.Dataset.zip((train_dataset_hybrid_features, train_dataset_hybrid_labels)).batch(32).prefetch(tf.data.AUTOTUNE)  #combine features and labels into dataset and batch+prefetch using .zip()\n",
        "\n",
        "test_dataset_hybrid_features = tf.data.Dataset.from_tensor_slices((X_test, X_test_chars))  \n",
        "test_dataset_hybrid_labels = tf.data.Dataset.from_tensor_slices(encoded_test_labels)  \n",
        "test_dataset_hybrid = tf.data.Dataset.zip((test_dataset_hybrid_features, test_dataset_hybrid_labels)).batch(32).prefetch(tf.data.AUTOTUNE)\n",
        "\n",
        "val_dataset_hybrid_features = tf.data.Dataset.from_tensor_slices((X_val, X_val_chars))  \n",
        "val_dataset_hybrid_labels = tf.data.Dataset.from_tensor_slices(encoded_val_labels)  \n",
        "val_dataset_hybrid = tf.data.Dataset.zip((val_dataset_hybrid_features, val_dataset_hybrid_labels)).batch(32).prefetch(tf.data.AUTOTUNE)"
      ],
      "execution_count": 115,
      "outputs": []
    },
    {
      "cell_type": "code",
      "metadata": {
        "colab": {
          "base_uri": "https://localhost:8080/"
        },
        "id": "Zw4xGb7B5LPp",
        "outputId": "ae94407a-703d-4a80-8993-f22f7eb8fe13"
      },
      "source": [
        "#fit model\n",
        "hybrid_model_history = hybrid_model.fit(\n",
        "    train_dataset_hybrid,\n",
        "    steps_per_epoch=int(0.1*len(train_dataset_hybrid)),\n",
        "    batch_size=len(train_dataset_hybrid),\n",
        "    epochs=3,\n",
        "    validation_data=val_dataset_hybrid,\n",
        "    validation_steps=int(0.1*len(val_dataset_hybrid))\n",
        ")"
      ],
      "execution_count": 116,
      "outputs": [
        {
          "output_type": "stream",
          "name": "stdout",
          "text": [
            "Epoch 1/3\n",
            "562/562 [==============================] - 97s 152ms/step - loss: 0.9634 - accuracy: 0.6166 - val_loss: 0.7629 - val_accuracy: 0.7084\n",
            "Epoch 2/3\n",
            "562/562 [==============================] - 82s 146ms/step - loss: 0.7933 - accuracy: 0.6941 - val_loss: 0.7076 - val_accuracy: 0.7267\n",
            "Epoch 3/3\n",
            "562/562 [==============================] - 77s 138ms/step - loss: 0.7608 - accuracy: 0.7099 - val_loss: 0.6809 - val_accuracy: 0.7424\n"
          ]
        }
      ]
    },
    {
      "cell_type": "code",
      "metadata": {
        "colab": {
          "base_uri": "https://localhost:8080/"
        },
        "id": "KUStTfPA-tf4",
        "outputId": "ef6f790b-ed53-44bd-d888-fa261ec10ff0"
      },
      "source": [
        "#evaluate\n",
        "hybrid_model.evaluate(val_dataset_hybrid)"
      ],
      "execution_count": 117,
      "outputs": [
        {
          "output_type": "stream",
          "name": "stdout",
          "text": [
            "945/945 [==============================] - 45s 48ms/step - loss: 0.6837 - accuracy: 0.7395\n"
          ]
        },
        {
          "output_type": "execute_result",
          "data": {
            "text/plain": [
              "[0.683690071105957, 0.7395405769348145]"
            ]
          },
          "metadata": {},
          "execution_count": 117
        }
      ]
    },
    {
      "cell_type": "code",
      "metadata": {
        "colab": {
          "base_uri": "https://localhost:8080/"
        },
        "id": "kSZisIGT-ySn",
        "outputId": "de5b6f59-7bba-47e4-910d-107b2fe179f3"
      },
      "source": [
        "#create predictions and get performance metrics\n",
        "\n",
        "hybrid_model_preds = tf.math.argmax(hybrid_model.predict(val_dataset_hybrid), axis=1)\n",
        "\n",
        "hybrid_model_metrics = calculate_results(lab_encoded_val_labels, hybrid_model_preds)\n",
        "\n",
        "hybrid_model_metrics"
      ],
      "execution_count": 118,
      "outputs": [
        {
          "output_type": "execute_result",
          "data": {
            "text/plain": [
              "{'accuracy': 73.95405799020257,\n",
              " 'f1': 0.7379917264072277,\n",
              " 'precision': 0.7394988487497496,\n",
              " 'recall': 0.7395405799020257}"
            ]
          },
          "metadata": {},
          "execution_count": 118
        }
      ]
    },
    {
      "cell_type": "code",
      "metadata": {
        "colab": {
          "base_uri": "https://localhost:8080/"
        },
        "id": "otecxhMo_qK2",
        "outputId": "a3c616e5-8665-4b10-bcde-bf77b86241d9"
      },
      "source": [
        "conv1D_metrics"
      ],
      "execution_count": 119,
      "outputs": [
        {
          "output_type": "execute_result",
          "data": {
            "text/plain": [
              "{'accuracy': 80.20985039057328,\n",
              " 'f1': 0.8010133575096982,\n",
              " 'precision': 0.8021990175458314,\n",
              " 'recall': 0.8020985039057328}"
            ]
          },
          "metadata": {},
          "execution_count": 119
        }
      ]
    },
    {
      "cell_type": "markdown",
      "metadata": {
        "id": "YvZdLoxi9_6A"
      },
      "source": [
        "## Multi-modal Models: 2 - character + token - level embedding + sentence position <br>\n",
        "\n",
        "The positional information  was feature-engineered from original data (by preprocessing data using preprocess_data()) and saved in various Python dictionaries (train_dct, test_dct and val_dct). <br><br>\n",
        "This engineered postional feature will now be added to the model in order to improve performance."
      ]
    },
    {
      "cell_type": "code",
      "metadata": {
        "colab": {
          "base_uri": "https://localhost:8080/",
          "height": 419
        },
        "id": "RVujJBMN7jLg",
        "outputId": "965ffb2b-750f-492f-be7f-568d125238d5"
      },
      "source": [
        "train_df"
      ],
      "execution_count": 120,
      "outputs": [
        {
          "output_type": "execute_result",
          "data": {
            "text/html": [
              "<div>\n",
              "<style scoped>\n",
              "    .dataframe tbody tr th:only-of-type {\n",
              "        vertical-align: middle;\n",
              "    }\n",
              "\n",
              "    .dataframe tbody tr th {\n",
              "        vertical-align: top;\n",
              "    }\n",
              "\n",
              "    .dataframe thead th {\n",
              "        text-align: right;\n",
              "    }\n",
              "</style>\n",
              "<table border=\"1\" class=\"dataframe\">\n",
              "  <thead>\n",
              "    <tr style=\"text-align: right;\">\n",
              "      <th></th>\n",
              "      <th>line_num</th>\n",
              "      <th>label</th>\n",
              "      <th>text</th>\n",
              "      <th>total_lines</th>\n",
              "      <th>sentence_length</th>\n",
              "    </tr>\n",
              "  </thead>\n",
              "  <tbody>\n",
              "    <tr>\n",
              "      <th>0</th>\n",
              "      <td>1</td>\n",
              "      <td>objective</td>\n",
              "      <td>to investigate the efficacy of @ weeks of dail...</td>\n",
              "      <td>12</td>\n",
              "      <td>49</td>\n",
              "    </tr>\n",
              "    <tr>\n",
              "      <th>1</th>\n",
              "      <td>2</td>\n",
              "      <td>methods</td>\n",
              "      <td>a total of @ patients with primary knee oa wer...</td>\n",
              "      <td>12</td>\n",
              "      <td>27</td>\n",
              "    </tr>\n",
              "    <tr>\n",
              "      <th>2</th>\n",
              "      <td>3</td>\n",
              "      <td>methods</td>\n",
              "      <td>outcome measures included pain reduction and i...</td>\n",
              "      <td>12</td>\n",
              "      <td>15</td>\n",
              "    </tr>\n",
              "    <tr>\n",
              "      <th>3</th>\n",
              "      <td>4</td>\n",
              "      <td>methods</td>\n",
              "      <td>pain was assessed using the visual analog pain...</td>\n",
              "      <td>12</td>\n",
              "      <td>14</td>\n",
              "    </tr>\n",
              "    <tr>\n",
              "      <th>4</th>\n",
              "      <td>5</td>\n",
              "      <td>methods</td>\n",
              "      <td>secondary outcome measures included the wester...</td>\n",
              "      <td>12</td>\n",
              "      <td>35</td>\n",
              "    </tr>\n",
              "    <tr>\n",
              "      <th>...</th>\n",
              "      <td>...</td>\n",
              "      <td>...</td>\n",
              "      <td>...</td>\n",
              "      <td>...</td>\n",
              "      <td>...</td>\n",
              "    </tr>\n",
              "    <tr>\n",
              "      <th>180035</th>\n",
              "      <td>8</td>\n",
              "      <td>results</td>\n",
              "      <td>for the absolute change in percent atheroma vo...</td>\n",
              "      <td>12</td>\n",
              "      <td>95</td>\n",
              "    </tr>\n",
              "    <tr>\n",
              "      <th>180036</th>\n",
              "      <td>9</td>\n",
              "      <td>results</td>\n",
              "      <td>for pav , a significantly greater percentage o...</td>\n",
              "      <td>12</td>\n",
              "      <td>28</td>\n",
              "    </tr>\n",
              "    <tr>\n",
              "      <th>180037</th>\n",
              "      <td>10</td>\n",
              "      <td>results</td>\n",
              "      <td>both strategies had acceptable side effect pro...</td>\n",
              "      <td>12</td>\n",
              "      <td>18</td>\n",
              "    </tr>\n",
              "    <tr>\n",
              "      <th>180038</th>\n",
              "      <td>11</td>\n",
              "      <td>conclusions</td>\n",
              "      <td>compared with standard statin monotherapy , th...</td>\n",
              "      <td>12</td>\n",
              "      <td>30</td>\n",
              "    </tr>\n",
              "    <tr>\n",
              "      <th>180039</th>\n",
              "      <td>12</td>\n",
              "      <td>conclusions</td>\n",
              "      <td>( plaque regression with cholesterol absorptio...</td>\n",
              "      <td>12</td>\n",
              "      <td>21</td>\n",
              "    </tr>\n",
              "  </tbody>\n",
              "</table>\n",
              "<p>180040 rows × 5 columns</p>\n",
              "</div>"
            ],
            "text/plain": [
              "        line_num        label  ... total_lines  sentence_length\n",
              "0              1    objective  ...          12               49\n",
              "1              2      methods  ...          12               27\n",
              "2              3      methods  ...          12               15\n",
              "3              4      methods  ...          12               14\n",
              "4              5      methods  ...          12               35\n",
              "...          ...          ...  ...         ...              ...\n",
              "180035         8      results  ...          12               95\n",
              "180036         9      results  ...          12               28\n",
              "180037        10      results  ...          12               18\n",
              "180038        11  conclusions  ...          12               30\n",
              "180039        12  conclusions  ...          12               21\n",
              "\n",
              "[180040 rows x 5 columns]"
            ]
          },
          "metadata": {},
          "execution_count": 120
        }
      ]
    },
    {
      "cell_type": "markdown",
      "metadata": {
        "id": "CeQUDK_LCOCa"
      },
      "source": [
        "##### Engineer and create positional embeddings<br><br>\n",
        "\n",
        "Positional embeddings will be created for total lines and line number for each entry."
      ]
    },
    {
      "cell_type": "code",
      "metadata": {
        "id": "hsPUE6Br_yFz"
      },
      "source": [
        "# calculate position for all dataframes - \n",
        "for datframe in [train_df, test_df, val_df]:\n",
        "  datframe[\"pos\"] = datframe.line_num / datframe.total_lines"
      ],
      "execution_count": 121,
      "outputs": []
    },
    {
      "cell_type": "code",
      "metadata": {
        "colab": {
          "base_uri": "https://localhost:8080/",
          "height": 204
        },
        "id": "GNuIUXZR_9Dl",
        "outputId": "3959e4e9-34f8-4a61-a7da-bd4b0f0b749e"
      },
      "source": [
        "val_df.head()"
      ],
      "execution_count": 122,
      "outputs": [
        {
          "output_type": "execute_result",
          "data": {
            "text/html": [
              "<div>\n",
              "<style scoped>\n",
              "    .dataframe tbody tr th:only-of-type {\n",
              "        vertical-align: middle;\n",
              "    }\n",
              "\n",
              "    .dataframe tbody tr th {\n",
              "        vertical-align: top;\n",
              "    }\n",
              "\n",
              "    .dataframe thead th {\n",
              "        text-align: right;\n",
              "    }\n",
              "</style>\n",
              "<table border=\"1\" class=\"dataframe\">\n",
              "  <thead>\n",
              "    <tr style=\"text-align: right;\">\n",
              "      <th></th>\n",
              "      <th>line_num</th>\n",
              "      <th>label</th>\n",
              "      <th>text</th>\n",
              "      <th>total_lines</th>\n",
              "      <th>pos</th>\n",
              "    </tr>\n",
              "  </thead>\n",
              "  <tbody>\n",
              "    <tr>\n",
              "      <th>0</th>\n",
              "      <td>1</td>\n",
              "      <td>background</td>\n",
              "      <td>ige sensitization to aspergillus fumigatus and...</td>\n",
              "      <td>10</td>\n",
              "      <td>0.1</td>\n",
              "    </tr>\n",
              "    <tr>\n",
              "      <th>1</th>\n",
              "      <td>2</td>\n",
              "      <td>background</td>\n",
              "      <td>it is not clear whether these patients would b...</td>\n",
              "      <td>10</td>\n",
              "      <td>0.2</td>\n",
              "    </tr>\n",
              "    <tr>\n",
              "      <th>2</th>\n",
              "      <td>3</td>\n",
              "      <td>objective</td>\n",
              "      <td>we sought to determine whether a @-month cours...</td>\n",
              "      <td>10</td>\n",
              "      <td>0.3</td>\n",
              "    </tr>\n",
              "    <tr>\n",
              "      <th>3</th>\n",
              "      <td>4</td>\n",
              "      <td>methods</td>\n",
              "      <td>asthmatic patients who were ige sensitized to ...</td>\n",
              "      <td>10</td>\n",
              "      <td>0.4</td>\n",
              "    </tr>\n",
              "    <tr>\n",
              "      <th>4</th>\n",
              "      <td>5</td>\n",
              "      <td>methods</td>\n",
              "      <td>primary outcomes were improvement in quality o...</td>\n",
              "      <td>10</td>\n",
              "      <td>0.5</td>\n",
              "    </tr>\n",
              "  </tbody>\n",
              "</table>\n",
              "</div>"
            ],
            "text/plain": [
              "   line_num       label  ... total_lines  pos\n",
              "0         1  background  ...          10  0.1\n",
              "1         2  background  ...          10  0.2\n",
              "2         3   objective  ...          10  0.3\n",
              "3         4     methods  ...          10  0.4\n",
              "4         5     methods  ...          10  0.5\n",
              "\n",
              "[5 rows x 5 columns]"
            ]
          },
          "metadata": {},
          "execution_count": 122
        }
      ]
    },
    {
      "cell_type": "code",
      "metadata": {
        "id": "RAmEbqOFAYji"
      },
      "source": [
        "train_pos_feat = np.array(train_df.pos)\n",
        "test_pos_feat = np.array(test_df.pos)\n",
        "val_pos_feat = np.array(val_df.pos)"
      ],
      "execution_count": 123,
      "outputs": []
    },
    {
      "cell_type": "code",
      "metadata": {
        "id": "KEOuX3zJAp6u",
        "colab": {
          "base_uri": "https://localhost:8080/"
        },
        "outputId": "6bd81e3a-5917-44a6-ef8f-12c0a5b45028"
      },
      "source": [
        "X_train = list(train_df[[\"text\", \"pos\"]].values)\n",
        "X_test = list(test_df[[\"text\", \"pos\"]].values)\n",
        "X_val = list(val_df[[\"text\", \"pos\"]].values)\n",
        "len(X_train), len(X_test), len(X_val)"
      ],
      "execution_count": 133,
      "outputs": [
        {
          "output_type": "execute_result",
          "data": {
            "text/plain": [
              "(180040, 30135, 30212)"
            ]
          },
          "metadata": {},
          "execution_count": 133
        }
      ]
    },
    {
      "cell_type": "code",
      "metadata": {
        "colab": {
          "base_uri": "https://localhost:8080/"
        },
        "id": "p3rMf4D5_LZy",
        "outputId": "3f7076b0-1836-41cf-cfa4-8967dc47f235"
      },
      "source": [
        "#check line number distribution\n",
        "train_df.line_num.value_counts()"
      ],
      "execution_count": 135,
      "outputs": [
        {
          "output_type": "execute_result",
          "data": {
            "text/plain": [
              "1     15000\n",
              "2     15000\n",
              "3     15000\n",
              "4     15000\n",
              "5     14992\n",
              "6     14949\n",
              "7     14758\n",
              "8     14279\n",
              "9     13346\n",
              "10    11981\n",
              "11    10041\n",
              "12     7892\n",
              "13     5853\n",
              "14     4152\n",
              "15     2835\n",
              "16     1861\n",
              "17     1188\n",
              "18      751\n",
              "19      462\n",
              "20      286\n",
              "21      162\n",
              "22      101\n",
              "23       66\n",
              "24       33\n",
              "25       22\n",
              "26       14\n",
              "27        7\n",
              "28        4\n",
              "29        3\n",
              "30        1\n",
              "31        1\n",
              "Name: line_num, dtype: int64"
            ]
          },
          "metadata": {},
          "execution_count": 135
        }
      ]
    },
    {
      "cell_type": "code",
      "metadata": {
        "colab": {
          "base_uri": "https://localhost:8080/",
          "height": 282
        },
        "id": "WUUJZHm3C_3O",
        "outputId": "645a4265-8d9f-4d6e-ae33-05f862e64f81"
      },
      "source": [
        "train_df.line_num.plot.hist()"
      ],
      "execution_count": 136,
      "outputs": [
        {
          "output_type": "execute_result",
          "data": {
            "text/plain": [
              "<matplotlib.axes._subplots.AxesSubplot at 0x7fe438d67650>"
            ]
          },
          "metadata": {},
          "execution_count": 136
        },
        {
          "output_type": "display_data",
          "data": {
            "image/png": "[encoded data removed]",
            "text/plain": [
              "<Figure size 432x288 with 1 Axes>"
            ]
          },
          "metadata": {
            "needs_background": "light"
          }
        }
      ]
    },
    {
      "cell_type": "markdown",
      "metadata": {
        "id": "vrNOa7D2DgGm"
      },
      "source": [
        "The encoding applied above has the advantage to combine tow metrics (line_num and total_lines) into one, but it has the disadvantage that it suggests to the ML model, that one line number \"is bigger\" than the other. <br>\n",
        "By one-hot encoding, line numbers are treated as categorical values and this disadvantage disappears."
      ]
    },
    {
      "cell_type": "code",
      "metadata": {
        "id": "8jILVW_WCY2q"
      },
      "source": [
        "# create one-hot-encoding for line numbers\n",
        "def OHE_line_num(df, feature):\n",
        "  indices = df[feature].values\n",
        "  depth = 20  #cutting of line numbers at 20, as most entries have 20 or less lines\n",
        "  return tf.one_hot(indices, depth)"
      ],
      "execution_count": 150,
      "outputs": []
    },
    {
      "cell_type": "code",
      "metadata": {
        "colab": {
          "base_uri": "https://localhost:8080/"
        },
        "id": "9Ft8HN6lDZBV",
        "outputId": "ab9b670a-2934-4ce0-8014-42395a5b9b47"
      },
      "source": [
        "# NOTE: train_df.line_num.values or train_df.line_num.to_numpy() could both be used in order to create the indices above, as they render the same result (same dtype, same shape)\n",
        "print(train_df.line_num.values.dtype == train_df.line_num.to_numpy().dtype)\n",
        "train_df.line_num.values.shape, train_df.line_num.to_numpy().shape"
      ],
      "execution_count": 143,
      "outputs": [
        {
          "output_type": "stream",
          "name": "stdout",
          "text": [
            "True\n"
          ]
        },
        {
          "output_type": "execute_result",
          "data": {
            "text/plain": [
              "((180040,), (180040,))"
            ]
          },
          "metadata": {},
          "execution_count": 143
        }
      ]
    },
    {
      "cell_type": "code",
      "metadata": {
        "id": "Bsq91xvTFEGG"
      },
      "source": [
        "train_lines_OHE = OHE_line_num(train_df, \"line_num\")\n",
        "test_lines_OHE = OHE_line_num(test_df, \"line_num\")\n",
        "val_lines_OHE = OHE_line_num(val_df, \"line_num\")"
      ],
      "execution_count": 151,
      "outputs": []
    },
    {
      "cell_type": "code",
      "metadata": {
        "id": "OmfJyjL1FL6m"
      },
      "source": [
        "train_totallines_OHE = OHE_line_num(train_df, \"total_lines\")\n",
        "test_totallines_OHE = OHE_line_num(test_df, \"total_lines\")\n",
        "val_totallines_OHE = OHE_line_num(val_df, \"total_lines\")"
      ],
      "execution_count": 152,
      "outputs": []
    },
    {
      "cell_type": "code",
      "metadata": {
        "colab": {
          "base_uri": "https://localhost:8080/"
        },
        "id": "ZnG5aQoKGZou",
        "outputId": "3dd5c19f-a521-4437-8bf0-1b889f342e83"
      },
      "source": [
        "train_totallines_OHE[:100:10]"
      ],
      "execution_count": 156,
      "outputs": [
        {
          "output_type": "execute_result",
          "data": {
            "text/plain": [
              "<tf.Tensor: shape=(10, 20), dtype=float32, numpy=\n",
              "array([[0., 0., 0., 0., 0., 0., 0., 0., 0., 0., 0., 0., 1., 0., 0., 0.,\n",
              "        0., 0., 0., 0.],\n",
              "       [0., 0., 0., 0., 0., 0., 0., 0., 0., 0., 0., 0., 1., 0., 0., 0.,\n",
              "        0., 0., 0., 0.],\n",
              "       [0., 0., 0., 0., 0., 0., 0., 0., 0., 0., 0., 1., 0., 0., 0., 0.,\n",
              "        0., 0., 0., 0.],\n",
              "       [0., 0., 0., 0., 0., 0., 0., 0., 0., 0., 0., 0., 0., 0., 0., 1.,\n",
              "        0., 0., 0., 0.],\n",
              "       [0., 0., 0., 0., 0., 0., 0., 0., 0., 0., 0., 0., 0., 0., 0., 0.,\n",
              "        0., 1., 0., 0.],\n",
              "       [0., 0., 0., 0., 0., 0., 0., 0., 0., 0., 0., 0., 0., 0., 0., 0.,\n",
              "        0., 1., 0., 0.],\n",
              "       [0., 0., 0., 0., 0., 0., 0., 0., 0., 0., 0., 0., 1., 0., 0., 0.,\n",
              "        0., 0., 0., 0.],\n",
              "       [0., 0., 0., 0., 0., 0., 0., 0., 0., 0., 0., 0., 0., 1., 0., 0.,\n",
              "        0., 0., 0., 0.],\n",
              "       [0., 0., 0., 0., 0., 0., 0., 0., 0., 0., 1., 0., 0., 0., 0., 0.,\n",
              "        0., 0., 0., 0.],\n",
              "       [0., 0., 0., 0., 0., 0., 0., 0., 0., 0., 0., 1., 0., 0., 0., 0.,\n",
              "        0., 0., 0., 0.]], dtype=float32)>"
            ]
          },
          "metadata": {},
          "execution_count": 156
        }
      ]
    },
    {
      "cell_type": "markdown",
      "metadata": {
        "id": "E0Lkw-1uHf6z"
      },
      "source": [
        "##### Create, compile, fit and evaluate model **using one-hot encoded (OHE)** positional embeddings\n"
      ]
    },
    {
      "cell_type": "code",
      "metadata": {
        "colab": {
          "base_uri": "https://localhost:8080/"
        },
        "id": "mxLOKAJ3Ijsx",
        "outputId": "633e49f7-3455-433d-c766-aab9e0fab601"
      },
      "source": [
        "#check entry shape for input in model below\n",
        "train_lines_OHE[0].shape, train_lines_OHE[0].dtype"
      ],
      "execution_count": 188,
      "outputs": [
        {
          "output_type": "execute_result",
          "data": {
            "text/plain": [
              "(TensorShape([20]), tf.float32)"
            ]
          },
          "metadata": {},
          "execution_count": 188
        }
      ]
    },
    {
      "cell_type": "code",
      "metadata": {
        "id": "botiCjmRGlqk"
      },
      "source": [
        "#0. instantiate token - and character-based vectorizers and embedders\n",
        "\n",
        "#token-level --> using pre-trained embedder (use_model from tf-Hub)\n",
        "use_layer = hub.KerasLayer(\"https://tfhub.dev/google/universal-sentence-encoder/4\",\n",
        "                                        input_shape=[], #NOTE: required input in list-form --> see model docs\n",
        "                                        dtype=tf.string, \n",
        "                                        trainable=False, \n",
        "                                        name=\"use\") \n",
        "\n",
        "#char-level\n",
        "char_out_len = int(np.percentile(char_nums, 95))\n",
        "MAX_CHARS = len(all_chars)\n",
        "\n",
        "char_vectorizer = tf.keras.layers.TextVectorization(\n",
        "    max_tokens=MAX_CHARS, standardize='lower_and_strip_punctuation',\n",
        "    split='whitespace', ngrams=None, output_mode='int',\n",
        "    output_sequence_length=char_out_len, pad_to_max_tokens=True, vocabulary=None\n",
        ")\n",
        "char_vectorizer.adapt(X_train_chars)\n",
        "\n",
        "char_embedder = tf.keras.layers.Embedding(input_dim=len(char_vectorizer.get_vocabulary()), \n",
        "                             output_dim=516, \n",
        "                             mask_zero=True,\n",
        "                             embeddings_initializer=\"uniform\", \n",
        "                             input_length=char_out_len) \n",
        "\n",
        "#1. create all necessary sub-models\n",
        "#a. token-level model\n",
        "token_inputs = tf.keras.layers.Input(shape=[], dtype=\"string\", name=\"token_inputs\")\n",
        "token_embed_pretrained = use_layer(token_inputs)\n",
        "token_output = tf.keras.layers.Dense(128, activation=\"relu\")(token_embed_pretrained)  # NOTE: not num_classes for numnb rof units, as this is not the FINAL output layer, but only the token-level output layer before concatination with char-level model\n",
        "token_model = tf.keras.Model(token_inputs, token_output, name=\"token_embedding_model\")\n",
        "\n",
        "#b. char-level model\n",
        "char_inputs = tf.keras.layers.Input(shape=(1, ), dtype=\"string\", name=\"char_inputs\")\n",
        "char_vect = char_vectorizer(char_inputs)\n",
        "char_embed = char_embedder(char_vect)\n",
        "char_output = tf.keras.layers.Bidirectional(tf.keras.layers.LSTM(48, dropout=0.2))(char_embed)\n",
        "char_model = tf.keras.Model(char_inputs, char_output, name=\"char_embedding_model\")\n",
        "\n",
        "#c. line_number-level model\n",
        "line_num_inputs = tf.keras.layers.Input(shape=(20,),  dtype=tf.float32, name=\"line_num_inputs\")\n",
        "line_num_output = tf.keras.layers.Dense(units=64, activation=\"relu\")(line_num_inputs)  #NOTE: a Dense layer on its own acts like an embedding itself\n",
        "line_num_model = tf.keras.Model(line_num_inputs, line_num_output, name=\"line_num_model\")\n",
        "\n",
        "#d. total_lines-level model\n",
        "total_lines_inputs = tf.keras.layers.Input(shape=(20, ), dtype=tf.float32, name=\"total_lines_inputs\")\n",
        "total_lines_output = tf.keras.layers.Dense(units=64, activation=\"relu\")(total_lines_inputs)\n",
        "total_lines_model = tf.keras.Model(total_lines_inputs, total_lines_output, name=\"total_lines_model\")"
      ],
      "execution_count": 189,
      "outputs": []
    },
    {
      "cell_type": "code",
      "metadata": {
        "colab": {
          "base_uri": "https://localhost:8080/"
        },
        "id": "qEuAGzzjKCUl",
        "outputId": "a0ab6444-9a56-4fed-f75e-1c7228b1311f"
      },
      "source": [
        "char_model.summary();\n",
        "total_lines_model.summary();"
      ],
      "execution_count": 194,
      "outputs": [
        {
          "output_type": "stream",
          "name": "stdout",
          "text": [
            "Model: \"char_embedding_model\"\n",
            "_________________________________________________________________\n",
            "Layer (type)                 Output Shape              Param #   \n",
            "=================================================================\n",
            "char_inputs (InputLayer)     [(None, 1)]               0         \n",
            "_________________________________________________________________\n",
            "text_vectorization_9 (TextVe (None, 290)               0         \n",
            "_________________________________________________________________\n",
            "embedding_9 (Embedding)      (None, 290, 516)          14448     \n",
            "_________________________________________________________________\n",
            "bidirectional_10 (Bidirectio (None, 96)                216960    \n",
            "=================================================================\n",
            "Total params: 231,408\n",
            "Trainable params: 231,408\n",
            "Non-trainable params: 0\n",
            "_________________________________________________________________\n",
            "Model: \"total_lines_model\"\n",
            "_________________________________________________________________\n",
            "Layer (type)                 Output Shape              Param #   \n",
            "=================================================================\n",
            "total_lines_inputs (InputLay [(None, 20)]              0         \n",
            "_________________________________________________________________\n",
            "dense_22 (Dense)             (None, 64)                1344      \n",
            "=================================================================\n",
            "Total params: 1,344\n",
            "Trainable params: 1,344\n",
            "Non-trainable params: 0\n",
            "_________________________________________________________________\n"
          ]
        }
      ]
    },
    {
      "cell_type": "code",
      "metadata": {
        "id": "qpteX4hDI6Zv"
      },
      "source": [
        "#concatenate string-based models (token, char) creating a hyrid-token embedding\n",
        "hybrid_layer_string = tf.keras.layers.Concatenate(name=\"hybrid_layer_string\")([token_model.output, \n",
        "                                                                               char_model.output])"
      ],
      "execution_count": 195,
      "outputs": []
    },
    {
      "cell_type": "code",
      "metadata": {
        "id": "D0hyX0yKJZEq"
      },
      "source": [
        "#add output layers incl. drop-out to string-based-hybrid layer (again, reproducing the workflow of the paper)\n",
        "hybrid_dropout1 = tf.keras.layers.Dropout(0.4, name=\"hybrid_dropout_1\")(hybrid_layer_string)\n",
        "hybrid_dense = tf.keras.layers.Dense(128, activation=\"relu\", name=\"hybrid_dense_layer\")(hybrid_dropout1)\n",
        "hybrid_dropout2 = tf.keras.layers.Dropout(0.6, name=\"hybrid_dropout_2\")(hybrid_dense)\n",
        "hybrid_string_output = tf.keras.layers.Dense(num_classes, activation=\"softmax\", name=\"hybrid_layer_output\")(hybrid_dropout2)"
      ],
      "execution_count": 197,
      "outputs": []
    },
    {
      "cell_type": "code",
      "metadata": {
        "id": "9R4zYd24LF5o"
      },
      "source": [
        "#concatenate 3 models (string-based-hybrid, line_num and total_lines) creating a tririd-token embedding\n",
        "hybrid_layer4 = tf.keras.layers.Concatenate(name=\"hybrid4_layer\")([line_num_model.output,\n",
        "                                                                 total_lines_model.output,\n",
        "                                                                 hybrid_string_output]) #already a concatenated object -- use directlz instead of object output"
      ],
      "execution_count": 198,
      "outputs": []
    },
    {
      "cell_type": "code",
      "metadata": {
        "id": "gcfEr9YtKoZx"
      },
      "source": [
        "# create output layer"
      ],
      "execution_count": null,
      "outputs": []
    }
  ]
}